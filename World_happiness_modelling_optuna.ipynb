{
 "cells": [
  {
   "cell_type": "markdown",
   "metadata": {},
   "source": [
    "## 📊 Introduction\n",
    "\n",
    "The goal of this project is to analyze happiness scores across different countries over the years and identify which factors most strongly influence national well-being. By understanding which elements contribute positively or negatively to happiness—such as economic indicators, health, governance, and social support—we can help inform future policies and strategic planning aimed at improving quality of life globally.\n",
    "\n",
    "## Steps Followed\n",
    "\n",
    "- Data Exploration & Cleaning – Checked for missing values, handled inconsistencies, and prepared the dataset for analysis.\n",
    "\n",
    "- Exploratory Data Analysis (EDA) – Examined trends over time and across regions, computed correlations between happiness and other factors, and visualized key insights through heatmaps and scatter plots.\n",
    "\n",
    "- Data Visualization – Created global choropleth maps and line charts to showcase geographic and temporal patterns in happiness.\n",
    "\n",
    "- Model Training – Built and evaluated predictive models (Linear Regression, XGBoost) to quantify which factors have the strongest impact on happiness scores.\n",
    "\n",
    "- Conclusion & Insights – Summarized findings, highlighting that economic prosperity, health, and social support contribute most positively to happiness, while perceptions of corruption tend to lower it.\n"
   ]
  },
  {
   "cell_type": "markdown",
   "metadata": {},
   "source": [
    "## Why We Chose This Dataset\n",
    "\n",
    "We chose the **World Happiness Report dataset** because:\n",
    "\n",
    "- ✅ **Recent data** – it includes the latest available happiness scores up to **2024**, making the analysis timely and relevant.\n",
    "- 🌍 **Global coverage** – the dataset contains data from **~150+ countries**, allowing for broad cross-country comparisons.\n",
    "- 📊 **Rich indicators** – in addition to the main **Life Ladder (happiness score)**, it provides key explanatory factors such as:\n",
    "  - **Log GDP per capita** (economic prosperity)\n",
    "  - **Social support** (community strength)\n",
    "  - **Healthy life expectancy at birth** (health outcomes)\n",
    "  - **Freedom to make life choices**\n",
    "  - **Generosity**\n",
    "  - **Perceptions of corruption**\n",
    "  - **Positive and Negative affect** (emotional well-being)\n",
    "\n",
    "Together, these indicators make the dataset ideal for **exploring global happiness trends** and **building predictive models** to understand what truly drives happiness worldwide.\n"
   ]
  },
  {
   "cell_type": "code",
   "execution_count": 1,
   "metadata": {},
   "outputs": [
    {
     "name": "stdout",
     "output_type": "stream",
     "text": [
      "Requirement already satisfied: optuna in /Users/priti/anaconda3/lib/python3.10/site-packages (4.5.0)\n",
      "Requirement already satisfied: alembic>=1.5.0 in /Users/priti/anaconda3/lib/python3.10/site-packages (from optuna) (1.16.5)\n",
      "Requirement already satisfied: colorlog in /Users/priti/anaconda3/lib/python3.10/site-packages (from optuna) (6.9.0)\n",
      "Requirement already satisfied: numpy in /Users/priti/anaconda3/lib/python3.10/site-packages (from optuna) (1.23.5)\n",
      "Requirement already satisfied: packaging>=20.0 in /Users/priti/anaconda3/lib/python3.10/site-packages (from optuna) (22.0)\n",
      "Requirement already satisfied: sqlalchemy>=1.4.2 in /Users/priti/anaconda3/lib/python3.10/site-packages (from optuna) (2.0.36)\n",
      "Requirement already satisfied: tqdm in /Users/priti/anaconda3/lib/python3.10/site-packages (from optuna) (4.67.1)\n",
      "Requirement already satisfied: PyYAML in /Users/priti/anaconda3/lib/python3.10/site-packages (from optuna) (6.0.2)\n",
      "Requirement already satisfied: Mako in /Users/priti/anaconda3/lib/python3.10/site-packages (from alembic>=1.5.0->optuna) (1.3.10)\n",
      "Requirement already satisfied: typing-extensions>=4.12 in /Users/priti/anaconda3/lib/python3.10/site-packages (from alembic>=1.5.0->optuna) (4.12.2)\n",
      "Requirement already satisfied: tomli in /Users/priti/anaconda3/lib/python3.10/site-packages (from alembic>=1.5.0->optuna) (2.0.1)\n",
      "Requirement already satisfied: greenlet!=0.4.17 in /Users/priti/anaconda3/lib/python3.10/site-packages (from sqlalchemy>=1.4.2->optuna) (2.0.1)\n",
      "Requirement already satisfied: MarkupSafe>=0.9.2 in /Users/priti/anaconda3/lib/python3.10/site-packages (from Mako->alembic>=1.5.0->optuna) (2.1.1)\n",
      "Requirement already satisfied: xgboost in /Users/priti/anaconda3/lib/python3.10/site-packages (3.0.5)\n",
      "Requirement already satisfied: numpy in /Users/priti/anaconda3/lib/python3.10/site-packages (from xgboost) (1.23.5)\n",
      "Requirement already satisfied: scipy in /Users/priti/anaconda3/lib/python3.10/site-packages (from xgboost) (1.10.0)\n"
     ]
    }
   ],
   "source": [
    "!pip install optuna\n",
    "!pip install xgboost\n",
    "\n"
   ]
  },
  {
   "cell_type": "code",
   "execution_count": 2,
   "metadata": {},
   "outputs": [],
   "source": [
    "# installing libraries\n",
    "import pandas as pd\n",
    "import matplotlib.pyplot as plt\n",
    "import seaborn as sns\n",
    "import numpy as np\n",
    "import optuna\n",
    "import plotly.express as px\n",
    "\n",
    "import xgboost\n",
    "\n",
    "from sklearn.model_selection import train_test_split\n",
    "from sklearn.preprocessing import StandardScaler\n",
    "from sklearn.metrics import mean_absolute_error\n",
    "from sklearn.linear_model import LinearRegression\n",
    "\n",
    "import torch\n",
    "from torch import nn"
   ]
  },
  {
   "cell_type": "code",
   "execution_count": 3,
   "metadata": {},
   "outputs": [],
   "source": [
    "# read data\n",
    "world_happiness_df = pd.read_csv(\"World-happiness-report-updated_2024.csv\",  encoding=\"latin1\")"
   ]
  },
  {
   "cell_type": "code",
   "execution_count": 4,
   "metadata": {},
   "outputs": [
    {
     "data": {
      "text/plain": [
       "(2363, 11)"
      ]
     },
     "execution_count": 4,
     "metadata": {},
     "output_type": "execute_result"
    }
   ],
   "source": [
    "world_happiness_df.shape"
   ]
  },
  {
   "cell_type": "markdown",
   "metadata": {},
   "source": [
    "- There are 2,363 rows and 11 columns.\n"
   ]
  },
  {
   "cell_type": "code",
   "execution_count": 5,
   "metadata": {},
   "outputs": [
    {
     "data": {
      "text/html": [
       "<div>\n",
       "<style scoped>\n",
       "    .dataframe tbody tr th:only-of-type {\n",
       "        vertical-align: middle;\n",
       "    }\n",
       "\n",
       "    .dataframe tbody tr th {\n",
       "        vertical-align: top;\n",
       "    }\n",
       "\n",
       "    .dataframe thead th {\n",
       "        text-align: right;\n",
       "    }\n",
       "</style>\n",
       "<table border=\"1\" class=\"dataframe\">\n",
       "  <thead>\n",
       "    <tr style=\"text-align: right;\">\n",
       "      <th></th>\n",
       "      <th>Country name</th>\n",
       "      <th>year</th>\n",
       "      <th>Life Ladder</th>\n",
       "      <th>Log GDP per capita</th>\n",
       "      <th>Social support</th>\n",
       "      <th>Healthy life expectancy at birth</th>\n",
       "      <th>Freedom to make life choices</th>\n",
       "      <th>Generosity</th>\n",
       "      <th>Perceptions of corruption</th>\n",
       "      <th>Positive affect</th>\n",
       "      <th>Negative affect</th>\n",
       "    </tr>\n",
       "  </thead>\n",
       "  <tbody>\n",
       "    <tr>\n",
       "      <th>411</th>\n",
       "      <td>China</td>\n",
       "      <td>2011</td>\n",
       "      <td>5.037</td>\n",
       "      <td>9.178</td>\n",
       "      <td>0.787</td>\n",
       "      <td>66.96</td>\n",
       "      <td>0.824</td>\n",
       "      <td>-0.192</td>\n",
       "      <td>NaN</td>\n",
       "      <td>0.710</td>\n",
       "      <td>0.134</td>\n",
       "    </tr>\n",
       "    <tr>\n",
       "      <th>1342</th>\n",
       "      <td>Mauritius</td>\n",
       "      <td>2011</td>\n",
       "      <td>5.477</td>\n",
       "      <td>9.797</td>\n",
       "      <td>0.800</td>\n",
       "      <td>63.52</td>\n",
       "      <td>0.848</td>\n",
       "      <td>0.184</td>\n",
       "      <td>0.847</td>\n",
       "      <td>0.653</td>\n",
       "      <td>0.253</td>\n",
       "    </tr>\n",
       "    <tr>\n",
       "      <th>1573</th>\n",
       "      <td>North Macedonia</td>\n",
       "      <td>2015</td>\n",
       "      <td>4.976</td>\n",
       "      <td>9.625</td>\n",
       "      <td>0.766</td>\n",
       "      <td>65.30</td>\n",
       "      <td>0.660</td>\n",
       "      <td>-0.053</td>\n",
       "      <td>0.824</td>\n",
       "      <td>0.551</td>\n",
       "      <td>0.299</td>\n",
       "    </tr>\n",
       "    <tr>\n",
       "      <th>1326</th>\n",
       "      <td>Malta</td>\n",
       "      <td>2023</td>\n",
       "      <td>6.295</td>\n",
       "      <td>NaN</td>\n",
       "      <td>0.912</td>\n",
       "      <td>71.70</td>\n",
       "      <td>0.851</td>\n",
       "      <td>NaN</td>\n",
       "      <td>0.780</td>\n",
       "      <td>0.644</td>\n",
       "      <td>0.361</td>\n",
       "    </tr>\n",
       "    <tr>\n",
       "      <th>1257</th>\n",
       "      <td>Madagascar</td>\n",
       "      <td>2016</td>\n",
       "      <td>3.663</td>\n",
       "      <td>7.332</td>\n",
       "      <td>0.746</td>\n",
       "      <td>56.55</td>\n",
       "      <td>0.570</td>\n",
       "      <td>-0.072</td>\n",
       "      <td>0.864</td>\n",
       "      <td>0.670</td>\n",
       "      <td>0.204</td>\n",
       "    </tr>\n",
       "  </tbody>\n",
       "</table>\n",
       "</div>"
      ],
      "text/plain": [
       "         Country name  year  Life Ladder  Log GDP per capita  Social support  \\\n",
       "411             China  2011        5.037               9.178           0.787   \n",
       "1342        Mauritius  2011        5.477               9.797           0.800   \n",
       "1573  North Macedonia  2015        4.976               9.625           0.766   \n",
       "1326            Malta  2023        6.295                 NaN           0.912   \n",
       "1257       Madagascar  2016        3.663               7.332           0.746   \n",
       "\n",
       "      Healthy life expectancy at birth  Freedom to make life choices  \\\n",
       "411                              66.96                         0.824   \n",
       "1342                             63.52                         0.848   \n",
       "1573                             65.30                         0.660   \n",
       "1326                             71.70                         0.851   \n",
       "1257                             56.55                         0.570   \n",
       "\n",
       "      Generosity  Perceptions of corruption  Positive affect  Negative affect  \n",
       "411       -0.192                        NaN            0.710            0.134  \n",
       "1342       0.184                      0.847            0.653            0.253  \n",
       "1573      -0.053                      0.824            0.551            0.299  \n",
       "1326         NaN                      0.780            0.644            0.361  \n",
       "1257      -0.072                      0.864            0.670            0.204  "
      ]
     },
     "execution_count": 5,
     "metadata": {},
     "output_type": "execute_result"
    }
   ],
   "source": [
    "world_happiness_df.sample(5)"
   ]
  },
  {
   "cell_type": "code",
   "execution_count": 6,
   "metadata": {},
   "outputs": [
    {
     "data": {
      "text/plain": [
       "Index(['Country name', 'year', 'Life Ladder', 'Log GDP per capita',\n",
       "       'Social support', 'Healthy life expectancy at birth',\n",
       "       'Freedom to make life choices', 'Generosity',\n",
       "       'Perceptions of corruption', 'Positive affect', 'Negative affect'],\n",
       "      dtype='object')"
      ]
     },
     "execution_count": 6,
     "metadata": {},
     "output_type": "execute_result"
    }
   ],
   "source": [
    "world_happiness_df.columns"
   ]
  },
  {
   "cell_type": "markdown",
   "metadata": {},
   "source": [
    "Life Ladder → This is the actual happiness score (0–10).\n",
    "\n",
    "Log GDP per capita → Economic factor, log-scaled for comparability.\n",
    "\n",
    "Social support → Proportion of people with someone to rely on.\n",
    "\n",
    "Healthy life expectancy at birth → Years expected in good health.\n",
    "\n",
    "Freedom to make life choices → Satisfaction with freedom.\n",
    "\n",
    "Generosity → Adjusted measure of charitable giving (can be negative).\n",
    "\n",
    "Perceptions of corruption → Higher values = higher perceived corruption.\n",
    "\n",
    "Positive affect / Negative affect → Average emotions reported.\n",
    "\n",
    "Year → Lets you see trends over time.\n"
   ]
  },
  {
   "cell_type": "code",
   "execution_count": 7,
   "metadata": {},
   "outputs": [
    {
     "data": {
      "text/html": [
       "<div>\n",
       "<style scoped>\n",
       "    .dataframe tbody tr th:only-of-type {\n",
       "        vertical-align: middle;\n",
       "    }\n",
       "\n",
       "    .dataframe tbody tr th {\n",
       "        vertical-align: top;\n",
       "    }\n",
       "\n",
       "    .dataframe thead th {\n",
       "        text-align: right;\n",
       "    }\n",
       "</style>\n",
       "<table border=\"1\" class=\"dataframe\">\n",
       "  <thead>\n",
       "    <tr style=\"text-align: right;\">\n",
       "      <th></th>\n",
       "      <th>Country name</th>\n",
       "      <th>year</th>\n",
       "      <th>Life Ladder</th>\n",
       "      <th>Log GDP per capita</th>\n",
       "      <th>Social support</th>\n",
       "      <th>Healthy life expectancy at birth</th>\n",
       "      <th>Freedom to make life choices</th>\n",
       "      <th>Generosity</th>\n",
       "      <th>Perceptions of corruption</th>\n",
       "      <th>Positive affect</th>\n",
       "      <th>Negative affect</th>\n",
       "    </tr>\n",
       "  </thead>\n",
       "  <tbody>\n",
       "    <tr>\n",
       "      <th>0</th>\n",
       "      <td>Afghanistan</td>\n",
       "      <td>2008</td>\n",
       "      <td>3.724</td>\n",
       "      <td>7.350</td>\n",
       "      <td>0.451</td>\n",
       "      <td>50.5</td>\n",
       "      <td>0.718</td>\n",
       "      <td>0.164</td>\n",
       "      <td>0.882</td>\n",
       "      <td>0.414</td>\n",
       "      <td>0.258</td>\n",
       "    </tr>\n",
       "    <tr>\n",
       "      <th>1</th>\n",
       "      <td>Afghanistan</td>\n",
       "      <td>2009</td>\n",
       "      <td>4.402</td>\n",
       "      <td>7.509</td>\n",
       "      <td>0.552</td>\n",
       "      <td>50.8</td>\n",
       "      <td>0.679</td>\n",
       "      <td>0.187</td>\n",
       "      <td>0.850</td>\n",
       "      <td>0.481</td>\n",
       "      <td>0.237</td>\n",
       "    </tr>\n",
       "    <tr>\n",
       "      <th>2</th>\n",
       "      <td>Afghanistan</td>\n",
       "      <td>2010</td>\n",
       "      <td>4.758</td>\n",
       "      <td>7.614</td>\n",
       "      <td>0.539</td>\n",
       "      <td>51.1</td>\n",
       "      <td>0.600</td>\n",
       "      <td>0.118</td>\n",
       "      <td>0.707</td>\n",
       "      <td>0.517</td>\n",
       "      <td>0.275</td>\n",
       "    </tr>\n",
       "    <tr>\n",
       "      <th>3</th>\n",
       "      <td>Afghanistan</td>\n",
       "      <td>2011</td>\n",
       "      <td>3.832</td>\n",
       "      <td>7.581</td>\n",
       "      <td>0.521</td>\n",
       "      <td>51.4</td>\n",
       "      <td>0.496</td>\n",
       "      <td>0.160</td>\n",
       "      <td>0.731</td>\n",
       "      <td>0.480</td>\n",
       "      <td>0.267</td>\n",
       "    </tr>\n",
       "    <tr>\n",
       "      <th>4</th>\n",
       "      <td>Afghanistan</td>\n",
       "      <td>2012</td>\n",
       "      <td>3.783</td>\n",
       "      <td>7.661</td>\n",
       "      <td>0.521</td>\n",
       "      <td>51.7</td>\n",
       "      <td>0.531</td>\n",
       "      <td>0.234</td>\n",
       "      <td>0.776</td>\n",
       "      <td>0.614</td>\n",
       "      <td>0.268</td>\n",
       "    </tr>\n",
       "  </tbody>\n",
       "</table>\n",
       "</div>"
      ],
      "text/plain": [
       "  Country name  year  Life Ladder  Log GDP per capita  Social support  \\\n",
       "0  Afghanistan  2008        3.724               7.350           0.451   \n",
       "1  Afghanistan  2009        4.402               7.509           0.552   \n",
       "2  Afghanistan  2010        4.758               7.614           0.539   \n",
       "3  Afghanistan  2011        3.832               7.581           0.521   \n",
       "4  Afghanistan  2012        3.783               7.661           0.521   \n",
       "\n",
       "   Healthy life expectancy at birth  Freedom to make life choices  Generosity  \\\n",
       "0                              50.5                         0.718       0.164   \n",
       "1                              50.8                         0.679       0.187   \n",
       "2                              51.1                         0.600       0.118   \n",
       "3                              51.4                         0.496       0.160   \n",
       "4                              51.7                         0.531       0.234   \n",
       "\n",
       "   Perceptions of corruption  Positive affect  Negative affect  \n",
       "0                      0.882            0.414            0.258  \n",
       "1                      0.850            0.481            0.237  \n",
       "2                      0.707            0.517            0.275  \n",
       "3                      0.731            0.480            0.267  \n",
       "4                      0.776            0.614            0.268  "
      ]
     },
     "execution_count": 7,
     "metadata": {},
     "output_type": "execute_result"
    }
   ],
   "source": [
    "# understanding data\n",
    "world_happiness_df.head()"
   ]
  },
  {
   "cell_type": "code",
   "execution_count": 8,
   "metadata": {},
   "outputs": [
    {
     "data": {
      "text/html": [
       "<div>\n",
       "<style scoped>\n",
       "    .dataframe tbody tr th:only-of-type {\n",
       "        vertical-align: middle;\n",
       "    }\n",
       "\n",
       "    .dataframe tbody tr th {\n",
       "        vertical-align: top;\n",
       "    }\n",
       "\n",
       "    .dataframe thead th {\n",
       "        text-align: right;\n",
       "    }\n",
       "</style>\n",
       "<table border=\"1\" class=\"dataframe\">\n",
       "  <thead>\n",
       "    <tr style=\"text-align: right;\">\n",
       "      <th></th>\n",
       "      <th>year</th>\n",
       "      <th>Life Ladder</th>\n",
       "      <th>Log GDP per capita</th>\n",
       "      <th>Social support</th>\n",
       "      <th>Healthy life expectancy at birth</th>\n",
       "      <th>Freedom to make life choices</th>\n",
       "      <th>Generosity</th>\n",
       "      <th>Perceptions of corruption</th>\n",
       "      <th>Positive affect</th>\n",
       "      <th>Negative affect</th>\n",
       "    </tr>\n",
       "  </thead>\n",
       "  <tbody>\n",
       "    <tr>\n",
       "      <th>count</th>\n",
       "      <td>2363.000000</td>\n",
       "      <td>2363.000000</td>\n",
       "      <td>2335.000000</td>\n",
       "      <td>2350.000000</td>\n",
       "      <td>2300.000000</td>\n",
       "      <td>2327.000000</td>\n",
       "      <td>2282.000000</td>\n",
       "      <td>2238.000000</td>\n",
       "      <td>2339.000000</td>\n",
       "      <td>2347.000000</td>\n",
       "    </tr>\n",
       "    <tr>\n",
       "      <th>mean</th>\n",
       "      <td>2014.763860</td>\n",
       "      <td>5.483566</td>\n",
       "      <td>9.399671</td>\n",
       "      <td>0.809369</td>\n",
       "      <td>63.401828</td>\n",
       "      <td>0.750282</td>\n",
       "      <td>0.000098</td>\n",
       "      <td>0.743971</td>\n",
       "      <td>0.651882</td>\n",
       "      <td>0.273151</td>\n",
       "    </tr>\n",
       "    <tr>\n",
       "      <th>std</th>\n",
       "      <td>5.059436</td>\n",
       "      <td>1.125522</td>\n",
       "      <td>1.152069</td>\n",
       "      <td>0.121212</td>\n",
       "      <td>6.842644</td>\n",
       "      <td>0.139357</td>\n",
       "      <td>0.161388</td>\n",
       "      <td>0.184865</td>\n",
       "      <td>0.106240</td>\n",
       "      <td>0.087131</td>\n",
       "    </tr>\n",
       "    <tr>\n",
       "      <th>min</th>\n",
       "      <td>2005.000000</td>\n",
       "      <td>1.281000</td>\n",
       "      <td>5.527000</td>\n",
       "      <td>0.228000</td>\n",
       "      <td>6.720000</td>\n",
       "      <td>0.228000</td>\n",
       "      <td>-0.340000</td>\n",
       "      <td>0.035000</td>\n",
       "      <td>0.179000</td>\n",
       "      <td>0.083000</td>\n",
       "    </tr>\n",
       "    <tr>\n",
       "      <th>25%</th>\n",
       "      <td>2011.000000</td>\n",
       "      <td>4.647000</td>\n",
       "      <td>8.506500</td>\n",
       "      <td>0.744000</td>\n",
       "      <td>59.195000</td>\n",
       "      <td>0.661000</td>\n",
       "      <td>-0.112000</td>\n",
       "      <td>0.687000</td>\n",
       "      <td>0.572000</td>\n",
       "      <td>0.209000</td>\n",
       "    </tr>\n",
       "    <tr>\n",
       "      <th>50%</th>\n",
       "      <td>2015.000000</td>\n",
       "      <td>5.449000</td>\n",
       "      <td>9.503000</td>\n",
       "      <td>0.834500</td>\n",
       "      <td>65.100000</td>\n",
       "      <td>0.771000</td>\n",
       "      <td>-0.022000</td>\n",
       "      <td>0.798500</td>\n",
       "      <td>0.663000</td>\n",
       "      <td>0.262000</td>\n",
       "    </tr>\n",
       "    <tr>\n",
       "      <th>75%</th>\n",
       "      <td>2019.000000</td>\n",
       "      <td>6.323500</td>\n",
       "      <td>10.392500</td>\n",
       "      <td>0.904000</td>\n",
       "      <td>68.552500</td>\n",
       "      <td>0.862000</td>\n",
       "      <td>0.093750</td>\n",
       "      <td>0.867750</td>\n",
       "      <td>0.737000</td>\n",
       "      <td>0.326000</td>\n",
       "    </tr>\n",
       "    <tr>\n",
       "      <th>max</th>\n",
       "      <td>2023.000000</td>\n",
       "      <td>8.019000</td>\n",
       "      <td>11.676000</td>\n",
       "      <td>0.987000</td>\n",
       "      <td>74.600000</td>\n",
       "      <td>0.985000</td>\n",
       "      <td>0.700000</td>\n",
       "      <td>0.983000</td>\n",
       "      <td>0.884000</td>\n",
       "      <td>0.705000</td>\n",
       "    </tr>\n",
       "  </tbody>\n",
       "</table>\n",
       "</div>"
      ],
      "text/plain": [
       "              year  Life Ladder  Log GDP per capita  Social support  \\\n",
       "count  2363.000000  2363.000000         2335.000000     2350.000000   \n",
       "mean   2014.763860     5.483566            9.399671        0.809369   \n",
       "std       5.059436     1.125522            1.152069        0.121212   \n",
       "min    2005.000000     1.281000            5.527000        0.228000   \n",
       "25%    2011.000000     4.647000            8.506500        0.744000   \n",
       "50%    2015.000000     5.449000            9.503000        0.834500   \n",
       "75%    2019.000000     6.323500           10.392500        0.904000   \n",
       "max    2023.000000     8.019000           11.676000        0.987000   \n",
       "\n",
       "       Healthy life expectancy at birth  Freedom to make life choices  \\\n",
       "count                       2300.000000                   2327.000000   \n",
       "mean                          63.401828                      0.750282   \n",
       "std                            6.842644                      0.139357   \n",
       "min                            6.720000                      0.228000   \n",
       "25%                           59.195000                      0.661000   \n",
       "50%                           65.100000                      0.771000   \n",
       "75%                           68.552500                      0.862000   \n",
       "max                           74.600000                      0.985000   \n",
       "\n",
       "        Generosity  Perceptions of corruption  Positive affect  \\\n",
       "count  2282.000000                2238.000000      2339.000000   \n",
       "mean      0.000098                   0.743971         0.651882   \n",
       "std       0.161388                   0.184865         0.106240   \n",
       "min      -0.340000                   0.035000         0.179000   \n",
       "25%      -0.112000                   0.687000         0.572000   \n",
       "50%      -0.022000                   0.798500         0.663000   \n",
       "75%       0.093750                   0.867750         0.737000   \n",
       "max       0.700000                   0.983000         0.884000   \n",
       "\n",
       "       Negative affect  \n",
       "count      2347.000000  \n",
       "mean          0.273151  \n",
       "std           0.087131  \n",
       "min           0.083000  \n",
       "25%           0.209000  \n",
       "50%           0.262000  \n",
       "75%           0.326000  \n",
       "max           0.705000  "
      ]
     },
     "execution_count": 8,
     "metadata": {},
     "output_type": "execute_result"
    }
   ],
   "source": [
    "# Statistical summary of the data\n",
    "world_happiness_df.describe()"
   ]
  },
  {
   "cell_type": "code",
   "execution_count": 9,
   "metadata": {},
   "outputs": [
    {
     "name": "stdout",
     "output_type": "stream",
     "text": [
      "<class 'pandas.core.frame.DataFrame'>\n",
      "RangeIndex: 2363 entries, 0 to 2362\n",
      "Data columns (total 11 columns):\n",
      " #   Column                            Non-Null Count  Dtype  \n",
      "---  ------                            --------------  -----  \n",
      " 0   Country name                      2363 non-null   object \n",
      " 1   year                              2363 non-null   int64  \n",
      " 2   Life Ladder                       2363 non-null   float64\n",
      " 3   Log GDP per capita                2335 non-null   float64\n",
      " 4   Social support                    2350 non-null   float64\n",
      " 5   Healthy life expectancy at birth  2300 non-null   float64\n",
      " 6   Freedom to make life choices      2327 non-null   float64\n",
      " 7   Generosity                        2282 non-null   float64\n",
      " 8   Perceptions of corruption         2238 non-null   float64\n",
      " 9   Positive affect                   2339 non-null   float64\n",
      " 10  Negative affect                   2347 non-null   float64\n",
      "dtypes: float64(9), int64(1), object(1)\n",
      "memory usage: 203.2+ KB\n"
     ]
    }
   ],
   "source": [
    "# Understanding data types and missing values\n",
    "world_happiness_df.info()"
   ]
  },
  {
   "cell_type": "markdown",
   "metadata": {},
   "source": [
    "- There are few missing data here.\n"
   ]
  },
  {
   "cell_type": "code",
   "execution_count": 10,
   "metadata": {},
   "outputs": [
    {
     "data": {
      "text/plain": [
       "array(['Afghanistan', 'Albania', 'Algeria', 'Angola', 'Argentina',\n",
       "       'Armenia', 'Australia', 'Austria', 'Azerbaijan', 'Bahrain',\n",
       "       'Bangladesh', 'Belarus', 'Belgium', 'Belize', 'Benin', 'Bhutan',\n",
       "       'Bolivia', 'Bosnia and Herzegovina', 'Botswana', 'Brazil',\n",
       "       'Bulgaria', 'Burkina Faso', 'Burundi', 'Cambodia', 'Cameroon',\n",
       "       'Canada', 'Central African Republic', 'Chad', 'Chile', 'China',\n",
       "       'Colombia', 'Comoros', 'Congo (Brazzaville)', 'Congo (Kinshasa)',\n",
       "       'Costa Rica', 'Croatia', 'Cuba', 'Cyprus', 'Czechia', 'Denmark',\n",
       "       'Djibouti', 'Dominican Republic', 'Ecuador', 'Egypt',\n",
       "       'El Salvador', 'Estonia', 'Eswatini', 'Ethiopia', 'Finland',\n",
       "       'France', 'Gabon', 'Gambia', 'Georgia', 'Germany', 'Ghana',\n",
       "       'Greece', 'Guatemala', 'Guinea', 'Guyana', 'Haiti', 'Honduras',\n",
       "       'Hong Kong S.A.R. of China', 'Hungary', 'Iceland', 'India',\n",
       "       'Indonesia', 'Iran', 'Iraq', 'Ireland', 'Israel', 'Italy',\n",
       "       'Ivory Coast', 'Jamaica', 'Japan', 'Jordan', 'Kazakhstan', 'Kenya',\n",
       "       'Kosovo', 'Kuwait', 'Kyrgyzstan', 'Laos', 'Latvia', 'Lebanon',\n",
       "       'Lesotho', 'Liberia', 'Libya', 'Lithuania', 'Luxembourg',\n",
       "       'Madagascar', 'Malawi', 'Malaysia', 'Maldives', 'Mali', 'Malta',\n",
       "       'Mauritania', 'Mauritius', 'Mexico', 'Moldova', 'Mongolia',\n",
       "       'Montenegro', 'Morocco', 'Mozambique', 'Myanmar', 'Namibia',\n",
       "       'Nepal', 'Netherlands', 'New Zealand', 'Nicaragua', 'Niger',\n",
       "       'Nigeria', 'North Macedonia', 'Norway', 'Oman', 'Pakistan',\n",
       "       'Panama', 'Paraguay', 'Peru', 'Philippines', 'Poland', 'Portugal',\n",
       "       'Qatar', 'Romania', 'Russia', 'Rwanda', 'Saudi Arabia', 'Senegal',\n",
       "       'Serbia', 'Sierra Leone', 'Singapore', 'Slovakia', 'Slovenia',\n",
       "       'Somalia', 'Somaliland region', 'South Africa', 'South Korea',\n",
       "       'South Sudan', 'Spain', 'Sri Lanka', 'State of Palestine', 'Sudan',\n",
       "       'Suriname', 'Sweden', 'Switzerland', 'Syria',\n",
       "       'Taiwan Province of China', 'Tajikistan', 'Tanzania', 'Thailand',\n",
       "       'Togo', 'Trinidad and Tobago', 'Tunisia', 'Turkmenistan',\n",
       "       'Türkiye', 'Uganda', 'Ukraine', 'United Arab Emirates',\n",
       "       'United Kingdom', 'United States', 'Uruguay', 'Uzbekistan',\n",
       "       'Venezuela', 'Vietnam', 'Yemen', 'Zambia', 'Zimbabwe'],\n",
       "      dtype=object)"
      ]
     },
     "execution_count": 10,
     "metadata": {},
     "output_type": "execute_result"
    }
   ],
   "source": [
    "world_happiness_df[\"Country name\"].unique()"
   ]
  },
  {
   "cell_type": "markdown",
   "metadata": {},
   "source": [
    "### Visualization\n"
   ]
  },
  {
   "cell_type": "code",
   "execution_count": 11,
   "metadata": {},
   "outputs": [],
   "source": [
    "df = world_happiness_df.copy()"
   ]
  },
  {
   "cell_type": "markdown",
   "metadata": {},
   "source": [
    "### Top and Bottom 10 Countries by Happiness (2024)\n",
    "\n",
    "To get an overview of global happiness in the most recent year, we look at the **Life Ladder** scores:\n",
    "\n",
    "- The **top 10 happiest countries** have the highest average Life Ladder scores.\n",
    "- The **bottom 10 countries** show where people report the lowest perceived well-being.\n",
    "\n",
    "These bar charts highlight the wide gap in happiness levels across the world and set the stage for exploring what factors (GDP, social support, life expectancy, etc.) might explain these differences.\n"
   ]
  },
  {
   "cell_type": "code",
   "execution_count": 12,
   "metadata": {},
   "outputs": [
    {
     "data": {
      "image/png": "[encoded data removed]",
      "text/plain": [
       "<Figure size 1000x500 with 1 Axes>"
      ]
     },
     "metadata": {},
     "output_type": "display_data"
    },
    {
     "data": {
      "image/png": "[encoded data removed]",
      "text/plain": [
       "<Figure size 1000x500 with 1 Axes>"
      ]
     },
     "metadata": {},
     "output_type": "display_data"
    }
   ],
   "source": [
    "# Filter for latest year (2024 if available)\n",
    "latest = df[df['year'] == df['year'].max()]\n",
    "\n",
    "top10 = latest.nlargest(10, 'Life Ladder')\n",
    "bottom10 = latest.nsmallest(10, 'Life Ladder')\n",
    "\n",
    "plt.figure(figsize=(10,5))\n",
    "sns.barplot(data=top10, x='Life Ladder', y='Country name', palette=\"viridis\")\n",
    "plt.title(\"Top 10 Happiest Countries (2024)\")\n",
    "plt.show()\n",
    "\n",
    "plt.figure(figsize=(10,5))\n",
    "sns.barplot(data=bottom10, x='Life Ladder', y='Country name', palette=\"magma\")\n",
    "plt.title(\"Bottom 10 Happiest Countries (2024)\")\n",
    "plt.show()"
   ]
  },
  {
   "cell_type": "code",
   "execution_count": 13,
   "metadata": {},
   "outputs": [
    {
     "name": "stdout",
     "output_type": "stream",
     "text": [
      "Number of countries in 2020 data: 116\n"
     ]
    },
    {
     "data": {
      "application/vnd.plotly.v1+json": {
       "config": {
        "plotlyServerURL": "https://plot.ly"
       },
       "data": [
        {
         "coloraxis": "coloraxis",
         "customdata": [
          [
           5.365,
           9.494,
           0.71,
           69.125,
           0.754,
           0.002,
           0.891
          ],
          [
           5.438,
           9.291,
           0.868,
           66.5,
           0.574,
           -0.124,
           0.724
          ],
          [
           5.901,
           9.888,
           0.897,
           67.15,
           0.823,
           -0.131,
           0.816
          ],
          [
           7.137,
           10.794,
           0.937,
           70.975,
           0.905,
           0.202,
           0.491
          ],
          [
           7.213,
           10.859,
           0.925,
           71.025,
           0.912,
           0.004,
           0.464
          ],
          [
           6.173,
           10.779,
           0.848,
           65.825,
           0.945,
           0.115,
           null
          ],
          [
           5.28,
           8.629,
           0.739,
           64.425,
           0.777,
           -0.025,
           0.742
          ],
          [
           6.839,
           10.799,
           0.904,
           70.75,
           0.767,
           -0.172,
           0.634
          ],
          [
           4.408,
           8.067,
           0.507,
           55.8,
           0.783,
           -0.086,
           0.532
          ],
          [
           5.559,
           8.946,
           0.805,
           63.45,
           0.877,
           -0.056,
           0.868
          ],
          [
           5.516,
           9.588,
           0.899,
           67.25,
           0.74,
           0.132,
           0.916
          ],
          [
           6.11,
           9.555,
           0.831,
           65.575,
           0.786,
           -0.061,
           0.729
          ],
          [
           5.598,
           10.02,
           0.916,
           66.4,
           0.818,
           -0.012,
           0.901
          ],
          [
           4.64,
           7.647,
           0.668,
           55.275,
           0.75,
           0.12,
           0.809
          ],
          [
           4.377,
           8.361,
           0.724,
           61.7,
           0.963,
           0.047,
           0.863
          ],
          [
           5.241,
           8.207,
           0.72,
           55.175,
           0.675,
           0.042,
           0.837
          ],
          [
           7.025,
           10.74,
           0.931,
           71.35,
           0.887,
           0.043,
           0.434
          ],
          [
           6.151,
           10.042,
           0.888,
           70.15,
           0.781,
           0.026,
           0.812
          ],
          [
           5.771,
           9.699,
           0.808,
           68.625,
           0.891,
           -0.109,
           null
          ],
          [
           5.709,
           9.5,
           0.797,
           69.175,
           0.84,
           -0.091,
           0.808
          ],
          [
           5.079,
           8.127,
           0.597,
           56.525,
           0.761,
           -0.024,
           0.728
          ],
          [
           6.338,
           9.892,
           0.834,
           70,
           0.889,
           -0.139,
           0.772
          ],
          [
           6.508,
           10.202,
           0.923,
           68.775,
           0.837,
           -0.071,
           0.961
          ],
          [
           6.26,
           10.583,
           0.806,
           72.6,
           0.763,
           -0.086,
           0.816
          ],
          [
           6.897,
           10.562,
           0.964,
           68.925,
           0.906,
           -0.135,
           0.884
          ],
          [
           7.515,
           10.924,
           0.947,
           71.125,
           0.938,
           0.045,
           0.214
          ],
          [
           5.168,
           9.727,
           0.806,
           64.2,
           0.835,
           -0.128,
           0.636
          ],
          [
           5.354,
           9.245,
           0.804,
           68.75,
           0.829,
           -0.163,
           0.855
          ],
          [
           4.472,
           9.392,
           0.673,
           63.25,
           0.77,
           -0.119,
           null
          ],
          [
           5.462,
           9.023,
           0.696,
           65.25,
           0.924,
           -0.132,
           0.583
          ],
          [
           6.453,
           10.488,
           0.958,
           69.425,
           0.954,
           -0.09,
           0.398
          ],
          [
           4.549,
           7.72,
           0.823,
           60.3,
           0.769,
           0.183,
           0.784
          ],
          [
           7.889,
           10.766,
           0.962,
           71.075,
           0.962,
           -0.123,
           0.164
          ],
          [
           6.714,
           10.651,
           0.947,
           72.2,
           0.823,
           -0.176,
           0.565
          ],
          [
           4.887,
           9.54,
           0.701,
           57.925,
           0.528,
           -0.194,
           0.789
          ],
          [
           5.123,
           9.544,
           0.718,
           64.825,
           0.764,
           -0.225,
           0.583
          ],
          [
           7.312,
           10.856,
           0.905,
           71.1,
           0.864,
           -0.068,
           0.424
          ],
          [
           5.319,
           8.569,
           0.643,
           58.375,
           0.824,
           0.196,
           0.847
          ],
          [
           5.788,
           10.207,
           0.779,
           71.025,
           0.565,
           -0.246,
           0.764
          ],
          [
           4.972,
           7.865,
           0.732,
           53.75,
           0.598,
           0.075,
           0.79
          ],
          [
           5.295,
           10.931,
           0.813,
           null,
           0.705,
           -0.076,
           0.38
          ],
          [
           6.038,
           10.349,
           0.943,
           67.35,
           0.771,
           -0.127,
           0.836
          ],
          [
           7.575,
           10.852,
           0.983,
           72.025,
           0.949,
           0.152,
           0.644
          ],
          [
           4.224,
           8.728,
           0.616,
           60.6,
           0.906,
           0.068,
           0.78
          ],
          [
           4.828,
           9.351,
           0.751,
           62.925,
           0.853,
           0.529,
           0.914
          ],
          [
           4.865,
           9.577,
           0.757,
           66.45,
           0.6,
           0.13,
           0.71
          ],
          [
           4.785,
           9.088,
           0.708,
           63.175,
           0.7,
           -0.021,
           0.849
          ],
          [
           7.035,
           11.423,
           0.96,
           71.2,
           0.882,
           0,
           0.356
          ],
          [
           7.195,
           10.589,
           0.959,
           72.55,
           0.831,
           -0.059,
           0.748
          ],
          [
           6.488,
           10.574,
           0.89,
           71.975,
           0.718,
           -0.157,
           0.844
          ],
          [
           5.257,
           8.535,
           0.613,
           55.375,
           0.77,
           0.012,
           0.777
          ],
          [
           5.425,
           9.128,
           0.87,
           66.6,
           0.865,
           -0.152,
           0.836
          ],
          [
           6.118,
           10.596,
           0.887,
           74.225,
           0.806,
           -0.266,
           0.609
          ],
          [
           4.094,
           9.125,
           0.709,
           67.6,
           0.779,
           -0.154,
           null
          ],
          [
           6.168,
           10.141,
           0.966,
           65.4,
           0.872,
           -0.062,
           0.661
          ],
          [
           4.547,
           8.411,
           0.674,
           58.1,
           0.702,
           0.251,
           0.837
          ],
          [
           6.294,
           9.279,
           0.792,
           null,
           0.88,
           0.302,
           0.91
          ],
          [
           6.25,
           8.461,
           0.902,
           66.325,
           0.935,
           0.101,
           0.931
          ],
          [
           5.284,
           8.957,
           0.66,
           60.8,
           0.915,
           0.136,
           0.748
          ],
          [
           6.229,
           10.328,
           0.928,
           66.3,
           0.82,
           -0.086,
           0.809
          ],
          [
           2.634,
           9.532,
           0.547,
           66.075,
           0.552,
           -0.139,
           0.884
          ],
          [
           6.391,
           10.523,
           0.953,
           67.05,
           0.824,
           -0.129,
           0.829
          ],
          [
           6.014,
           10.159,
           0.797,
           65.675,
           0.878,
           0.096,
           0.747
          ],
          [
           4.269,
           7.661,
           0.568,
           55,
           0.645,
           -0.069,
           0.895
          ],
          [
           6.157,
           10.622,
           0.938,
           71.55,
           0.931,
           -0.005,
           0.675
          ],
          [
           6.015,
           9.914,
           0.893,
           63.875,
           0.843,
           -0.038,
           0.772
          ],
          [
           5.964,
           9.816,
           0.779,
           65.8,
           0.873,
           -0.128,
           0.778
          ],
          [
           5.812,
           9.38,
           0.874,
           64.9,
           0.859,
           -0.058,
           0.941
          ],
          [
           6.011,
           9.365,
           0.918,
           60.4,
           0.718,
           0.138,
           0.843
          ],
          [
           5.722,
           9.812,
           0.887,
           67.1,
           0.802,
           0.061,
           0.845
          ],
          [
           4.803,
           8.929,
           0.553,
           63.8,
           0.819,
           -0.238,
           0.803
          ],
          [
           4.431,
           8.507,
           0.796,
           61.225,
           0.825,
           0.468,
           0.647
          ],
          [
           4.451,
           9.11,
           0.741,
           56.475,
           0.666,
           -0.11,
           0.81
          ],
          [
           5.982,
           8.233,
           0.787,
           61.575,
           0.772,
           0.135,
           0.812
          ],
          [
           7.504,
           10.902,
           0.944,
           71.475,
           0.935,
           0.145,
           0.281
          ],
          [
           7.257,
           10.647,
           0.952,
           70.275,
           0.918,
           0.116,
           0.283
          ],
          [
           6.287,
           8.562,
           0.856,
           65.575,
           0.818,
           0.037,
           0.631
          ],
          [
           5.503,
           8.49,
           0.739,
           54.725,
           0.713,
           0.094,
           0.913
          ],
          [
           5.054,
           9.666,
           0.75,
           66.3,
           0.787,
           0.127,
           0.877
          ],
          [
           7.29,
           11.063,
           0.956,
           71.45,
           0.965,
           0.068,
           0.271
          ],
          [
           4.624,
           8.518,
           0.594,
           57.175,
           0.767,
           0.003,
           0.833
          ],
          [
           5.501,
           9.497,
           0.907,
           65.85,
           0.865,
           0.054,
           0.829
          ],
          [
           4.994,
           9.323,
           0.749,
           69.675,
           0.806,
           -0.094,
           0.912
          ],
          [
           5.08,
           8.958,
           0.781,
           62.025,
           0.932,
           -0.114,
           0.744
          ],
          [
           6.139,
           10.39,
           0.953,
           68.875,
           0.767,
           -0.014,
           0.787
          ],
          [
           5.768,
           10.374,
           0.875,
           71.125,
           0.913,
           -0.244,
           0.867
          ],
          [
           6.785,
           10.277,
           0.869,
           66.925,
           0.863,
           -0.161,
           0.918
          ],
          [
           5.495,
           10.188,
           0.887,
           64.575,
           0.714,
           -0.078,
           0.823
          ],
          [
           6.56,
           10.709,
           0.89,
           64.2,
           0.884,
           -0.117,
           null
          ],
          [
           4.757,
           8.127,
           0.621,
           59.7,
           0.797,
           -0.052,
           0.855
          ],
          [
           6.042,
           9.813,
           0.852,
           67.025,
           0.843,
           0.142,
           0.824
          ],
          [
           6.519,
           10.34,
           0.954,
           68.725,
           0.762,
           -0.081,
           0.901
          ],
          [
           6.462,
           10.521,
           0.953,
           70.875,
           0.958,
           -0.09,
           0.797
          ],
          [
           4.947,
           9.458,
           0.891,
           56.725,
           0.757,
           -0.03,
           0.912
          ],
          [
           5.793,
           10.655,
           0.808,
           73.375,
           0.711,
           -0.112,
           0.665
          ],
          [
           6.502,
           10.491,
           0.935,
           72.225,
           0.783,
           -0.127,
           0.73
          ],
          [
           4.778,
           9.468,
           0.842,
           67.1,
           0.803,
           -0.05,
           0.768
          ],
          [
           7.314,
           10.846,
           0.936,
           72.025,
           0.951,
           0.084,
           0.203
          ],
          [
           7.508,
           11.124,
           0.946,
           72.7,
           0.917,
           -0.073,
           0.28
          ],
          [
           6.751,
           null,
           0.901,
           null,
           0.799,
           null,
           0.711
          ],
          [
           5.373,
           8.203,
           0.79,
           62.15,
           null,
           -0.054,
           0.55
          ],
          [
           3.786,
           7.844,
           0.74,
           58.95,
           0.83,
           0.293,
           0.521
          ],
          [
           5.885,
           9.733,
           0.867,
           68.375,
           0.84,
           0.27,
           0.918
          ],
          [
           4.731,
           9.214,
           0.719,
           66.95,
           0.668,
           -0.206,
           0.877
          ],
          [
           4.862,
           10.257,
           0.857,
           68.575,
           0.51,
           -0.119,
           0.774
          ],
          [
           4.641,
           7.714,
           0.8,
           58.675,
           0.687,
           0.14,
           0.878
          ],
          [
           5.27,
           9.426,
           0.885,
           64.425,
           0.784,
           0.121,
           0.946
          ],
          [
           6.458,
           11.122,
           0.827,
           66.15,
           0.942,
           0.049,
           null
          ],
          [
           6.798,
           10.639,
           0.929,
           70.2,
           0.885,
           0.196,
           0.49
          ],
          [
           7.028,
           11.005,
           0.937,
           65.975,
           0.85,
           0.028,
           0.678
          ],
          [
           6.31,
           10.002,
           0.921,
           67.5,
           0.908,
           -0.094,
           0.491
          ],
          [
           5.842,
           8.91,
           0.85,
           65,
           0.928,
           0.19,
           0.642
          ],
          [
           4.574,
           null,
           0.805,
           64.225,
           0.612,
           null,
           0.811
          ],
          [
           5.462,
           9.254,
           0.765,
           65.4,
           0.945,
           0.063,
           0.791
          ],
          [
           4.838,
           8.066,
           0.767,
           54.825,
           0.75,
           0.054,
           0.81
          ],
          [
           3.16,
           7.596,
           0.717,
           53.575,
           0.643,
           0.003,
           0.789
          ]
         ],
         "geo": "geo",
         "hovertemplate": "<b>%{hovertext}</b><br><br>Country name=%{location}<br>Life Ladder=%{z:.2f}<br>Log GDP per capita=%{customdata[1]:.2f}<br>Social support=%{customdata[2]:.2f}<br>Healthy life expectancy at birth=%{customdata[3]:.2f}<br>Freedom to make life choices=%{customdata[4]:.2f}<br>Generosity=%{customdata[5]:.2f}<br>Perceptions of corruption=%{customdata[6]:.2f}<extra></extra>",
         "hovertext": [
          "Albania",
          "Algeria",
          "Argentina",
          "Australia",
          "Austria",
          "Bahrain",
          "Bangladesh",
          "Belgium",
          "Benin",
          "Bolivia",
          "Bosnia and Herzegovina",
          "Brazil",
          "Bulgaria",
          "Burkina Faso",
          "Cambodia",
          "Cameroon",
          "Canada",
          "Chile",
          "China",
          "Colombia",
          "Congo (Brazzaville)",
          "Costa Rica",
          "Croatia",
          "Cyprus",
          "Czechia",
          "Denmark",
          "Dominican Republic",
          "Ecuador",
          "Egypt",
          "El Salvador",
          "Estonia",
          "Ethiopia",
          "Finland",
          "France",
          "Gabon",
          "Georgia",
          "Germany",
          "Ghana",
          "Greece",
          "Guinea",
          "Hong Kong S.A.R. of China",
          "Hungary",
          "Iceland",
          "India",
          "Indonesia",
          "Iran",
          "Iraq",
          "Ireland",
          "Israel",
          "Italy",
          "Ivory Coast",
          "Jamaica",
          "Japan",
          "Jordan",
          "Kazakhstan",
          "Kenya",
          "Kosovo",
          "Kyrgyzstan",
          "Laos",
          "Latvia",
          "Lebanon",
          "Lithuania",
          "Malaysia",
          "Mali",
          "Malta",
          "Mauritius",
          "Mexico",
          "Moldova",
          "Mongolia",
          "Montenegro",
          "Morocco",
          "Myanmar",
          "Namibia",
          "Nepal",
          "Netherlands",
          "New Zealand",
          "Nicaragua",
          "Nigeria",
          "North Macedonia",
          "Norway",
          "Pakistan",
          "Paraguay",
          "Peru",
          "Philippines",
          "Poland",
          "Portugal",
          "Romania",
          "Russia",
          "Saudi Arabia",
          "Senegal",
          "Serbia",
          "Slovakia",
          "Slovenia",
          "South Africa",
          "South Korea",
          "Spain",
          "Sri Lanka",
          "Sweden",
          "Switzerland",
          "Taiwan Province of China",
          "Tajikistan",
          "Tanzania",
          "Thailand",
          "Tunisia",
          "Türkiye",
          "Uganda",
          "Ukraine",
          "United Arab Emirates",
          "United Kingdom",
          "United States",
          "Uruguay",
          "Uzbekistan",
          "Venezuela",
          "Vietnam",
          "Zambia",
          "Zimbabwe"
         ],
         "locationmode": "country names",
         "locations": [
          "Albania",
          "Algeria",
          "Argentina",
          "Australia",
          "Austria",
          "Bahrain",
          "Bangladesh",
          "Belgium",
          "Benin",
          "Bolivia",
          "Bosnia and Herzegovina",
          "Brazil",
          "Bulgaria",
          "Burkina Faso",
          "Cambodia",
          "Cameroon",
          "Canada",
          "Chile",
          "China",
          "Colombia",
          "Congo (Brazzaville)",
          "Costa Rica",
          "Croatia",
          "Cyprus",
          "Czechia",
          "Denmark",
          "Dominican Republic",
          "Ecuador",
          "Egypt",
          "El Salvador",
          "Estonia",
          "Ethiopia",
          "Finland",
          "France",
          "Gabon",
          "Georgia",
          "Germany",
          "Ghana",
          "Greece",
          "Guinea",
          "Hong Kong S.A.R. of China",
          "Hungary",
          "Iceland",
          "India",
          "Indonesia",
          "Iran",
          "Iraq",
          "Ireland",
          "Israel",
          "Italy",
          "Ivory Coast",
          "Jamaica",
          "Japan",
          "Jordan",
          "Kazakhstan",
          "Kenya",
          "Kosovo",
          "Kyrgyzstan",
          "Laos",
          "Latvia",
          "Lebanon",
          "Lithuania",
          "Malaysia",
          "Mali",
          "Malta",
          "Mauritius",
          "Mexico",
          "Moldova",
          "Mongolia",
          "Montenegro",
          "Morocco",
          "Myanmar",
          "Namibia",
          "Nepal",
          "Netherlands",
          "New Zealand",
          "Nicaragua",
          "Nigeria",
          "North Macedonia",
          "Norway",
          "Pakistan",
          "Paraguay",
          "Peru",
          "Philippines",
          "Poland",
          "Portugal",
          "Romania",
          "Russia",
          "Saudi Arabia",
          "Senegal",
          "Serbia",
          "Slovakia",
          "Slovenia",
          "South Africa",
          "South Korea",
          "Spain",
          "Sri Lanka",
          "Sweden",
          "Switzerland",
          "Taiwan Province of China",
          "Tajikistan",
          "Tanzania",
          "Thailand",
          "Tunisia",
          "Türkiye",
          "Uganda",
          "Ukraine",
          "United Arab Emirates",
          "United Kingdom",
          "United States",
          "Uruguay",
          "Uzbekistan",
          "Venezuela",
          "Vietnam",
          "Zambia",
          "Zimbabwe"
         ],
         "name": "",
         "type": "choropleth",
         "z": [
          5.365,
          5.438,
          5.901,
          7.137,
          7.213,
          6.173,
          5.28,
          6.839,
          4.408,
          5.559,
          5.516,
          6.11,
          5.598,
          4.64,
          4.377,
          5.241,
          7.025,
          6.151,
          5.771,
          5.709,
          5.079,
          6.338,
          6.508,
          6.26,
          6.897,
          7.515,
          5.168,
          5.354,
          4.472,
          5.462,
          6.453,
          4.549,
          7.889,
          6.714,
          4.887,
          5.123,
          7.312,
          5.319,
          5.788,
          4.972,
          5.295,
          6.038,
          7.575,
          4.224,
          4.828,
          4.865,
          4.785,
          7.035,
          7.195,
          6.488,
          5.257,
          5.425,
          6.118,
          4.094,
          6.168,
          4.547,
          6.294,
          6.25,
          5.284,
          6.229,
          2.634,
          6.391,
          6.014,
          4.269,
          6.157,
          6.015,
          5.964,
          5.812,
          6.011,
          5.722,
          4.803,
          4.431,
          4.451,
          5.982,
          7.504,
          7.257,
          6.287,
          5.503,
          5.054,
          7.29,
          4.624,
          5.501,
          4.994,
          5.08,
          6.139,
          5.768,
          6.785,
          5.495,
          6.56,
          4.757,
          6.042,
          6.519,
          6.462,
          4.947,
          5.793,
          6.502,
          4.778,
          7.314,
          7.508,
          6.751,
          5.373,
          3.786,
          5.885,
          4.731,
          4.862,
          4.641,
          5.27,
          6.458,
          6.798,
          7.028,
          6.31,
          5.842,
          4.574,
          5.462,
          4.838,
          3.16
         ]
        }
       ],
       "layout": {
        "coloraxis": {
         "colorbar": {
          "title": {
           "text": "Happiness (0–10)"
          }
         },
         "colorscale": [
          [
           0,
           "rgb(255,255,217)"
          ],
          [
           0.125,
           "rgb(237,248,177)"
          ],
          [
           0.25,
           "rgb(199,233,180)"
          ],
          [
           0.375,
           "rgb(127,205,187)"
          ],
          [
           0.5,
           "rgb(65,182,196)"
          ],
          [
           0.625,
           "rgb(29,145,192)"
          ],
          [
           0.75,
           "rgb(34,94,168)"
          ],
          [
           0.875,
           "rgb(37,52,148)"
          ],
          [
           1,
           "rgb(8,29,88)"
          ]
         ]
        },
        "geo": {
         "center": {},
         "domain": {
          "x": [
           0,
           1
          ],
          "y": [
           0,
           1
          ]
         },
         "showcoastlines": true,
         "showframe": false
        },
        "legend": {
         "tracegroupgap": 0
        },
        "template": {
         "data": {
          "bar": [
           {
            "error_x": {
             "color": "#2a3f5f"
            },
            "error_y": {
             "color": "#2a3f5f"
            },
            "marker": {
             "line": {
              "color": "#E5ECF6",
              "width": 0.5
             },
             "pattern": {
              "fillmode": "overlay",
              "size": 10,
              "solidity": 0.2
             }
            },
            "type": "bar"
           }
          ],
          "barpolar": [
           {
            "marker": {
             "line": {
              "color": "#E5ECF6",
              "width": 0.5
             },
             "pattern": {
              "fillmode": "overlay",
              "size": 10,
              "solidity": 0.2
             }
            },
            "type": "barpolar"
           }
          ],
          "carpet": [
           {
            "aaxis": {
             "endlinecolor": "#2a3f5f",
             "gridcolor": "white",
             "linecolor": "white",
             "minorgridcolor": "white",
             "startlinecolor": "#2a3f5f"
            },
            "baxis": {
             "endlinecolor": "#2a3f5f",
             "gridcolor": "white",
             "linecolor": "white",
             "minorgridcolor": "white",
             "startlinecolor": "#2a3f5f"
            },
            "type": "carpet"
           }
          ],
          "choropleth": [
           {
            "colorbar": {
             "outlinewidth": 0,
             "ticks": ""
            },
            "type": "choropleth"
           }
          ],
          "contour": [
           {
            "colorbar": {
             "outlinewidth": 0,
             "ticks": ""
            },
            "colorscale": [
             [
              0,
              "#0d0887"
             ],
             [
              0.1111111111111111,
              "#46039f"
             ],
             [
              0.2222222222222222,
              "#7201a8"
             ],
             [
              0.3333333333333333,
              "#9c179e"
             ],
             [
              0.4444444444444444,
              "#bd3786"
             ],
             [
              0.5555555555555556,
              "#d8576b"
             ],
             [
              0.6666666666666666,
              "#ed7953"
             ],
             [
              0.7777777777777778,
              "#fb9f3a"
             ],
             [
              0.8888888888888888,
              "#fdca26"
             ],
             [
              1,
              "#f0f921"
             ]
            ],
            "type": "contour"
           }
          ],
          "contourcarpet": [
           {
            "colorbar": {
             "outlinewidth": 0,
             "ticks": ""
            },
            "type": "contourcarpet"
           }
          ],
          "heatmap": [
           {
            "colorbar": {
             "outlinewidth": 0,
             "ticks": ""
            },
            "colorscale": [
             [
              0,
              "#0d0887"
             ],
             [
              0.1111111111111111,
              "#46039f"
             ],
             [
              0.2222222222222222,
              "#7201a8"
             ],
             [
              0.3333333333333333,
              "#9c179e"
             ],
             [
              0.4444444444444444,
              "#bd3786"
             ],
             [
              0.5555555555555556,
              "#d8576b"
             ],
             [
              0.6666666666666666,
              "#ed7953"
             ],
             [
              0.7777777777777778,
              "#fb9f3a"
             ],
             [
              0.8888888888888888,
              "#fdca26"
             ],
             [
              1,
              "#f0f921"
             ]
            ],
            "type": "heatmap"
           }
          ],
          "heatmapgl": [
           {
            "colorbar": {
             "outlinewidth": 0,
             "ticks": ""
            },
            "colorscale": [
             [
              0,
              "#0d0887"
             ],
             [
              0.1111111111111111,
              "#46039f"
             ],
             [
              0.2222222222222222,
              "#7201a8"
             ],
             [
              0.3333333333333333,
              "#9c179e"
             ],
             [
              0.4444444444444444,
              "#bd3786"
             ],
             [
              0.5555555555555556,
              "#d8576b"
             ],
             [
              0.6666666666666666,
              "#ed7953"
             ],
             [
              0.7777777777777778,
              "#fb9f3a"
             ],
             [
              0.8888888888888888,
              "#fdca26"
             ],
             [
              1,
              "#f0f921"
             ]
            ],
            "type": "heatmapgl"
           }
          ],
          "histogram": [
           {
            "marker": {
             "pattern": {
              "fillmode": "overlay",
              "size": 10,
              "solidity": 0.2
             }
            },
            "type": "histogram"
           }
          ],
          "histogram2d": [
           {
            "colorbar": {
             "outlinewidth": 0,
             "ticks": ""
            },
            "colorscale": [
             [
              0,
              "#0d0887"
             ],
             [
              0.1111111111111111,
              "#46039f"
             ],
             [
              0.2222222222222222,
              "#7201a8"
             ],
             [
              0.3333333333333333,
              "#9c179e"
             ],
             [
              0.4444444444444444,
              "#bd3786"
             ],
             [
              0.5555555555555556,
              "#d8576b"
             ],
             [
              0.6666666666666666,
              "#ed7953"
             ],
             [
              0.7777777777777778,
              "#fb9f3a"
             ],
             [
              0.8888888888888888,
              "#fdca26"
             ],
             [
              1,
              "#f0f921"
             ]
            ],
            "type": "histogram2d"
           }
          ],
          "histogram2dcontour": [
           {
            "colorbar": {
             "outlinewidth": 0,
             "ticks": ""
            },
            "colorscale": [
             [
              0,
              "#0d0887"
             ],
             [
              0.1111111111111111,
              "#46039f"
             ],
             [
              0.2222222222222222,
              "#7201a8"
             ],
             [
              0.3333333333333333,
              "#9c179e"
             ],
             [
              0.4444444444444444,
              "#bd3786"
             ],
             [
              0.5555555555555556,
              "#d8576b"
             ],
             [
              0.6666666666666666,
              "#ed7953"
             ],
             [
              0.7777777777777778,
              "#fb9f3a"
             ],
             [
              0.8888888888888888,
              "#fdca26"
             ],
             [
              1,
              "#f0f921"
             ]
            ],
            "type": "histogram2dcontour"
           }
          ],
          "mesh3d": [
           {
            "colorbar": {
             "outlinewidth": 0,
             "ticks": ""
            },
            "type": "mesh3d"
           }
          ],
          "parcoords": [
           {
            "line": {
             "colorbar": {
              "outlinewidth": 0,
              "ticks": ""
             }
            },
            "type": "parcoords"
           }
          ],
          "pie": [
           {
            "automargin": true,
            "type": "pie"
           }
          ],
          "scatter": [
           {
            "fillpattern": {
             "fillmode": "overlay",
             "size": 10,
             "solidity": 0.2
            },
            "type": "scatter"
           }
          ],
          "scatter3d": [
           {
            "line": {
             "colorbar": {
              "outlinewidth": 0,
              "ticks": ""
             }
            },
            "marker": {
             "colorbar": {
              "outlinewidth": 0,
              "ticks": ""
             }
            },
            "type": "scatter3d"
           }
          ],
          "scattercarpet": [
           {
            "marker": {
             "colorbar": {
              "outlinewidth": 0,
              "ticks": ""
             }
            },
            "type": "scattercarpet"
           }
          ],
          "scattergeo": [
           {
            "marker": {
             "colorbar": {
              "outlinewidth": 0,
              "ticks": ""
             }
            },
            "type": "scattergeo"
           }
          ],
          "scattergl": [
           {
            "marker": {
             "colorbar": {
              "outlinewidth": 0,
              "ticks": ""
             }
            },
            "type": "scattergl"
           }
          ],
          "scattermapbox": [
           {
            "marker": {
             "colorbar": {
              "outlinewidth": 0,
              "ticks": ""
             }
            },
            "type": "scattermapbox"
           }
          ],
          "scatterpolar": [
           {
            "marker": {
             "colorbar": {
              "outlinewidth": 0,
              "ticks": ""
             }
            },
            "type": "scatterpolar"
           }
          ],
          "scatterpolargl": [
           {
            "marker": {
             "colorbar": {
              "outlinewidth": 0,
              "ticks": ""
             }
            },
            "type": "scatterpolargl"
           }
          ],
          "scatterternary": [
           {
            "marker": {
             "colorbar": {
              "outlinewidth": 0,
              "ticks": ""
             }
            },
            "type": "scatterternary"
           }
          ],
          "surface": [
           {
            "colorbar": {
             "outlinewidth": 0,
             "ticks": ""
            },
            "colorscale": [
             [
              0,
              "#0d0887"
             ],
             [
              0.1111111111111111,
              "#46039f"
             ],
             [
              0.2222222222222222,
              "#7201a8"
             ],
             [
              0.3333333333333333,
              "#9c179e"
             ],
             [
              0.4444444444444444,
              "#bd3786"
             ],
             [
              0.5555555555555556,
              "#d8576b"
             ],
             [
              0.6666666666666666,
              "#ed7953"
             ],
             [
              0.7777777777777778,
              "#fb9f3a"
             ],
             [
              0.8888888888888888,
              "#fdca26"
             ],
             [
              1,
              "#f0f921"
             ]
            ],
            "type": "surface"
           }
          ],
          "table": [
           {
            "cells": {
             "fill": {
              "color": "#EBF0F8"
             },
             "line": {
              "color": "white"
             }
            },
            "header": {
             "fill": {
              "color": "#C8D4E3"
             },
             "line": {
              "color": "white"
             }
            },
            "type": "table"
           }
          ]
         },
         "layout": {
          "annotationdefaults": {
           "arrowcolor": "#2a3f5f",
           "arrowhead": 0,
           "arrowwidth": 1
          },
          "autotypenumbers": "strict",
          "coloraxis": {
           "colorbar": {
            "outlinewidth": 0,
            "ticks": ""
           }
          },
          "colorscale": {
           "diverging": [
            [
             0,
             "#8e0152"
            ],
            [
             0.1,
             "#c51b7d"
            ],
            [
             0.2,
             "#de77ae"
            ],
            [
             0.3,
             "#f1b6da"
            ],
            [
             0.4,
             "#fde0ef"
            ],
            [
             0.5,
             "#f7f7f7"
            ],
            [
             0.6,
             "#e6f5d0"
            ],
            [
             0.7,
             "#b8e186"
            ],
            [
             0.8,
             "#7fbc41"
            ],
            [
             0.9,
             "#4d9221"
            ],
            [
             1,
             "#276419"
            ]
           ],
           "sequential": [
            [
             0,
             "#0d0887"
            ],
            [
             0.1111111111111111,
             "#46039f"
            ],
            [
             0.2222222222222222,
             "#7201a8"
            ],
            [
             0.3333333333333333,
             "#9c179e"
            ],
            [
             0.4444444444444444,
             "#bd3786"
            ],
            [
             0.5555555555555556,
             "#d8576b"
            ],
            [
             0.6666666666666666,
             "#ed7953"
            ],
            [
             0.7777777777777778,
             "#fb9f3a"
            ],
            [
             0.8888888888888888,
             "#fdca26"
            ],
            [
             1,
             "#f0f921"
            ]
           ],
           "sequentialminus": [
            [
             0,
             "#0d0887"
            ],
            [
             0.1111111111111111,
             "#46039f"
            ],
            [
             0.2222222222222222,
             "#7201a8"
            ],
            [
             0.3333333333333333,
             "#9c179e"
            ],
            [
             0.4444444444444444,
             "#bd3786"
            ],
            [
             0.5555555555555556,
             "#d8576b"
            ],
            [
             0.6666666666666666,
             "#ed7953"
            ],
            [
             0.7777777777777778,
             "#fb9f3a"
            ],
            [
             0.8888888888888888,
             "#fdca26"
            ],
            [
             1,
             "#f0f921"
            ]
           ]
          },
          "colorway": [
           "#636efa",
           "#EF553B",
           "#00cc96",
           "#ab63fa",
           "#FFA15A",
           "#19d3f3",
           "#FF6692",
           "#B6E880",
           "#FF97FF",
           "#FECB52"
          ],
          "font": {
           "color": "#2a3f5f"
          },
          "geo": {
           "bgcolor": "white",
           "lakecolor": "white",
           "landcolor": "#E5ECF6",
           "showlakes": true,
           "showland": true,
           "subunitcolor": "white"
          },
          "hoverlabel": {
           "align": "left"
          },
          "hovermode": "closest",
          "mapbox": {
           "style": "light"
          },
          "paper_bgcolor": "white",
          "plot_bgcolor": "#E5ECF6",
          "polar": {
           "angularaxis": {
            "gridcolor": "white",
            "linecolor": "white",
            "ticks": ""
           },
           "bgcolor": "#E5ECF6",
           "radialaxis": {
            "gridcolor": "white",
            "linecolor": "white",
            "ticks": ""
           }
          },
          "scene": {
           "xaxis": {
            "backgroundcolor": "#E5ECF6",
            "gridcolor": "white",
            "gridwidth": 2,
            "linecolor": "white",
            "showbackground": true,
            "ticks": "",
            "zerolinecolor": "white"
           },
           "yaxis": {
            "backgroundcolor": "#E5ECF6",
            "gridcolor": "white",
            "gridwidth": 2,
            "linecolor": "white",
            "showbackground": true,
            "ticks": "",
            "zerolinecolor": "white"
           },
           "zaxis": {
            "backgroundcolor": "#E5ECF6",
            "gridcolor": "white",
            "gridwidth": 2,
            "linecolor": "white",
            "showbackground": true,
            "ticks": "",
            "zerolinecolor": "white"
           }
          },
          "shapedefaults": {
           "line": {
            "color": "#2a3f5f"
           }
          },
          "ternary": {
           "aaxis": {
            "gridcolor": "white",
            "linecolor": "white",
            "ticks": ""
           },
           "baxis": {
            "gridcolor": "white",
            "linecolor": "white",
            "ticks": ""
           },
           "bgcolor": "#E5ECF6",
           "caxis": {
            "gridcolor": "white",
            "linecolor": "white",
            "ticks": ""
           }
          },
          "title": {
           "x": 0.05
          },
          "xaxis": {
           "automargin": true,
           "gridcolor": "white",
           "linecolor": "white",
           "ticks": "",
           "title": {
            "standoff": 15
           },
           "zerolinecolor": "white",
           "zerolinewidth": 2
          },
          "yaxis": {
           "automargin": true,
           "gridcolor": "white",
           "linecolor": "white",
           "ticks": "",
           "title": {
            "standoff": 15
           },
           "zerolinecolor": "white",
           "zerolinewidth": 2
          }
         }
        },
        "title": {
         "text": "🌍 World Happiness Map — 2020 (Life Ladder Score)",
         "x": 0.5
        }
       }
      }
     },
     "metadata": {},
     "output_type": "display_data"
    }
   ],
   "source": [
    "df_2020 = df[df[\"year\"] == 2020].copy()\n",
    "\n",
    "#  Basic validation\n",
    "print(f\"Number of countries in 2020 data: {df_2020['Country name'].nunique()}\")\n",
    "\n",
    "#  Create choropleth map\n",
    "fig = px.choropleth(\n",
    "    df_2020,\n",
    "    locations=\"Country name\",             # column with country names\n",
    "    locationmode=\"country names\",         # match on country names\n",
    "    color=\"Life Ladder\",                  # main happiness score\n",
    "    hover_name=\"Country name\",            # show country on hover\n",
    "    hover_data={\n",
    "        \"Life Ladder\": \":.2f\",\n",
    "        \"Log GDP per capita\": \":.2f\",\n",
    "        \"Social support\": \":.2f\",\n",
    "        \"Healthy life expectancy at birth\": \":.2f\",\n",
    "        \"Freedom to make life choices\": \":.2f\",\n",
    "        \"Generosity\": \":.2f\",\n",
    "        \"Perceptions of corruption\": \":.2f\"\n",
    "    },\n",
    "    color_continuous_scale=\"YlGnBu\",      # pleasant blue-green palette\n",
    "    title=\"🌍 World Happiness Map — 2020 (Life Ladder Score)\"\n",
    ")\n",
    "\n",
    "#  Customize layout\n",
    "fig.update_layout(\n",
    "    title_x=0.5,\n",
    "    geo=dict(showframe=False, showcoastlines=True),\n",
    "    coloraxis_colorbar=dict(title=\"Happiness (0–10)\")\n",
    ")\n",
    "\n",
    "#  Display\n",
    "fig.show()"
   ]
  },
  {
   "cell_type": "markdown",
   "metadata": {},
   "source": [
    "### Happiness Trends Over Time\n",
    "\n",
    "This line plot shows how **Life Ladder (happiness score)** has changed from year to year for a selection of countries:\n",
    "\n",
    "- **Finland** (one of the happiest countries worldwide)\n",
    "- **India** (large developing country with improving but fluctuating scores)\n",
    "- **United States** (a high-income country with mid-high happiness levels)\n",
    "- **Afghanistan** (among the lowest happiness scores globally)\n",
    "\n",
    "By comparing these diverse cases, we can see both **long-term stability in high-scoring countries** (e.g., Finland) and **sharp declines or volatility** in regions affected by conflict or economic challenges. This helps illustrate the global disparities in well-being over time.\n"
   ]
  },
  {
   "cell_type": "code",
   "execution_count": 14,
   "metadata": {},
   "outputs": [
    {
     "data": {
      "image/png": "[encoded data removed]",
      "text/plain": [
       "<Figure size 1200x600 with 1 Axes>"
      ]
     },
     "metadata": {},
     "output_type": "display_data"
    }
   ],
   "source": [
    "countries = [\"Finland\", \"India\", \"United States\", \"Afghanistan\"]\n",
    "plt.figure(figsize=(12,6))\n",
    "for c in countries:\n",
    "    subset = df[df['Country name'] == c]\n",
    "    plt.plot(subset['year'], subset['Life Ladder'], label=c)\n",
    "\n",
    "plt.title(\"Happiness Trends Over Time\")\n",
    "plt.xlabel(\"Year\")\n",
    "plt.ylabel(\"Life Ladder Score\")\n",
    "plt.legend()\n",
    "plt.show()"
   ]
  },
  {
   "cell_type": "markdown",
   "metadata": {},
   "source": [
    "### Key Factors Driving Happiness\n",
    "\n",
    "To understand what drives happiness, we compare **Life Ladder scores** with three important factors in 2024:\n",
    "\n",
    "- **Log GDP per capita** → captures the role of income and economic prosperity\n",
    "- **Social support** → reflects the strength of community and relationships\n",
    "- **Healthy life expectancy at birth** → measures health and longevity\n",
    "\n",
    "Each scatter plot includes a regression line, making it easier to see overall trends.  \n",
    "We observe that countries with **higher GDP, stronger social support, and longer life expectancy** tend to report higher happiness scores.  \n",
    "This provides evidence that both **economic** and **social factors** play a critical role in well-being.\n"
   ]
  },
  {
   "cell_type": "code",
   "execution_count": 15,
   "metadata": {},
   "outputs": [
    {
     "data": {
      "image/png": "[encoded data removed]",
      "text/plain": [
       "<Figure size 700x500 with 1 Axes>"
      ]
     },
     "metadata": {},
     "output_type": "display_data"
    },
    {
     "data": {
      "image/png": "[encoded data removed]",
      "text/plain": [
       "<Figure size 700x500 with 1 Axes>"
      ]
     },
     "metadata": {},
     "output_type": "display_data"
    },
    {
     "data": {
      "image/png": "[encoded data removed]",
      "text/plain": [
       "<Figure size 700x500 with 1 Axes>"
      ]
     },
     "metadata": {},
     "output_type": "display_data"
    }
   ],
   "source": [
    "factors = [\"Log GDP per capita\", \"Social support\", \"Healthy life expectancy at birth\"]\n",
    "for factor in factors:\n",
    "    plt.figure(figsize=(7,5))\n",
    "    sns.regplot(data=latest, x=factor, y=\"Life Ladder\", scatter_kws={'alpha':0.5})\n",
    "    plt.title(f\"Happiness vs {factor}\")\n",
    "    plt.show()"
   ]
  },
  {
   "cell_type": "markdown",
   "metadata": {},
   "source": []
  },
  {
   "cell_type": "markdown",
   "metadata": {},
   "source": [
    "### Correlation Between Happiness and Other Factors\n",
    "\n",
    "This heatmap shows the correlations between **Life Ladder (happiness score)** and its key predictors:\n",
    "\n",
    "- Strong **positive correlations**:\n",
    "  - **GDP per capita**, **Social support**, **Life expectancy**, and **Freedom to make life choices** all align closely with higher happiness.\n",
    "- Weak or mixed correlations:\n",
    "  - **Generosity** and **Positive affect** show smaller positive links.\n",
    "- **Negative correlation**:\n",
    "  - **Perceptions of corruption** is strongly associated with lower happiness.\n",
    "  - **Negative affect** also tends to reduce happiness.\n",
    "\n",
    "Overall, the heatmap confirms that **economic prosperity, social ties, health, and freedom** are the most powerful drivers of happiness, while corruption and negative emotions erode well-being.\n"
   ]
  },
  {
   "cell_type": "code",
   "execution_count": 16,
   "metadata": {},
   "outputs": [
    {
     "data": {
      "image/png": "[encoded data removed]",
      "text/plain": [
       "<Figure size 1000x600 with 2 Axes>"
      ]
     },
     "metadata": {},
     "output_type": "display_data"
    }
   ],
   "source": [
    "plt.figure(figsize=(10,6))\n",
    "corr = df[[\"Life Ladder\", \"Log GDP per capita\", \"Social support\",\n",
    "           \"Healthy life expectancy at birth\", \"Freedom to make life choices\",\n",
    "           \"Generosity\", \"Perceptions of corruption\",\n",
    "           \"Positive affect\", \"Negative affect\"]].corr()\n",
    "\n",
    "sns.heatmap(corr, annot=True, cmap=\"coolwarm\", center=0)\n",
    "plt.title(\"Correlation Heatmap\")\n",
    "plt.show()"
   ]
  },
  {
   "cell_type": "markdown",
   "metadata": {},
   "source": [
    "### Positive vs Negative Affect (2024)\n",
    "\n",
    "This scatter plot compares countries based on **Positive affect** (frequency of positive emotions) and **Negative affect** (frequency of negative emotions) in 2024.\n",
    "\n",
    "- The color and size of each point represent the **Life Ladder score** (overall happiness).\n",
    "- Countries with **higher positive affect and lower negative affect** tend to report the highest happiness scores.\n",
    "- Conversely, countries with **higher negative affect** cluster toward the lower end of the happiness scale.\n",
    "\n",
    "This visualization highlights the strong emotional dimension of well-being, showing that happiness is not only about income or health but also about the balance of day-to-day emotions.\n"
   ]
  },
  {
   "cell_type": "code",
   "execution_count": 17,
   "metadata": {},
   "outputs": [
    {
     "data": {
      "image/png": "[encoded data removed]",
      "text/plain": [
       "<Figure size 700x500 with 1 Axes>"
      ]
     },
     "metadata": {},
     "output_type": "display_data"
    }
   ],
   "source": [
    "plt.figure(figsize=(7,5))\n",
    "sns.scatterplot(data=latest, x=\"Positive affect\", y=\"Negative affect\", hue=\"Life Ladder\", size=\"Life Ladder\", palette=\"coolwarm\")\n",
    "plt.title(\"Positive vs Negative Affect (2024)\")\n",
    "plt.show()"
   ]
  },
  {
   "cell_type": "markdown",
   "metadata": {},
   "source": [
    "### Positive vs Negative Affect (2024)\n",
    "\n",
    "This scatter plot compares countries based on **Positive affect** (frequency of positive emotions) and **Negative affect** (frequency of negative emotions) in 2024.\n",
    "\n",
    "- The color and size of each point represent the **Life Ladder score** (overall happiness).\n",
    "- Countries with **higher positive affect and lower negative affect** tend to report the highest happiness scores.\n",
    "- Conversely, countries with **higher negative affect** cluster toward the lower end of the happiness scale.\n",
    "\n",
    "This visualization highlights the strong emotional dimension of well-being, showing that happiness is not only about income or health but also about the balance of day-to-day emotions.\n"
   ]
  },
  {
   "cell_type": "code",
   "execution_count": null,
   "metadata": {},
   "outputs": [],
   "source": []
  },
  {
   "cell_type": "markdown",
   "metadata": {},
   "source": [
    "# Data Preprocessing and Modeling\n"
   ]
  },
  {
   "cell_type": "code",
   "execution_count": 18,
   "metadata": {},
   "outputs": [
    {
     "name": "stdout",
     "output_type": "stream",
     "text": [
      "<class 'pandas.core.frame.DataFrame'>\n",
      "RangeIndex: 2363 entries, 0 to 2362\n",
      "Data columns (total 11 columns):\n",
      " #   Column                            Non-Null Count  Dtype  \n",
      "---  ------                            --------------  -----  \n",
      " 0   Country name                      2363 non-null   object \n",
      " 1   year                              2363 non-null   int64  \n",
      " 2   Life Ladder                       2363 non-null   float64\n",
      " 3   Log GDP per capita                2335 non-null   float64\n",
      " 4   Social support                    2350 non-null   float64\n",
      " 5   Healthy life expectancy at birth  2300 non-null   float64\n",
      " 6   Freedom to make life choices      2327 non-null   float64\n",
      " 7   Generosity                        2282 non-null   float64\n",
      " 8   Perceptions of corruption         2238 non-null   float64\n",
      " 9   Positive affect                   2339 non-null   float64\n",
      " 10  Negative affect                   2347 non-null   float64\n",
      "dtypes: float64(9), int64(1), object(1)\n",
      "memory usage: 203.2+ KB\n"
     ]
    }
   ],
   "source": [
    "df.info()"
   ]
  },
  {
   "cell_type": "code",
   "execution_count": 19,
   "metadata": {},
   "outputs": [
    {
     "name": "stdout",
     "output_type": "stream",
     "text": [
      "<class 'pandas.core.frame.DataFrame'>\n",
      "Int64Index: 2097 entries, 0 to 2362\n",
      "Data columns (total 11 columns):\n",
      " #   Column                            Non-Null Count  Dtype  \n",
      "---  ------                            --------------  -----  \n",
      " 0   Country name                      2097 non-null   object \n",
      " 1   year                              2097 non-null   int64  \n",
      " 2   Life Ladder                       2097 non-null   float64\n",
      " 3   Log GDP per capita                2097 non-null   float64\n",
      " 4   Social support                    2097 non-null   float64\n",
      " 5   Healthy life expectancy at birth  2097 non-null   float64\n",
      " 6   Freedom to make life choices      2097 non-null   float64\n",
      " 7   Generosity                        2097 non-null   float64\n",
      " 8   Perceptions of corruption         2097 non-null   float64\n",
      " 9   Positive affect                   2097 non-null   float64\n",
      " 10  Negative affect                   2097 non-null   float64\n",
      "dtypes: float64(9), int64(1), object(1)\n",
      "memory usage: 196.6+ KB\n"
     ]
    }
   ],
   "source": [
    "df.dropna().info()"
   ]
  },
  {
   "cell_type": "markdown",
   "metadata": {},
   "source": [
    "We have a pretty small amount of data: if we just dropped any line with a NaN value, we'd have fewer than 2100 lines! Even the full dataset only has 2363.\n"
   ]
  },
  {
   "cell_type": "code",
   "execution_count": 20,
   "metadata": {},
   "outputs": [
    {
     "data": {
      "text/html": [
       "<div>\n",
       "<style scoped>\n",
       "    .dataframe tbody tr th:only-of-type {\n",
       "        vertical-align: middle;\n",
       "    }\n",
       "\n",
       "    .dataframe tbody tr th {\n",
       "        vertical-align: top;\n",
       "    }\n",
       "\n",
       "    .dataframe thead th {\n",
       "        text-align: right;\n",
       "    }\n",
       "</style>\n",
       "<table border=\"1\" class=\"dataframe\">\n",
       "  <thead>\n",
       "    <tr style=\"text-align: right;\">\n",
       "      <th></th>\n",
       "      <th>Country name</th>\n",
       "      <th>year</th>\n",
       "      <th>Life Ladder</th>\n",
       "      <th>Log GDP per capita</th>\n",
       "      <th>Social support</th>\n",
       "      <th>Healthy life expectancy at birth</th>\n",
       "      <th>Freedom to make life choices</th>\n",
       "      <th>Generosity</th>\n",
       "      <th>Perceptions of corruption</th>\n",
       "      <th>Positive affect</th>\n",
       "      <th>Negative affect</th>\n",
       "    </tr>\n",
       "  </thead>\n",
       "  <tbody>\n",
       "    <tr>\n",
       "      <th>0</th>\n",
       "      <td>Afghanistan</td>\n",
       "      <td>2008</td>\n",
       "      <td>3.724</td>\n",
       "      <td>7.350</td>\n",
       "      <td>0.451</td>\n",
       "      <td>50.500</td>\n",
       "      <td>0.718</td>\n",
       "      <td>0.164</td>\n",
       "      <td>0.882</td>\n",
       "      <td>0.414</td>\n",
       "      <td>0.258</td>\n",
       "    </tr>\n",
       "    <tr>\n",
       "      <th>1</th>\n",
       "      <td>Afghanistan</td>\n",
       "      <td>2009</td>\n",
       "      <td>4.402</td>\n",
       "      <td>7.509</td>\n",
       "      <td>0.552</td>\n",
       "      <td>50.800</td>\n",
       "      <td>0.679</td>\n",
       "      <td>0.187</td>\n",
       "      <td>0.850</td>\n",
       "      <td>0.481</td>\n",
       "      <td>0.237</td>\n",
       "    </tr>\n",
       "    <tr>\n",
       "      <th>2</th>\n",
       "      <td>Afghanistan</td>\n",
       "      <td>2010</td>\n",
       "      <td>4.758</td>\n",
       "      <td>7.614</td>\n",
       "      <td>0.539</td>\n",
       "      <td>51.100</td>\n",
       "      <td>0.600</td>\n",
       "      <td>0.118</td>\n",
       "      <td>0.707</td>\n",
       "      <td>0.517</td>\n",
       "      <td>0.275</td>\n",
       "    </tr>\n",
       "    <tr>\n",
       "      <th>3</th>\n",
       "      <td>Afghanistan</td>\n",
       "      <td>2011</td>\n",
       "      <td>3.832</td>\n",
       "      <td>7.581</td>\n",
       "      <td>0.521</td>\n",
       "      <td>51.400</td>\n",
       "      <td>0.496</td>\n",
       "      <td>0.160</td>\n",
       "      <td>0.731</td>\n",
       "      <td>0.480</td>\n",
       "      <td>0.267</td>\n",
       "    </tr>\n",
       "    <tr>\n",
       "      <th>4</th>\n",
       "      <td>Afghanistan</td>\n",
       "      <td>2012</td>\n",
       "      <td>3.783</td>\n",
       "      <td>7.661</td>\n",
       "      <td>0.521</td>\n",
       "      <td>51.700</td>\n",
       "      <td>0.531</td>\n",
       "      <td>0.234</td>\n",
       "      <td>0.776</td>\n",
       "      <td>0.614</td>\n",
       "      <td>0.268</td>\n",
       "    </tr>\n",
       "    <tr>\n",
       "      <th>5</th>\n",
       "      <td>Afghanistan</td>\n",
       "      <td>2013</td>\n",
       "      <td>3.572</td>\n",
       "      <td>7.680</td>\n",
       "      <td>0.484</td>\n",
       "      <td>52.000</td>\n",
       "      <td>0.578</td>\n",
       "      <td>0.059</td>\n",
       "      <td>0.823</td>\n",
       "      <td>0.547</td>\n",
       "      <td>0.273</td>\n",
       "    </tr>\n",
       "    <tr>\n",
       "      <th>6</th>\n",
       "      <td>Afghanistan</td>\n",
       "      <td>2014</td>\n",
       "      <td>3.131</td>\n",
       "      <td>7.671</td>\n",
       "      <td>0.526</td>\n",
       "      <td>52.300</td>\n",
       "      <td>0.509</td>\n",
       "      <td>0.102</td>\n",
       "      <td>0.871</td>\n",
       "      <td>0.492</td>\n",
       "      <td>0.375</td>\n",
       "    </tr>\n",
       "    <tr>\n",
       "      <th>7</th>\n",
       "      <td>Afghanistan</td>\n",
       "      <td>2015</td>\n",
       "      <td>3.983</td>\n",
       "      <td>7.654</td>\n",
       "      <td>0.529</td>\n",
       "      <td>52.600</td>\n",
       "      <td>0.389</td>\n",
       "      <td>0.078</td>\n",
       "      <td>0.881</td>\n",
       "      <td>0.491</td>\n",
       "      <td>0.339</td>\n",
       "    </tr>\n",
       "    <tr>\n",
       "      <th>8</th>\n",
       "      <td>Afghanistan</td>\n",
       "      <td>2016</td>\n",
       "      <td>4.220</td>\n",
       "      <td>7.650</td>\n",
       "      <td>0.559</td>\n",
       "      <td>52.925</td>\n",
       "      <td>0.523</td>\n",
       "      <td>0.040</td>\n",
       "      <td>0.793</td>\n",
       "      <td>0.501</td>\n",
       "      <td>0.348</td>\n",
       "    </tr>\n",
       "    <tr>\n",
       "      <th>9</th>\n",
       "      <td>Afghanistan</td>\n",
       "      <td>2017</td>\n",
       "      <td>2.662</td>\n",
       "      <td>7.648</td>\n",
       "      <td>0.491</td>\n",
       "      <td>53.250</td>\n",
       "      <td>0.427</td>\n",
       "      <td>-0.123</td>\n",
       "      <td>0.954</td>\n",
       "      <td>0.435</td>\n",
       "      <td>0.371</td>\n",
       "    </tr>\n",
       "    <tr>\n",
       "      <th>10</th>\n",
       "      <td>Afghanistan</td>\n",
       "      <td>2018</td>\n",
       "      <td>2.694</td>\n",
       "      <td>7.631</td>\n",
       "      <td>0.508</td>\n",
       "      <td>53.575</td>\n",
       "      <td>0.374</td>\n",
       "      <td>-0.095</td>\n",
       "      <td>0.928</td>\n",
       "      <td>0.385</td>\n",
       "      <td>0.405</td>\n",
       "    </tr>\n",
       "    <tr>\n",
       "      <th>11</th>\n",
       "      <td>Afghanistan</td>\n",
       "      <td>2019</td>\n",
       "      <td>2.375</td>\n",
       "      <td>7.640</td>\n",
       "      <td>0.420</td>\n",
       "      <td>53.900</td>\n",
       "      <td>0.394</td>\n",
       "      <td>-0.109</td>\n",
       "      <td>0.924</td>\n",
       "      <td>0.324</td>\n",
       "      <td>0.502</td>\n",
       "    </tr>\n",
       "    <tr>\n",
       "      <th>12</th>\n",
       "      <td>Afghanistan</td>\n",
       "      <td>2021</td>\n",
       "      <td>2.436</td>\n",
       "      <td>7.325</td>\n",
       "      <td>0.454</td>\n",
       "      <td>54.550</td>\n",
       "      <td>0.394</td>\n",
       "      <td>-0.085</td>\n",
       "      <td>0.946</td>\n",
       "      <td>0.179</td>\n",
       "      <td>0.607</td>\n",
       "    </tr>\n",
       "    <tr>\n",
       "      <th>13</th>\n",
       "      <td>Afghanistan</td>\n",
       "      <td>2022</td>\n",
       "      <td>1.281</td>\n",
       "      <td>NaN</td>\n",
       "      <td>0.228</td>\n",
       "      <td>54.875</td>\n",
       "      <td>0.368</td>\n",
       "      <td>NaN</td>\n",
       "      <td>0.733</td>\n",
       "      <td>0.206</td>\n",
       "      <td>0.576</td>\n",
       "    </tr>\n",
       "    <tr>\n",
       "      <th>14</th>\n",
       "      <td>Afghanistan</td>\n",
       "      <td>2023</td>\n",
       "      <td>1.446</td>\n",
       "      <td>NaN</td>\n",
       "      <td>0.368</td>\n",
       "      <td>55.200</td>\n",
       "      <td>0.228</td>\n",
       "      <td>NaN</td>\n",
       "      <td>0.738</td>\n",
       "      <td>0.261</td>\n",
       "      <td>0.460</td>\n",
       "    </tr>\n",
       "    <tr>\n",
       "      <th>15</th>\n",
       "      <td>Albania</td>\n",
       "      <td>2007</td>\n",
       "      <td>4.634</td>\n",
       "      <td>9.122</td>\n",
       "      <td>0.821</td>\n",
       "      <td>66.760</td>\n",
       "      <td>0.529</td>\n",
       "      <td>-0.013</td>\n",
       "      <td>0.875</td>\n",
       "      <td>0.489</td>\n",
       "      <td>0.246</td>\n",
       "    </tr>\n",
       "  </tbody>\n",
       "</table>\n",
       "</div>"
      ],
      "text/plain": [
       "   Country name  year  Life Ladder  Log GDP per capita  Social support  \\\n",
       "0   Afghanistan  2008        3.724               7.350           0.451   \n",
       "1   Afghanistan  2009        4.402               7.509           0.552   \n",
       "2   Afghanistan  2010        4.758               7.614           0.539   \n",
       "3   Afghanistan  2011        3.832               7.581           0.521   \n",
       "4   Afghanistan  2012        3.783               7.661           0.521   \n",
       "5   Afghanistan  2013        3.572               7.680           0.484   \n",
       "6   Afghanistan  2014        3.131               7.671           0.526   \n",
       "7   Afghanistan  2015        3.983               7.654           0.529   \n",
       "8   Afghanistan  2016        4.220               7.650           0.559   \n",
       "9   Afghanistan  2017        2.662               7.648           0.491   \n",
       "10  Afghanistan  2018        2.694               7.631           0.508   \n",
       "11  Afghanistan  2019        2.375               7.640           0.420   \n",
       "12  Afghanistan  2021        2.436               7.325           0.454   \n",
       "13  Afghanistan  2022        1.281                 NaN           0.228   \n",
       "14  Afghanistan  2023        1.446                 NaN           0.368   \n",
       "15      Albania  2007        4.634               9.122           0.821   \n",
       "\n",
       "    Healthy life expectancy at birth  Freedom to make life choices  \\\n",
       "0                             50.500                         0.718   \n",
       "1                             50.800                         0.679   \n",
       "2                             51.100                         0.600   \n",
       "3                             51.400                         0.496   \n",
       "4                             51.700                         0.531   \n",
       "5                             52.000                         0.578   \n",
       "6                             52.300                         0.509   \n",
       "7                             52.600                         0.389   \n",
       "8                             52.925                         0.523   \n",
       "9                             53.250                         0.427   \n",
       "10                            53.575                         0.374   \n",
       "11                            53.900                         0.394   \n",
       "12                            54.550                         0.394   \n",
       "13                            54.875                         0.368   \n",
       "14                            55.200                         0.228   \n",
       "15                            66.760                         0.529   \n",
       "\n",
       "    Generosity  Perceptions of corruption  Positive affect  Negative affect  \n",
       "0        0.164                      0.882            0.414            0.258  \n",
       "1        0.187                      0.850            0.481            0.237  \n",
       "2        0.118                      0.707            0.517            0.275  \n",
       "3        0.160                      0.731            0.480            0.267  \n",
       "4        0.234                      0.776            0.614            0.268  \n",
       "5        0.059                      0.823            0.547            0.273  \n",
       "6        0.102                      0.871            0.492            0.375  \n",
       "7        0.078                      0.881            0.491            0.339  \n",
       "8        0.040                      0.793            0.501            0.348  \n",
       "9       -0.123                      0.954            0.435            0.371  \n",
       "10      -0.095                      0.928            0.385            0.405  \n",
       "11      -0.109                      0.924            0.324            0.502  \n",
       "12      -0.085                      0.946            0.179            0.607  \n",
       "13         NaN                      0.733            0.206            0.576  \n",
       "14         NaN                      0.738            0.261            0.460  \n",
       "15      -0.013                      0.875            0.489            0.246  "
      ]
     },
     "execution_count": 20,
     "metadata": {},
     "output_type": "execute_result"
    }
   ],
   "source": [
    "df.head(16)"
   ]
  },
  {
   "cell_type": "markdown",
   "metadata": {},
   "source": [
    "Demonstrating the structure of the problem. No NaNs in country name, thankfully. Presumably NaN appears where data is unavailable.\n",
    "\n",
    "Likely the best we can do is infer those values from previous results.\n"
   ]
  },
  {
   "cell_type": "code",
   "execution_count": 21,
   "metadata": {},
   "outputs": [
    {
     "data": {
      "text/html": [
       "<div>\n",
       "<style scoped>\n",
       "    .dataframe tbody tr th:only-of-type {\n",
       "        vertical-align: middle;\n",
       "    }\n",
       "\n",
       "    .dataframe tbody tr th {\n",
       "        vertical-align: top;\n",
       "    }\n",
       "\n",
       "    .dataframe thead th {\n",
       "        text-align: right;\n",
       "    }\n",
       "</style>\n",
       "<table border=\"1\" class=\"dataframe\">\n",
       "  <thead>\n",
       "    <tr style=\"text-align: right;\">\n",
       "      <th></th>\n",
       "      <th>Country name</th>\n",
       "      <th>year</th>\n",
       "      <th>Life Ladder</th>\n",
       "      <th>Log GDP per capita</th>\n",
       "      <th>Social support</th>\n",
       "      <th>Healthy life expectancy at birth</th>\n",
       "      <th>Freedom to make life choices</th>\n",
       "      <th>Generosity</th>\n",
       "      <th>Perceptions of corruption</th>\n",
       "      <th>Positive affect</th>\n",
       "      <th>Negative affect</th>\n",
       "    </tr>\n",
       "  </thead>\n",
       "  <tbody>\n",
       "    <tr>\n",
       "      <th>13</th>\n",
       "      <td>Afghanistan</td>\n",
       "      <td>2022</td>\n",
       "      <td>1.281</td>\n",
       "      <td>NaN</td>\n",
       "      <td>0.228</td>\n",
       "      <td>54.875</td>\n",
       "      <td>0.368</td>\n",
       "      <td>NaN</td>\n",
       "      <td>0.733</td>\n",
       "      <td>0.206</td>\n",
       "      <td>0.576</td>\n",
       "    </tr>\n",
       "    <tr>\n",
       "      <th>14</th>\n",
       "      <td>Afghanistan</td>\n",
       "      <td>2023</td>\n",
       "      <td>1.446</td>\n",
       "      <td>NaN</td>\n",
       "      <td>0.368</td>\n",
       "      <td>55.200</td>\n",
       "      <td>0.228</td>\n",
       "      <td>NaN</td>\n",
       "      <td>0.738</td>\n",
       "      <td>0.261</td>\n",
       "      <td>0.460</td>\n",
       "    </tr>\n",
       "    <tr>\n",
       "      <th>507</th>\n",
       "      <td>Cuba</td>\n",
       "      <td>2006</td>\n",
       "      <td>5.418</td>\n",
       "      <td>NaN</td>\n",
       "      <td>0.970</td>\n",
       "      <td>68.000</td>\n",
       "      <td>0.281</td>\n",
       "      <td>NaN</td>\n",
       "      <td>NaN</td>\n",
       "      <td>0.596</td>\n",
       "      <td>0.277</td>\n",
       "    </tr>\n",
       "    <tr>\n",
       "      <th>523</th>\n",
       "      <td>Cyprus</td>\n",
       "      <td>2023</td>\n",
       "      <td>6.071</td>\n",
       "      <td>NaN</td>\n",
       "      <td>0.803</td>\n",
       "      <td>73.200</td>\n",
       "      <td>0.730</td>\n",
       "      <td>NaN</td>\n",
       "      <td>0.840</td>\n",
       "      <td>0.682</td>\n",
       "      <td>0.297</td>\n",
       "    </tr>\n",
       "    <tr>\n",
       "      <th>1100</th>\n",
       "      <td>Kosovo</td>\n",
       "      <td>2007</td>\n",
       "      <td>5.104</td>\n",
       "      <td>NaN</td>\n",
       "      <td>0.848</td>\n",
       "      <td>NaN</td>\n",
       "      <td>0.381</td>\n",
       "      <td>NaN</td>\n",
       "      <td>0.894</td>\n",
       "      <td>0.614</td>\n",
       "      <td>0.237</td>\n",
       "    </tr>\n",
       "  </tbody>\n",
       "</table>\n",
       "</div>"
      ],
      "text/plain": [
       "     Country name  year  Life Ladder  Log GDP per capita  Social support  \\\n",
       "13    Afghanistan  2022        1.281                 NaN           0.228   \n",
       "14    Afghanistan  2023        1.446                 NaN           0.368   \n",
       "507          Cuba  2006        5.418                 NaN           0.970   \n",
       "523        Cyprus  2023        6.071                 NaN           0.803   \n",
       "1100       Kosovo  2007        5.104                 NaN           0.848   \n",
       "\n",
       "      Healthy life expectancy at birth  Freedom to make life choices  \\\n",
       "13                              54.875                         0.368   \n",
       "14                              55.200                         0.228   \n",
       "507                             68.000                         0.281   \n",
       "523                             73.200                         0.730   \n",
       "1100                               NaN                         0.381   \n",
       "\n",
       "      Generosity  Perceptions of corruption  Positive affect  Negative affect  \n",
       "13           NaN                      0.733            0.206            0.576  \n",
       "14           NaN                      0.738            0.261            0.460  \n",
       "507          NaN                        NaN            0.596            0.277  \n",
       "523          NaN                      0.840            0.682            0.297  \n",
       "1100         NaN                      0.894            0.614            0.237  "
      ]
     },
     "execution_count": 21,
     "metadata": {},
     "output_type": "execute_result"
    }
   ],
   "source": [
    "df[df['Log GDP per capita'].isna() == True].head()"
   ]
  },
  {
   "cell_type": "code",
   "execution_count": 22,
   "metadata": {},
   "outputs": [
    {
     "data": {
      "text/plain": [
       "2005     27\n",
       "2006     89\n",
       "2007    102\n",
       "2008    110\n",
       "2009    114\n",
       "2010    124\n",
       "2011    146\n",
       "2012    141\n",
       "2013    136\n",
       "2014    144\n",
       "2015    142\n",
       "2016    141\n",
       "2017    147\n",
       "2018    141\n",
       "2019    143\n",
       "2020    116\n",
       "2021    122\n",
       "2022    140\n",
       "2023    138\n",
       "Name: year, dtype: int64"
      ]
     },
     "execution_count": 22,
     "metadata": {},
     "output_type": "execute_result"
    }
   ],
   "source": [
    "df['year'].value_counts().sort_index(ascending=True)"
   ]
  },
  {
   "cell_type": "markdown",
   "metadata": {},
   "source": [
    "Simply forward- or backward-propagating or interpolating is going to be questionable. Not all information is available in every country in every year, so doing that naively may result in problems (e.g. Afghanistan's last year's GDP is NaN; backpropagating would fill it with info from Albania, which would be wrong).\n"
   ]
  },
  {
   "cell_type": "code",
   "execution_count": 23,
   "metadata": {},
   "outputs": [
    {
     "data": {
      "text/html": [
       "<div>\n",
       "<style scoped>\n",
       "    .dataframe tbody tr th:only-of-type {\n",
       "        vertical-align: middle;\n",
       "    }\n",
       "\n",
       "    .dataframe tbody tr th {\n",
       "        vertical-align: top;\n",
       "    }\n",
       "\n",
       "    .dataframe thead th {\n",
       "        text-align: right;\n",
       "    }\n",
       "</style>\n",
       "<table border=\"1\" class=\"dataframe\">\n",
       "  <thead>\n",
       "    <tr style=\"text-align: right;\">\n",
       "      <th></th>\n",
       "      <th>Country name</th>\n",
       "      <th>year</th>\n",
       "      <th>Life Ladder</th>\n",
       "      <th>Log GDP per capita</th>\n",
       "      <th>Social support</th>\n",
       "      <th>Healthy life expectancy at birth</th>\n",
       "      <th>Freedom to make life choices</th>\n",
       "      <th>Generosity</th>\n",
       "      <th>Perceptions of corruption</th>\n",
       "      <th>Positive affect</th>\n",
       "      <th>Negative affect</th>\n",
       "    </tr>\n",
       "  </thead>\n",
       "  <tbody>\n",
       "    <tr>\n",
       "      <th>0</th>\n",
       "      <td>Afghanistan</td>\n",
       "      <td>2008</td>\n",
       "      <td>3.724</td>\n",
       "      <td>7.350</td>\n",
       "      <td>0.451</td>\n",
       "      <td>50.500</td>\n",
       "      <td>0.718</td>\n",
       "      <td>0.164</td>\n",
       "      <td>0.882</td>\n",
       "      <td>0.414</td>\n",
       "      <td>0.258</td>\n",
       "    </tr>\n",
       "    <tr>\n",
       "      <th>1</th>\n",
       "      <td>Afghanistan</td>\n",
       "      <td>2009</td>\n",
       "      <td>4.402</td>\n",
       "      <td>7.509</td>\n",
       "      <td>0.552</td>\n",
       "      <td>50.800</td>\n",
       "      <td>0.679</td>\n",
       "      <td>0.187</td>\n",
       "      <td>0.850</td>\n",
       "      <td>0.481</td>\n",
       "      <td>0.237</td>\n",
       "    </tr>\n",
       "    <tr>\n",
       "      <th>2</th>\n",
       "      <td>Afghanistan</td>\n",
       "      <td>2010</td>\n",
       "      <td>4.758</td>\n",
       "      <td>7.614</td>\n",
       "      <td>0.539</td>\n",
       "      <td>51.100</td>\n",
       "      <td>0.600</td>\n",
       "      <td>0.118</td>\n",
       "      <td>0.707</td>\n",
       "      <td>0.517</td>\n",
       "      <td>0.275</td>\n",
       "    </tr>\n",
       "    <tr>\n",
       "      <th>3</th>\n",
       "      <td>Afghanistan</td>\n",
       "      <td>2011</td>\n",
       "      <td>3.832</td>\n",
       "      <td>7.581</td>\n",
       "      <td>0.521</td>\n",
       "      <td>51.400</td>\n",
       "      <td>0.496</td>\n",
       "      <td>0.160</td>\n",
       "      <td>0.731</td>\n",
       "      <td>0.480</td>\n",
       "      <td>0.267</td>\n",
       "    </tr>\n",
       "    <tr>\n",
       "      <th>4</th>\n",
       "      <td>Afghanistan</td>\n",
       "      <td>2012</td>\n",
       "      <td>3.783</td>\n",
       "      <td>7.661</td>\n",
       "      <td>0.521</td>\n",
       "      <td>51.700</td>\n",
       "      <td>0.531</td>\n",
       "      <td>0.234</td>\n",
       "      <td>0.776</td>\n",
       "      <td>0.614</td>\n",
       "      <td>0.268</td>\n",
       "    </tr>\n",
       "    <tr>\n",
       "      <th>5</th>\n",
       "      <td>Afghanistan</td>\n",
       "      <td>2013</td>\n",
       "      <td>3.572</td>\n",
       "      <td>7.680</td>\n",
       "      <td>0.484</td>\n",
       "      <td>52.000</td>\n",
       "      <td>0.578</td>\n",
       "      <td>0.059</td>\n",
       "      <td>0.823</td>\n",
       "      <td>0.547</td>\n",
       "      <td>0.273</td>\n",
       "    </tr>\n",
       "    <tr>\n",
       "      <th>6</th>\n",
       "      <td>Afghanistan</td>\n",
       "      <td>2014</td>\n",
       "      <td>3.131</td>\n",
       "      <td>7.671</td>\n",
       "      <td>0.526</td>\n",
       "      <td>52.300</td>\n",
       "      <td>0.509</td>\n",
       "      <td>0.102</td>\n",
       "      <td>0.871</td>\n",
       "      <td>0.492</td>\n",
       "      <td>0.375</td>\n",
       "    </tr>\n",
       "    <tr>\n",
       "      <th>7</th>\n",
       "      <td>Afghanistan</td>\n",
       "      <td>2015</td>\n",
       "      <td>3.983</td>\n",
       "      <td>7.654</td>\n",
       "      <td>0.529</td>\n",
       "      <td>52.600</td>\n",
       "      <td>0.389</td>\n",
       "      <td>0.078</td>\n",
       "      <td>0.881</td>\n",
       "      <td>0.491</td>\n",
       "      <td>0.339</td>\n",
       "    </tr>\n",
       "    <tr>\n",
       "      <th>8</th>\n",
       "      <td>Afghanistan</td>\n",
       "      <td>2016</td>\n",
       "      <td>4.220</td>\n",
       "      <td>7.650</td>\n",
       "      <td>0.559</td>\n",
       "      <td>52.925</td>\n",
       "      <td>0.523</td>\n",
       "      <td>0.040</td>\n",
       "      <td>0.793</td>\n",
       "      <td>0.501</td>\n",
       "      <td>0.348</td>\n",
       "    </tr>\n",
       "    <tr>\n",
       "      <th>9</th>\n",
       "      <td>Afghanistan</td>\n",
       "      <td>2017</td>\n",
       "      <td>2.662</td>\n",
       "      <td>7.648</td>\n",
       "      <td>0.491</td>\n",
       "      <td>53.250</td>\n",
       "      <td>0.427</td>\n",
       "      <td>-0.123</td>\n",
       "      <td>0.954</td>\n",
       "      <td>0.435</td>\n",
       "      <td>0.371</td>\n",
       "    </tr>\n",
       "    <tr>\n",
       "      <th>10</th>\n",
       "      <td>Afghanistan</td>\n",
       "      <td>2018</td>\n",
       "      <td>2.694</td>\n",
       "      <td>7.631</td>\n",
       "      <td>0.508</td>\n",
       "      <td>53.575</td>\n",
       "      <td>0.374</td>\n",
       "      <td>-0.095</td>\n",
       "      <td>0.928</td>\n",
       "      <td>0.385</td>\n",
       "      <td>0.405</td>\n",
       "    </tr>\n",
       "    <tr>\n",
       "      <th>11</th>\n",
       "      <td>Afghanistan</td>\n",
       "      <td>2019</td>\n",
       "      <td>2.375</td>\n",
       "      <td>7.640</td>\n",
       "      <td>0.420</td>\n",
       "      <td>53.900</td>\n",
       "      <td>0.394</td>\n",
       "      <td>-0.109</td>\n",
       "      <td>0.924</td>\n",
       "      <td>0.324</td>\n",
       "      <td>0.502</td>\n",
       "    </tr>\n",
       "    <tr>\n",
       "      <th>12</th>\n",
       "      <td>Afghanistan</td>\n",
       "      <td>2021</td>\n",
       "      <td>2.436</td>\n",
       "      <td>7.325</td>\n",
       "      <td>0.454</td>\n",
       "      <td>54.550</td>\n",
       "      <td>0.394</td>\n",
       "      <td>-0.085</td>\n",
       "      <td>0.946</td>\n",
       "      <td>0.179</td>\n",
       "      <td>0.607</td>\n",
       "    </tr>\n",
       "    <tr>\n",
       "      <th>13</th>\n",
       "      <td>Afghanistan</td>\n",
       "      <td>2022</td>\n",
       "      <td>1.281</td>\n",
       "      <td>7.325</td>\n",
       "      <td>0.228</td>\n",
       "      <td>54.875</td>\n",
       "      <td>0.368</td>\n",
       "      <td>-0.085</td>\n",
       "      <td>0.733</td>\n",
       "      <td>0.206</td>\n",
       "      <td>0.576</td>\n",
       "    </tr>\n",
       "    <tr>\n",
       "      <th>14</th>\n",
       "      <td>Afghanistan</td>\n",
       "      <td>2023</td>\n",
       "      <td>1.446</td>\n",
       "      <td>7.325</td>\n",
       "      <td>0.368</td>\n",
       "      <td>55.200</td>\n",
       "      <td>0.228</td>\n",
       "      <td>-0.085</td>\n",
       "      <td>0.738</td>\n",
       "      <td>0.261</td>\n",
       "      <td>0.460</td>\n",
       "    </tr>\n",
       "    <tr>\n",
       "      <th>15</th>\n",
       "      <td>Albania</td>\n",
       "      <td>2007</td>\n",
       "      <td>4.634</td>\n",
       "      <td>9.122</td>\n",
       "      <td>0.821</td>\n",
       "      <td>66.760</td>\n",
       "      <td>0.529</td>\n",
       "      <td>-0.013</td>\n",
       "      <td>0.875</td>\n",
       "      <td>0.489</td>\n",
       "      <td>0.246</td>\n",
       "    </tr>\n",
       "  </tbody>\n",
       "</table>\n",
       "</div>"
      ],
      "text/plain": [
       "   Country name  year  Life Ladder  Log GDP per capita  Social support  \\\n",
       "0   Afghanistan  2008        3.724               7.350           0.451   \n",
       "1   Afghanistan  2009        4.402               7.509           0.552   \n",
       "2   Afghanistan  2010        4.758               7.614           0.539   \n",
       "3   Afghanistan  2011        3.832               7.581           0.521   \n",
       "4   Afghanistan  2012        3.783               7.661           0.521   \n",
       "5   Afghanistan  2013        3.572               7.680           0.484   \n",
       "6   Afghanistan  2014        3.131               7.671           0.526   \n",
       "7   Afghanistan  2015        3.983               7.654           0.529   \n",
       "8   Afghanistan  2016        4.220               7.650           0.559   \n",
       "9   Afghanistan  2017        2.662               7.648           0.491   \n",
       "10  Afghanistan  2018        2.694               7.631           0.508   \n",
       "11  Afghanistan  2019        2.375               7.640           0.420   \n",
       "12  Afghanistan  2021        2.436               7.325           0.454   \n",
       "13  Afghanistan  2022        1.281               7.325           0.228   \n",
       "14  Afghanistan  2023        1.446               7.325           0.368   \n",
       "15      Albania  2007        4.634               9.122           0.821   \n",
       "\n",
       "    Healthy life expectancy at birth  Freedom to make life choices  \\\n",
       "0                             50.500                         0.718   \n",
       "1                             50.800                         0.679   \n",
       "2                             51.100                         0.600   \n",
       "3                             51.400                         0.496   \n",
       "4                             51.700                         0.531   \n",
       "5                             52.000                         0.578   \n",
       "6                             52.300                         0.509   \n",
       "7                             52.600                         0.389   \n",
       "8                             52.925                         0.523   \n",
       "9                             53.250                         0.427   \n",
       "10                            53.575                         0.374   \n",
       "11                            53.900                         0.394   \n",
       "12                            54.550                         0.394   \n",
       "13                            54.875                         0.368   \n",
       "14                            55.200                         0.228   \n",
       "15                            66.760                         0.529   \n",
       "\n",
       "    Generosity  Perceptions of corruption  Positive affect  Negative affect  \n",
       "0        0.164                      0.882            0.414            0.258  \n",
       "1        0.187                      0.850            0.481            0.237  \n",
       "2        0.118                      0.707            0.517            0.275  \n",
       "3        0.160                      0.731            0.480            0.267  \n",
       "4        0.234                      0.776            0.614            0.268  \n",
       "5        0.059                      0.823            0.547            0.273  \n",
       "6        0.102                      0.871            0.492            0.375  \n",
       "7        0.078                      0.881            0.491            0.339  \n",
       "8        0.040                      0.793            0.501            0.348  \n",
       "9       -0.123                      0.954            0.435            0.371  \n",
       "10      -0.095                      0.928            0.385            0.405  \n",
       "11      -0.109                      0.924            0.324            0.502  \n",
       "12      -0.085                      0.946            0.179            0.607  \n",
       "13      -0.085                      0.733            0.206            0.576  \n",
       "14      -0.085                      0.738            0.261            0.460  \n",
       "15      -0.013                      0.875            0.489            0.246  "
      ]
     },
     "execution_count": 23,
     "metadata": {},
     "output_type": "execute_result"
    }
   ],
   "source": [
    "# Sort so interpolation respects time\n",
    "df = df.sort_values(['Country name', 'year']).copy()\n",
    "\n",
    "# Pick numeric columns (optionally exclude 'year' from interpolation)\n",
    "num_cols = df.select_dtypes(include=[np.number]).columns\n",
    "num_cols = num_cols.drop('year', errors='ignore')\n",
    "\n",
    "# Interpolate within each country, forward/backward to fill edges\n",
    "df[num_cols] = (\n",
    "    df.groupby('Country name', group_keys=False)[num_cols]\n",
    "      .apply(lambda g: g.interpolate(limit_direction='both'))\n",
    ")\n",
    "\n",
    "#  If any numeric NaNs remain, fill with country means, then global means\n",
    "df[num_cols] = (\n",
    "    df.groupby('Country name', group_keys=False)[num_cols]\n",
    "      .apply(lambda g: g.fillna(g.mean()))\n",
    "      .fillna(df[num_cols].mean())\n",
    ")\n",
    "\n",
    "# Preview\n",
    "df.head(16)"
   ]
  },
  {
   "cell_type": "markdown",
   "metadata": {},
   "source": [
    "Notice that Afghanistan's `Log GDP per capita` in 2022 and 2023 has been interpolated from 2021 without referencing the following row from Albania (so identical to forward propagation in this case). This basically gives our best estimate of what the missing data would be--it's not perfect, but we gain more from being able to preserve everything else in those columns.\n"
   ]
  },
  {
   "cell_type": "code",
   "execution_count": 24,
   "metadata": {},
   "outputs": [
    {
     "name": "stderr",
     "output_type": "stream",
     "text": [
      "/var/folders/yw/ltlm31rx1pzblj_k4g8y8tm00000gn/T/ipykernel_57710/1391878463.py:20: FutureWarning:\n",
      "\n",
      "The default value of numeric_only in DataFrame.mean is deprecated. In a future version, it will default to False. In addition, specifying 'numeric_only=None' is deprecated. Select only valid columns or specify the value of numeric_only to silence this warning.\n",
      "\n",
      "/var/folders/yw/ltlm31rx1pzblj_k4g8y8tm00000gn/T/ipykernel_57710/1391878463.py:20: FutureWarning:\n",
      "\n",
      "The default value of numeric_only in DataFrame.mean is deprecated. In a future version, it will default to False. In addition, specifying 'numeric_only=None' is deprecated. Select only valid columns or specify the value of numeric_only to silence this warning.\n",
      "\n",
      "/var/folders/yw/ltlm31rx1pzblj_k4g8y8tm00000gn/T/ipykernel_57710/1391878463.py:20: FutureWarning:\n",
      "\n",
      "The default value of numeric_only in DataFrame.mean is deprecated. In a future version, it will default to False. In addition, specifying 'numeric_only=None' is deprecated. Select only valid columns or specify the value of numeric_only to silence this warning.\n",
      "\n",
      "/var/folders/yw/ltlm31rx1pzblj_k4g8y8tm00000gn/T/ipykernel_57710/1391878463.py:20: FutureWarning:\n",
      "\n",
      "The default value of numeric_only in DataFrame.mean is deprecated. In a future version, it will default to False. In addition, specifying 'numeric_only=None' is deprecated. Select only valid columns or specify the value of numeric_only to silence this warning.\n",
      "\n",
      "/var/folders/yw/ltlm31rx1pzblj_k4g8y8tm00000gn/T/ipykernel_57710/1391878463.py:20: FutureWarning:\n",
      "\n",
      "The default value of numeric_only in DataFrame.mean is deprecated. In a future version, it will default to False. In addition, specifying 'numeric_only=None' is deprecated. Select only valid columns or specify the value of numeric_only to silence this warning.\n",
      "\n",
      "/var/folders/yw/ltlm31rx1pzblj_k4g8y8tm00000gn/T/ipykernel_57710/1391878463.py:20: FutureWarning:\n",
      "\n",
      "The default value of numeric_only in DataFrame.mean is deprecated. In a future version, it will default to False. In addition, specifying 'numeric_only=None' is deprecated. Select only valid columns or specify the value of numeric_only to silence this warning.\n",
      "\n",
      "/var/folders/yw/ltlm31rx1pzblj_k4g8y8tm00000gn/T/ipykernel_57710/1391878463.py:20: FutureWarning:\n",
      "\n",
      "The default value of numeric_only in DataFrame.mean is deprecated. In a future version, it will default to False. In addition, specifying 'numeric_only=None' is deprecated. Select only valid columns or specify the value of numeric_only to silence this warning.\n",
      "\n",
      "/var/folders/yw/ltlm31rx1pzblj_k4g8y8tm00000gn/T/ipykernel_57710/1391878463.py:20: FutureWarning:\n",
      "\n",
      "The default value of numeric_only in DataFrame.mean is deprecated. In a future version, it will default to False. In addition, specifying 'numeric_only=None' is deprecated. Select only valid columns or specify the value of numeric_only to silence this warning.\n",
      "\n",
      "/var/folders/yw/ltlm31rx1pzblj_k4g8y8tm00000gn/T/ipykernel_57710/1391878463.py:20: FutureWarning:\n",
      "\n",
      "The default value of numeric_only in DataFrame.mean is deprecated. In a future version, it will default to False. In addition, specifying 'numeric_only=None' is deprecated. Select only valid columns or specify the value of numeric_only to silence this warning.\n",
      "\n",
      "/var/folders/yw/ltlm31rx1pzblj_k4g8y8tm00000gn/T/ipykernel_57710/1391878463.py:20: FutureWarning:\n",
      "\n",
      "The default value of numeric_only in DataFrame.mean is deprecated. In a future version, it will default to False. In addition, specifying 'numeric_only=None' is deprecated. Select only valid columns or specify the value of numeric_only to silence this warning.\n",
      "\n",
      "/var/folders/yw/ltlm31rx1pzblj_k4g8y8tm00000gn/T/ipykernel_57710/1391878463.py:20: FutureWarning:\n",
      "\n",
      "The default value of numeric_only in DataFrame.mean is deprecated. In a future version, it will default to False. In addition, specifying 'numeric_only=None' is deprecated. Select only valid columns or specify the value of numeric_only to silence this warning.\n",
      "\n",
      "/var/folders/yw/ltlm31rx1pzblj_k4g8y8tm00000gn/T/ipykernel_57710/1391878463.py:20: FutureWarning:\n",
      "\n",
      "The default value of numeric_only in DataFrame.mean is deprecated. In a future version, it will default to False. In addition, specifying 'numeric_only=None' is deprecated. Select only valid columns or specify the value of numeric_only to silence this warning.\n",
      "\n",
      "/var/folders/yw/ltlm31rx1pzblj_k4g8y8tm00000gn/T/ipykernel_57710/1391878463.py:20: FutureWarning:\n",
      "\n",
      "The default value of numeric_only in DataFrame.mean is deprecated. In a future version, it will default to False. In addition, specifying 'numeric_only=None' is deprecated. Select only valid columns or specify the value of numeric_only to silence this warning.\n",
      "\n",
      "/var/folders/yw/ltlm31rx1pzblj_k4g8y8tm00000gn/T/ipykernel_57710/1391878463.py:20: FutureWarning:\n",
      "\n",
      "The default value of numeric_only in DataFrame.mean is deprecated. In a future version, it will default to False. In addition, specifying 'numeric_only=None' is deprecated. Select only valid columns or specify the value of numeric_only to silence this warning.\n",
      "\n",
      "/var/folders/yw/ltlm31rx1pzblj_k4g8y8tm00000gn/T/ipykernel_57710/1391878463.py:20: FutureWarning:\n",
      "\n",
      "The default value of numeric_only in DataFrame.mean is deprecated. In a future version, it will default to False. In addition, specifying 'numeric_only=None' is deprecated. Select only valid columns or specify the value of numeric_only to silence this warning.\n",
      "\n",
      "/var/folders/yw/ltlm31rx1pzblj_k4g8y8tm00000gn/T/ipykernel_57710/1391878463.py:20: FutureWarning:\n",
      "\n",
      "The default value of numeric_only in DataFrame.mean is deprecated. In a future version, it will default to False. In addition, specifying 'numeric_only=None' is deprecated. Select only valid columns or specify the value of numeric_only to silence this warning.\n",
      "\n",
      "/var/folders/yw/ltlm31rx1pzblj_k4g8y8tm00000gn/T/ipykernel_57710/1391878463.py:20: FutureWarning:\n",
      "\n",
      "The default value of numeric_only in DataFrame.mean is deprecated. In a future version, it will default to False. In addition, specifying 'numeric_only=None' is deprecated. Select only valid columns or specify the value of numeric_only to silence this warning.\n",
      "\n",
      "/var/folders/yw/ltlm31rx1pzblj_k4g8y8tm00000gn/T/ipykernel_57710/1391878463.py:20: FutureWarning:\n",
      "\n",
      "The default value of numeric_only in DataFrame.mean is deprecated. In a future version, it will default to False. In addition, specifying 'numeric_only=None' is deprecated. Select only valid columns or specify the value of numeric_only to silence this warning.\n",
      "\n",
      "/var/folders/yw/ltlm31rx1pzblj_k4g8y8tm00000gn/T/ipykernel_57710/1391878463.py:20: FutureWarning:\n",
      "\n",
      "The default value of numeric_only in DataFrame.mean is deprecated. In a future version, it will default to False. In addition, specifying 'numeric_only=None' is deprecated. Select only valid columns or specify the value of numeric_only to silence this warning.\n",
      "\n",
      "/var/folders/yw/ltlm31rx1pzblj_k4g8y8tm00000gn/T/ipykernel_57710/1391878463.py:20: FutureWarning:\n",
      "\n",
      "The default value of numeric_only in DataFrame.mean is deprecated. In a future version, it will default to False. In addition, specifying 'numeric_only=None' is deprecated. Select only valid columns or specify the value of numeric_only to silence this warning.\n",
      "\n",
      "/var/folders/yw/ltlm31rx1pzblj_k4g8y8tm00000gn/T/ipykernel_57710/1391878463.py:20: FutureWarning:\n",
      "\n",
      "The default value of numeric_only in DataFrame.mean is deprecated. In a future version, it will default to False. In addition, specifying 'numeric_only=None' is deprecated. Select only valid columns or specify the value of numeric_only to silence this warning.\n",
      "\n",
      "/var/folders/yw/ltlm31rx1pzblj_k4g8y8tm00000gn/T/ipykernel_57710/1391878463.py:20: FutureWarning:\n",
      "\n",
      "The default value of numeric_only in DataFrame.mean is deprecated. In a future version, it will default to False. In addition, specifying 'numeric_only=None' is deprecated. Select only valid columns or specify the value of numeric_only to silence this warning.\n",
      "\n",
      "/var/folders/yw/ltlm31rx1pzblj_k4g8y8tm00000gn/T/ipykernel_57710/1391878463.py:20: FutureWarning:\n",
      "\n",
      "The default value of numeric_only in DataFrame.mean is deprecated. In a future version, it will default to False. In addition, specifying 'numeric_only=None' is deprecated. Select only valid columns or specify the value of numeric_only to silence this warning.\n",
      "\n",
      "/var/folders/yw/ltlm31rx1pzblj_k4g8y8tm00000gn/T/ipykernel_57710/1391878463.py:20: FutureWarning:\n",
      "\n",
      "The default value of numeric_only in DataFrame.mean is deprecated. In a future version, it will default to False. In addition, specifying 'numeric_only=None' is deprecated. Select only valid columns or specify the value of numeric_only to silence this warning.\n",
      "\n",
      "/var/folders/yw/ltlm31rx1pzblj_k4g8y8tm00000gn/T/ipykernel_57710/1391878463.py:20: FutureWarning:\n",
      "\n",
      "The default value of numeric_only in DataFrame.mean is deprecated. In a future version, it will default to False. In addition, specifying 'numeric_only=None' is deprecated. Select only valid columns or specify the value of numeric_only to silence this warning.\n",
      "\n",
      "/var/folders/yw/ltlm31rx1pzblj_k4g8y8tm00000gn/T/ipykernel_57710/1391878463.py:20: FutureWarning:\n",
      "\n",
      "The default value of numeric_only in DataFrame.mean is deprecated. In a future version, it will default to False. In addition, specifying 'numeric_only=None' is deprecated. Select only valid columns or specify the value of numeric_only to silence this warning.\n",
      "\n",
      "/var/folders/yw/ltlm31rx1pzblj_k4g8y8tm00000gn/T/ipykernel_57710/1391878463.py:20: FutureWarning:\n",
      "\n",
      "The default value of numeric_only in DataFrame.mean is deprecated. In a future version, it will default to False. In addition, specifying 'numeric_only=None' is deprecated. Select only valid columns or specify the value of numeric_only to silence this warning.\n",
      "\n",
      "/var/folders/yw/ltlm31rx1pzblj_k4g8y8tm00000gn/T/ipykernel_57710/1391878463.py:20: FutureWarning:\n",
      "\n",
      "The default value of numeric_only in DataFrame.mean is deprecated. In a future version, it will default to False. In addition, specifying 'numeric_only=None' is deprecated. Select only valid columns or specify the value of numeric_only to silence this warning.\n",
      "\n",
      "/var/folders/yw/ltlm31rx1pzblj_k4g8y8tm00000gn/T/ipykernel_57710/1391878463.py:20: FutureWarning:\n",
      "\n",
      "The default value of numeric_only in DataFrame.mean is deprecated. In a future version, it will default to False. In addition, specifying 'numeric_only=None' is deprecated. Select only valid columns or specify the value of numeric_only to silence this warning.\n",
      "\n",
      "/var/folders/yw/ltlm31rx1pzblj_k4g8y8tm00000gn/T/ipykernel_57710/1391878463.py:20: FutureWarning:\n",
      "\n",
      "The default value of numeric_only in DataFrame.mean is deprecated. In a future version, it will default to False. In addition, specifying 'numeric_only=None' is deprecated. Select only valid columns or specify the value of numeric_only to silence this warning.\n",
      "\n",
      "/var/folders/yw/ltlm31rx1pzblj_k4g8y8tm00000gn/T/ipykernel_57710/1391878463.py:20: FutureWarning:\n",
      "\n",
      "The default value of numeric_only in DataFrame.mean is deprecated. In a future version, it will default to False. In addition, specifying 'numeric_only=None' is deprecated. Select only valid columns or specify the value of numeric_only to silence this warning.\n",
      "\n",
      "/var/folders/yw/ltlm31rx1pzblj_k4g8y8tm00000gn/T/ipykernel_57710/1391878463.py:20: FutureWarning:\n",
      "\n",
      "The default value of numeric_only in DataFrame.mean is deprecated. In a future version, it will default to False. In addition, specifying 'numeric_only=None' is deprecated. Select only valid columns or specify the value of numeric_only to silence this warning.\n",
      "\n",
      "/var/folders/yw/ltlm31rx1pzblj_k4g8y8tm00000gn/T/ipykernel_57710/1391878463.py:20: FutureWarning:\n",
      "\n",
      "The default value of numeric_only in DataFrame.mean is deprecated. In a future version, it will default to False. In addition, specifying 'numeric_only=None' is deprecated. Select only valid columns or specify the value of numeric_only to silence this warning.\n",
      "\n",
      "/var/folders/yw/ltlm31rx1pzblj_k4g8y8tm00000gn/T/ipykernel_57710/1391878463.py:20: FutureWarning:\n",
      "\n",
      "The default value of numeric_only in DataFrame.mean is deprecated. In a future version, it will default to False. In addition, specifying 'numeric_only=None' is deprecated. Select only valid columns or specify the value of numeric_only to silence this warning.\n",
      "\n",
      "/var/folders/yw/ltlm31rx1pzblj_k4g8y8tm00000gn/T/ipykernel_57710/1391878463.py:20: FutureWarning:\n",
      "\n",
      "The default value of numeric_only in DataFrame.mean is deprecated. In a future version, it will default to False. In addition, specifying 'numeric_only=None' is deprecated. Select only valid columns or specify the value of numeric_only to silence this warning.\n",
      "\n",
      "/var/folders/yw/ltlm31rx1pzblj_k4g8y8tm00000gn/T/ipykernel_57710/1391878463.py:20: FutureWarning:\n",
      "\n",
      "The default value of numeric_only in DataFrame.mean is deprecated. In a future version, it will default to False. In addition, specifying 'numeric_only=None' is deprecated. Select only valid columns or specify the value of numeric_only to silence this warning.\n",
      "\n",
      "/var/folders/yw/ltlm31rx1pzblj_k4g8y8tm00000gn/T/ipykernel_57710/1391878463.py:20: FutureWarning:\n",
      "\n",
      "The default value of numeric_only in DataFrame.mean is deprecated. In a future version, it will default to False. In addition, specifying 'numeric_only=None' is deprecated. Select only valid columns or specify the value of numeric_only to silence this warning.\n",
      "\n",
      "/var/folders/yw/ltlm31rx1pzblj_k4g8y8tm00000gn/T/ipykernel_57710/1391878463.py:20: FutureWarning:\n",
      "\n",
      "The default value of numeric_only in DataFrame.mean is deprecated. In a future version, it will default to False. In addition, specifying 'numeric_only=None' is deprecated. Select only valid columns or specify the value of numeric_only to silence this warning.\n",
      "\n",
      "/var/folders/yw/ltlm31rx1pzblj_k4g8y8tm00000gn/T/ipykernel_57710/1391878463.py:20: FutureWarning:\n",
      "\n",
      "The default value of numeric_only in DataFrame.mean is deprecated. In a future version, it will default to False. In addition, specifying 'numeric_only=None' is deprecated. Select only valid columns or specify the value of numeric_only to silence this warning.\n",
      "\n",
      "/var/folders/yw/ltlm31rx1pzblj_k4g8y8tm00000gn/T/ipykernel_57710/1391878463.py:20: FutureWarning:\n",
      "\n",
      "The default value of numeric_only in DataFrame.mean is deprecated. In a future version, it will default to False. In addition, specifying 'numeric_only=None' is deprecated. Select only valid columns or specify the value of numeric_only to silence this warning.\n",
      "\n",
      "/var/folders/yw/ltlm31rx1pzblj_k4g8y8tm00000gn/T/ipykernel_57710/1391878463.py:20: FutureWarning:\n",
      "\n",
      "The default value of numeric_only in DataFrame.mean is deprecated. In a future version, it will default to False. In addition, specifying 'numeric_only=None' is deprecated. Select only valid columns or specify the value of numeric_only to silence this warning.\n",
      "\n",
      "/var/folders/yw/ltlm31rx1pzblj_k4g8y8tm00000gn/T/ipykernel_57710/1391878463.py:20: FutureWarning:\n",
      "\n",
      "The default value of numeric_only in DataFrame.mean is deprecated. In a future version, it will default to False. In addition, specifying 'numeric_only=None' is deprecated. Select only valid columns or specify the value of numeric_only to silence this warning.\n",
      "\n",
      "/var/folders/yw/ltlm31rx1pzblj_k4g8y8tm00000gn/T/ipykernel_57710/1391878463.py:20: FutureWarning:\n",
      "\n",
      "The default value of numeric_only in DataFrame.mean is deprecated. In a future version, it will default to False. In addition, specifying 'numeric_only=None' is deprecated. Select only valid columns or specify the value of numeric_only to silence this warning.\n",
      "\n",
      "/var/folders/yw/ltlm31rx1pzblj_k4g8y8tm00000gn/T/ipykernel_57710/1391878463.py:20: FutureWarning:\n",
      "\n",
      "The default value of numeric_only in DataFrame.mean is deprecated. In a future version, it will default to False. In addition, specifying 'numeric_only=None' is deprecated. Select only valid columns or specify the value of numeric_only to silence this warning.\n",
      "\n",
      "/var/folders/yw/ltlm31rx1pzblj_k4g8y8tm00000gn/T/ipykernel_57710/1391878463.py:20: FutureWarning:\n",
      "\n",
      "The default value of numeric_only in DataFrame.mean is deprecated. In a future version, it will default to False. In addition, specifying 'numeric_only=None' is deprecated. Select only valid columns or specify the value of numeric_only to silence this warning.\n",
      "\n",
      "/var/folders/yw/ltlm31rx1pzblj_k4g8y8tm00000gn/T/ipykernel_57710/1391878463.py:20: FutureWarning:\n",
      "\n",
      "The default value of numeric_only in DataFrame.mean is deprecated. In a future version, it will default to False. In addition, specifying 'numeric_only=None' is deprecated. Select only valid columns or specify the value of numeric_only to silence this warning.\n",
      "\n",
      "/var/folders/yw/ltlm31rx1pzblj_k4g8y8tm00000gn/T/ipykernel_57710/1391878463.py:20: FutureWarning:\n",
      "\n",
      "The default value of numeric_only in DataFrame.mean is deprecated. In a future version, it will default to False. In addition, specifying 'numeric_only=None' is deprecated. Select only valid columns or specify the value of numeric_only to silence this warning.\n",
      "\n",
      "/var/folders/yw/ltlm31rx1pzblj_k4g8y8tm00000gn/T/ipykernel_57710/1391878463.py:20: FutureWarning:\n",
      "\n",
      "The default value of numeric_only in DataFrame.mean is deprecated. In a future version, it will default to False. In addition, specifying 'numeric_only=None' is deprecated. Select only valid columns or specify the value of numeric_only to silence this warning.\n",
      "\n",
      "/var/folders/yw/ltlm31rx1pzblj_k4g8y8tm00000gn/T/ipykernel_57710/1391878463.py:20: FutureWarning:\n",
      "\n",
      "The default value of numeric_only in DataFrame.mean is deprecated. In a future version, it will default to False. In addition, specifying 'numeric_only=None' is deprecated. Select only valid columns or specify the value of numeric_only to silence this warning.\n",
      "\n",
      "/var/folders/yw/ltlm31rx1pzblj_k4g8y8tm00000gn/T/ipykernel_57710/1391878463.py:20: FutureWarning:\n",
      "\n",
      "The default value of numeric_only in DataFrame.mean is deprecated. In a future version, it will default to False. In addition, specifying 'numeric_only=None' is deprecated. Select only valid columns or specify the value of numeric_only to silence this warning.\n",
      "\n",
      "/var/folders/yw/ltlm31rx1pzblj_k4g8y8tm00000gn/T/ipykernel_57710/1391878463.py:20: FutureWarning:\n",
      "\n",
      "The default value of numeric_only in DataFrame.mean is deprecated. In a future version, it will default to False. In addition, specifying 'numeric_only=None' is deprecated. Select only valid columns or specify the value of numeric_only to silence this warning.\n",
      "\n",
      "/var/folders/yw/ltlm31rx1pzblj_k4g8y8tm00000gn/T/ipykernel_57710/1391878463.py:20: FutureWarning:\n",
      "\n",
      "The default value of numeric_only in DataFrame.mean is deprecated. In a future version, it will default to False. In addition, specifying 'numeric_only=None' is deprecated. Select only valid columns or specify the value of numeric_only to silence this warning.\n",
      "\n",
      "/var/folders/yw/ltlm31rx1pzblj_k4g8y8tm00000gn/T/ipykernel_57710/1391878463.py:20: FutureWarning:\n",
      "\n",
      "The default value of numeric_only in DataFrame.mean is deprecated. In a future version, it will default to False. In addition, specifying 'numeric_only=None' is deprecated. Select only valid columns or specify the value of numeric_only to silence this warning.\n",
      "\n",
      "/var/folders/yw/ltlm31rx1pzblj_k4g8y8tm00000gn/T/ipykernel_57710/1391878463.py:20: FutureWarning:\n",
      "\n",
      "The default value of numeric_only in DataFrame.mean is deprecated. In a future version, it will default to False. In addition, specifying 'numeric_only=None' is deprecated. Select only valid columns or specify the value of numeric_only to silence this warning.\n",
      "\n",
      "/var/folders/yw/ltlm31rx1pzblj_k4g8y8tm00000gn/T/ipykernel_57710/1391878463.py:20: FutureWarning:\n",
      "\n",
      "The default value of numeric_only in DataFrame.mean is deprecated. In a future version, it will default to False. In addition, specifying 'numeric_only=None' is deprecated. Select only valid columns or specify the value of numeric_only to silence this warning.\n",
      "\n",
      "/var/folders/yw/ltlm31rx1pzblj_k4g8y8tm00000gn/T/ipykernel_57710/1391878463.py:20: FutureWarning:\n",
      "\n",
      "The default value of numeric_only in DataFrame.mean is deprecated. In a future version, it will default to False. In addition, specifying 'numeric_only=None' is deprecated. Select only valid columns or specify the value of numeric_only to silence this warning.\n",
      "\n",
      "/var/folders/yw/ltlm31rx1pzblj_k4g8y8tm00000gn/T/ipykernel_57710/1391878463.py:20: FutureWarning:\n",
      "\n",
      "The default value of numeric_only in DataFrame.mean is deprecated. In a future version, it will default to False. In addition, specifying 'numeric_only=None' is deprecated. Select only valid columns or specify the value of numeric_only to silence this warning.\n",
      "\n",
      "/var/folders/yw/ltlm31rx1pzblj_k4g8y8tm00000gn/T/ipykernel_57710/1391878463.py:20: FutureWarning:\n",
      "\n",
      "The default value of numeric_only in DataFrame.mean is deprecated. In a future version, it will default to False. In addition, specifying 'numeric_only=None' is deprecated. Select only valid columns or specify the value of numeric_only to silence this warning.\n",
      "\n",
      "/var/folders/yw/ltlm31rx1pzblj_k4g8y8tm00000gn/T/ipykernel_57710/1391878463.py:20: FutureWarning:\n",
      "\n",
      "The default value of numeric_only in DataFrame.mean is deprecated. In a future version, it will default to False. In addition, specifying 'numeric_only=None' is deprecated. Select only valid columns or specify the value of numeric_only to silence this warning.\n",
      "\n",
      "/var/folders/yw/ltlm31rx1pzblj_k4g8y8tm00000gn/T/ipykernel_57710/1391878463.py:20: FutureWarning:\n",
      "\n",
      "The default value of numeric_only in DataFrame.mean is deprecated. In a future version, it will default to False. In addition, specifying 'numeric_only=None' is deprecated. Select only valid columns or specify the value of numeric_only to silence this warning.\n",
      "\n",
      "/var/folders/yw/ltlm31rx1pzblj_k4g8y8tm00000gn/T/ipykernel_57710/1391878463.py:20: FutureWarning:\n",
      "\n",
      "The default value of numeric_only in DataFrame.mean is deprecated. In a future version, it will default to False. In addition, specifying 'numeric_only=None' is deprecated. Select only valid columns or specify the value of numeric_only to silence this warning.\n",
      "\n",
      "/var/folders/yw/ltlm31rx1pzblj_k4g8y8tm00000gn/T/ipykernel_57710/1391878463.py:20: FutureWarning:\n",
      "\n",
      "The default value of numeric_only in DataFrame.mean is deprecated. In a future version, it will default to False. In addition, specifying 'numeric_only=None' is deprecated. Select only valid columns or specify the value of numeric_only to silence this warning.\n",
      "\n",
      "/var/folders/yw/ltlm31rx1pzblj_k4g8y8tm00000gn/T/ipykernel_57710/1391878463.py:20: FutureWarning:\n",
      "\n",
      "The default value of numeric_only in DataFrame.mean is deprecated. In a future version, it will default to False. In addition, specifying 'numeric_only=None' is deprecated. Select only valid columns or specify the value of numeric_only to silence this warning.\n",
      "\n",
      "/var/folders/yw/ltlm31rx1pzblj_k4g8y8tm00000gn/T/ipykernel_57710/1391878463.py:20: FutureWarning:\n",
      "\n",
      "The default value of numeric_only in DataFrame.mean is deprecated. In a future version, it will default to False. In addition, specifying 'numeric_only=None' is deprecated. Select only valid columns or specify the value of numeric_only to silence this warning.\n",
      "\n",
      "/var/folders/yw/ltlm31rx1pzblj_k4g8y8tm00000gn/T/ipykernel_57710/1391878463.py:20: FutureWarning:\n",
      "\n",
      "The default value of numeric_only in DataFrame.mean is deprecated. In a future version, it will default to False. In addition, specifying 'numeric_only=None' is deprecated. Select only valid columns or specify the value of numeric_only to silence this warning.\n",
      "\n",
      "/var/folders/yw/ltlm31rx1pzblj_k4g8y8tm00000gn/T/ipykernel_57710/1391878463.py:20: FutureWarning:\n",
      "\n",
      "The default value of numeric_only in DataFrame.mean is deprecated. In a future version, it will default to False. In addition, specifying 'numeric_only=None' is deprecated. Select only valid columns or specify the value of numeric_only to silence this warning.\n",
      "\n",
      "/var/folders/yw/ltlm31rx1pzblj_k4g8y8tm00000gn/T/ipykernel_57710/1391878463.py:20: FutureWarning:\n",
      "\n",
      "The default value of numeric_only in DataFrame.mean is deprecated. In a future version, it will default to False. In addition, specifying 'numeric_only=None' is deprecated. Select only valid columns or specify the value of numeric_only to silence this warning.\n",
      "\n",
      "/var/folders/yw/ltlm31rx1pzblj_k4g8y8tm00000gn/T/ipykernel_57710/1391878463.py:20: FutureWarning:\n",
      "\n",
      "The default value of numeric_only in DataFrame.mean is deprecated. In a future version, it will default to False. In addition, specifying 'numeric_only=None' is deprecated. Select only valid columns or specify the value of numeric_only to silence this warning.\n",
      "\n",
      "/var/folders/yw/ltlm31rx1pzblj_k4g8y8tm00000gn/T/ipykernel_57710/1391878463.py:20: FutureWarning:\n",
      "\n",
      "The default value of numeric_only in DataFrame.mean is deprecated. In a future version, it will default to False. In addition, specifying 'numeric_only=None' is deprecated. Select only valid columns or specify the value of numeric_only to silence this warning.\n",
      "\n",
      "/var/folders/yw/ltlm31rx1pzblj_k4g8y8tm00000gn/T/ipykernel_57710/1391878463.py:20: FutureWarning:\n",
      "\n",
      "The default value of numeric_only in DataFrame.mean is deprecated. In a future version, it will default to False. In addition, specifying 'numeric_only=None' is deprecated. Select only valid columns or specify the value of numeric_only to silence this warning.\n",
      "\n",
      "/var/folders/yw/ltlm31rx1pzblj_k4g8y8tm00000gn/T/ipykernel_57710/1391878463.py:20: FutureWarning:\n",
      "\n",
      "The default value of numeric_only in DataFrame.mean is deprecated. In a future version, it will default to False. In addition, specifying 'numeric_only=None' is deprecated. Select only valid columns or specify the value of numeric_only to silence this warning.\n",
      "\n",
      "/var/folders/yw/ltlm31rx1pzblj_k4g8y8tm00000gn/T/ipykernel_57710/1391878463.py:20: FutureWarning:\n",
      "\n",
      "The default value of numeric_only in DataFrame.mean is deprecated. In a future version, it will default to False. In addition, specifying 'numeric_only=None' is deprecated. Select only valid columns or specify the value of numeric_only to silence this warning.\n",
      "\n",
      "/var/folders/yw/ltlm31rx1pzblj_k4g8y8tm00000gn/T/ipykernel_57710/1391878463.py:20: FutureWarning:\n",
      "\n",
      "The default value of numeric_only in DataFrame.mean is deprecated. In a future version, it will default to False. In addition, specifying 'numeric_only=None' is deprecated. Select only valid columns or specify the value of numeric_only to silence this warning.\n",
      "\n",
      "/var/folders/yw/ltlm31rx1pzblj_k4g8y8tm00000gn/T/ipykernel_57710/1391878463.py:20: FutureWarning:\n",
      "\n",
      "The default value of numeric_only in DataFrame.mean is deprecated. In a future version, it will default to False. In addition, specifying 'numeric_only=None' is deprecated. Select only valid columns or specify the value of numeric_only to silence this warning.\n",
      "\n",
      "/var/folders/yw/ltlm31rx1pzblj_k4g8y8tm00000gn/T/ipykernel_57710/1391878463.py:20: FutureWarning:\n",
      "\n",
      "The default value of numeric_only in DataFrame.mean is deprecated. In a future version, it will default to False. In addition, specifying 'numeric_only=None' is deprecated. Select only valid columns or specify the value of numeric_only to silence this warning.\n",
      "\n",
      "/var/folders/yw/ltlm31rx1pzblj_k4g8y8tm00000gn/T/ipykernel_57710/1391878463.py:20: FutureWarning:\n",
      "\n",
      "The default value of numeric_only in DataFrame.mean is deprecated. In a future version, it will default to False. In addition, specifying 'numeric_only=None' is deprecated. Select only valid columns or specify the value of numeric_only to silence this warning.\n",
      "\n",
      "/var/folders/yw/ltlm31rx1pzblj_k4g8y8tm00000gn/T/ipykernel_57710/1391878463.py:20: FutureWarning:\n",
      "\n",
      "The default value of numeric_only in DataFrame.mean is deprecated. In a future version, it will default to False. In addition, specifying 'numeric_only=None' is deprecated. Select only valid columns or specify the value of numeric_only to silence this warning.\n",
      "\n",
      "/var/folders/yw/ltlm31rx1pzblj_k4g8y8tm00000gn/T/ipykernel_57710/1391878463.py:20: FutureWarning:\n",
      "\n",
      "The default value of numeric_only in DataFrame.mean is deprecated. In a future version, it will default to False. In addition, specifying 'numeric_only=None' is deprecated. Select only valid columns or specify the value of numeric_only to silence this warning.\n",
      "\n",
      "/var/folders/yw/ltlm31rx1pzblj_k4g8y8tm00000gn/T/ipykernel_57710/1391878463.py:20: FutureWarning:\n",
      "\n",
      "The default value of numeric_only in DataFrame.mean is deprecated. In a future version, it will default to False. In addition, specifying 'numeric_only=None' is deprecated. Select only valid columns or specify the value of numeric_only to silence this warning.\n",
      "\n",
      "/var/folders/yw/ltlm31rx1pzblj_k4g8y8tm00000gn/T/ipykernel_57710/1391878463.py:20: FutureWarning:\n",
      "\n",
      "The default value of numeric_only in DataFrame.mean is deprecated. In a future version, it will default to False. In addition, specifying 'numeric_only=None' is deprecated. Select only valid columns or specify the value of numeric_only to silence this warning.\n",
      "\n",
      "/var/folders/yw/ltlm31rx1pzblj_k4g8y8tm00000gn/T/ipykernel_57710/1391878463.py:20: FutureWarning:\n",
      "\n",
      "The default value of numeric_only in DataFrame.mean is deprecated. In a future version, it will default to False. In addition, specifying 'numeric_only=None' is deprecated. Select only valid columns or specify the value of numeric_only to silence this warning.\n",
      "\n",
      "/var/folders/yw/ltlm31rx1pzblj_k4g8y8tm00000gn/T/ipykernel_57710/1391878463.py:20: FutureWarning:\n",
      "\n",
      "The default value of numeric_only in DataFrame.mean is deprecated. In a future version, it will default to False. In addition, specifying 'numeric_only=None' is deprecated. Select only valid columns or specify the value of numeric_only to silence this warning.\n",
      "\n",
      "/var/folders/yw/ltlm31rx1pzblj_k4g8y8tm00000gn/T/ipykernel_57710/1391878463.py:20: FutureWarning:\n",
      "\n",
      "The default value of numeric_only in DataFrame.mean is deprecated. In a future version, it will default to False. In addition, specifying 'numeric_only=None' is deprecated. Select only valid columns or specify the value of numeric_only to silence this warning.\n",
      "\n",
      "/var/folders/yw/ltlm31rx1pzblj_k4g8y8tm00000gn/T/ipykernel_57710/1391878463.py:20: FutureWarning:\n",
      "\n",
      "The default value of numeric_only in DataFrame.mean is deprecated. In a future version, it will default to False. In addition, specifying 'numeric_only=None' is deprecated. Select only valid columns or specify the value of numeric_only to silence this warning.\n",
      "\n",
      "/var/folders/yw/ltlm31rx1pzblj_k4g8y8tm00000gn/T/ipykernel_57710/1391878463.py:20: FutureWarning:\n",
      "\n",
      "The default value of numeric_only in DataFrame.mean is deprecated. In a future version, it will default to False. In addition, specifying 'numeric_only=None' is deprecated. Select only valid columns or specify the value of numeric_only to silence this warning.\n",
      "\n",
      "/var/folders/yw/ltlm31rx1pzblj_k4g8y8tm00000gn/T/ipykernel_57710/1391878463.py:20: FutureWarning:\n",
      "\n",
      "The default value of numeric_only in DataFrame.mean is deprecated. In a future version, it will default to False. In addition, specifying 'numeric_only=None' is deprecated. Select only valid columns or specify the value of numeric_only to silence this warning.\n",
      "\n",
      "/var/folders/yw/ltlm31rx1pzblj_k4g8y8tm00000gn/T/ipykernel_57710/1391878463.py:20: FutureWarning:\n",
      "\n",
      "The default value of numeric_only in DataFrame.mean is deprecated. In a future version, it will default to False. In addition, specifying 'numeric_only=None' is deprecated. Select only valid columns or specify the value of numeric_only to silence this warning.\n",
      "\n",
      "/var/folders/yw/ltlm31rx1pzblj_k4g8y8tm00000gn/T/ipykernel_57710/1391878463.py:20: FutureWarning:\n",
      "\n",
      "The default value of numeric_only in DataFrame.mean is deprecated. In a future version, it will default to False. In addition, specifying 'numeric_only=None' is deprecated. Select only valid columns or specify the value of numeric_only to silence this warning.\n",
      "\n",
      "/var/folders/yw/ltlm31rx1pzblj_k4g8y8tm00000gn/T/ipykernel_57710/1391878463.py:20: FutureWarning:\n",
      "\n",
      "The default value of numeric_only in DataFrame.mean is deprecated. In a future version, it will default to False. In addition, specifying 'numeric_only=None' is deprecated. Select only valid columns or specify the value of numeric_only to silence this warning.\n",
      "\n",
      "/var/folders/yw/ltlm31rx1pzblj_k4g8y8tm00000gn/T/ipykernel_57710/1391878463.py:20: FutureWarning:\n",
      "\n",
      "The default value of numeric_only in DataFrame.mean is deprecated. In a future version, it will default to False. In addition, specifying 'numeric_only=None' is deprecated. Select only valid columns or specify the value of numeric_only to silence this warning.\n",
      "\n",
      "/var/folders/yw/ltlm31rx1pzblj_k4g8y8tm00000gn/T/ipykernel_57710/1391878463.py:20: FutureWarning:\n",
      "\n",
      "The default value of numeric_only in DataFrame.mean is deprecated. In a future version, it will default to False. In addition, specifying 'numeric_only=None' is deprecated. Select only valid columns or specify the value of numeric_only to silence this warning.\n",
      "\n",
      "/var/folders/yw/ltlm31rx1pzblj_k4g8y8tm00000gn/T/ipykernel_57710/1391878463.py:20: FutureWarning:\n",
      "\n",
      "The default value of numeric_only in DataFrame.mean is deprecated. In a future version, it will default to False. In addition, specifying 'numeric_only=None' is deprecated. Select only valid columns or specify the value of numeric_only to silence this warning.\n",
      "\n",
      "/var/folders/yw/ltlm31rx1pzblj_k4g8y8tm00000gn/T/ipykernel_57710/1391878463.py:20: FutureWarning:\n",
      "\n",
      "The default value of numeric_only in DataFrame.mean is deprecated. In a future version, it will default to False. In addition, specifying 'numeric_only=None' is deprecated. Select only valid columns or specify the value of numeric_only to silence this warning.\n",
      "\n",
      "/var/folders/yw/ltlm31rx1pzblj_k4g8y8tm00000gn/T/ipykernel_57710/1391878463.py:20: FutureWarning:\n",
      "\n",
      "The default value of numeric_only in DataFrame.mean is deprecated. In a future version, it will default to False. In addition, specifying 'numeric_only=None' is deprecated. Select only valid columns or specify the value of numeric_only to silence this warning.\n",
      "\n",
      "/var/folders/yw/ltlm31rx1pzblj_k4g8y8tm00000gn/T/ipykernel_57710/1391878463.py:20: FutureWarning:\n",
      "\n",
      "The default value of numeric_only in DataFrame.mean is deprecated. In a future version, it will default to False. In addition, specifying 'numeric_only=None' is deprecated. Select only valid columns or specify the value of numeric_only to silence this warning.\n",
      "\n",
      "/var/folders/yw/ltlm31rx1pzblj_k4g8y8tm00000gn/T/ipykernel_57710/1391878463.py:20: FutureWarning:\n",
      "\n",
      "The default value of numeric_only in DataFrame.mean is deprecated. In a future version, it will default to False. In addition, specifying 'numeric_only=None' is deprecated. Select only valid columns or specify the value of numeric_only to silence this warning.\n",
      "\n",
      "/var/folders/yw/ltlm31rx1pzblj_k4g8y8tm00000gn/T/ipykernel_57710/1391878463.py:20: FutureWarning:\n",
      "\n",
      "The default value of numeric_only in DataFrame.mean is deprecated. In a future version, it will default to False. In addition, specifying 'numeric_only=None' is deprecated. Select only valid columns or specify the value of numeric_only to silence this warning.\n",
      "\n",
      "/var/folders/yw/ltlm31rx1pzblj_k4g8y8tm00000gn/T/ipykernel_57710/1391878463.py:20: FutureWarning:\n",
      "\n",
      "The default value of numeric_only in DataFrame.mean is deprecated. In a future version, it will default to False. In addition, specifying 'numeric_only=None' is deprecated. Select only valid columns or specify the value of numeric_only to silence this warning.\n",
      "\n",
      "/var/folders/yw/ltlm31rx1pzblj_k4g8y8tm00000gn/T/ipykernel_57710/1391878463.py:20: FutureWarning:\n",
      "\n",
      "The default value of numeric_only in DataFrame.mean is deprecated. In a future version, it will default to False. In addition, specifying 'numeric_only=None' is deprecated. Select only valid columns or specify the value of numeric_only to silence this warning.\n",
      "\n",
      "/var/folders/yw/ltlm31rx1pzblj_k4g8y8tm00000gn/T/ipykernel_57710/1391878463.py:20: FutureWarning:\n",
      "\n",
      "The default value of numeric_only in DataFrame.mean is deprecated. In a future version, it will default to False. In addition, specifying 'numeric_only=None' is deprecated. Select only valid columns or specify the value of numeric_only to silence this warning.\n",
      "\n",
      "/var/folders/yw/ltlm31rx1pzblj_k4g8y8tm00000gn/T/ipykernel_57710/1391878463.py:20: FutureWarning:\n",
      "\n",
      "The default value of numeric_only in DataFrame.mean is deprecated. In a future version, it will default to False. In addition, specifying 'numeric_only=None' is deprecated. Select only valid columns or specify the value of numeric_only to silence this warning.\n",
      "\n",
      "/var/folders/yw/ltlm31rx1pzblj_k4g8y8tm00000gn/T/ipykernel_57710/1391878463.py:20: FutureWarning:\n",
      "\n",
      "The default value of numeric_only in DataFrame.mean is deprecated. In a future version, it will default to False. In addition, specifying 'numeric_only=None' is deprecated. Select only valid columns or specify the value of numeric_only to silence this warning.\n",
      "\n",
      "/var/folders/yw/ltlm31rx1pzblj_k4g8y8tm00000gn/T/ipykernel_57710/1391878463.py:20: FutureWarning:\n",
      "\n",
      "The default value of numeric_only in DataFrame.mean is deprecated. In a future version, it will default to False. In addition, specifying 'numeric_only=None' is deprecated. Select only valid columns or specify the value of numeric_only to silence this warning.\n",
      "\n",
      "/var/folders/yw/ltlm31rx1pzblj_k4g8y8tm00000gn/T/ipykernel_57710/1391878463.py:20: FutureWarning:\n",
      "\n",
      "The default value of numeric_only in DataFrame.mean is deprecated. In a future version, it will default to False. In addition, specifying 'numeric_only=None' is deprecated. Select only valid columns or specify the value of numeric_only to silence this warning.\n",
      "\n",
      "/var/folders/yw/ltlm31rx1pzblj_k4g8y8tm00000gn/T/ipykernel_57710/1391878463.py:20: FutureWarning:\n",
      "\n",
      "The default value of numeric_only in DataFrame.mean is deprecated. In a future version, it will default to False. In addition, specifying 'numeric_only=None' is deprecated. Select only valid columns or specify the value of numeric_only to silence this warning.\n",
      "\n",
      "/var/folders/yw/ltlm31rx1pzblj_k4g8y8tm00000gn/T/ipykernel_57710/1391878463.py:20: FutureWarning:\n",
      "\n",
      "The default value of numeric_only in DataFrame.mean is deprecated. In a future version, it will default to False. In addition, specifying 'numeric_only=None' is deprecated. Select only valid columns or specify the value of numeric_only to silence this warning.\n",
      "\n",
      "/var/folders/yw/ltlm31rx1pzblj_k4g8y8tm00000gn/T/ipykernel_57710/1391878463.py:20: FutureWarning:\n",
      "\n",
      "The default value of numeric_only in DataFrame.mean is deprecated. In a future version, it will default to False. In addition, specifying 'numeric_only=None' is deprecated. Select only valid columns or specify the value of numeric_only to silence this warning.\n",
      "\n",
      "/var/folders/yw/ltlm31rx1pzblj_k4g8y8tm00000gn/T/ipykernel_57710/1391878463.py:20: FutureWarning:\n",
      "\n",
      "The default value of numeric_only in DataFrame.mean is deprecated. In a future version, it will default to False. In addition, specifying 'numeric_only=None' is deprecated. Select only valid columns or specify the value of numeric_only to silence this warning.\n",
      "\n",
      "/var/folders/yw/ltlm31rx1pzblj_k4g8y8tm00000gn/T/ipykernel_57710/1391878463.py:20: FutureWarning:\n",
      "\n",
      "The default value of numeric_only in DataFrame.mean is deprecated. In a future version, it will default to False. In addition, specifying 'numeric_only=None' is deprecated. Select only valid columns or specify the value of numeric_only to silence this warning.\n",
      "\n",
      "/var/folders/yw/ltlm31rx1pzblj_k4g8y8tm00000gn/T/ipykernel_57710/1391878463.py:20: FutureWarning:\n",
      "\n",
      "The default value of numeric_only in DataFrame.mean is deprecated. In a future version, it will default to False. In addition, specifying 'numeric_only=None' is deprecated. Select only valid columns or specify the value of numeric_only to silence this warning.\n",
      "\n",
      "/var/folders/yw/ltlm31rx1pzblj_k4g8y8tm00000gn/T/ipykernel_57710/1391878463.py:20: FutureWarning:\n",
      "\n",
      "The default value of numeric_only in DataFrame.mean is deprecated. In a future version, it will default to False. In addition, specifying 'numeric_only=None' is deprecated. Select only valid columns or specify the value of numeric_only to silence this warning.\n",
      "\n",
      "/var/folders/yw/ltlm31rx1pzblj_k4g8y8tm00000gn/T/ipykernel_57710/1391878463.py:20: FutureWarning:\n",
      "\n",
      "The default value of numeric_only in DataFrame.mean is deprecated. In a future version, it will default to False. In addition, specifying 'numeric_only=None' is deprecated. Select only valid columns or specify the value of numeric_only to silence this warning.\n",
      "\n",
      "/var/folders/yw/ltlm31rx1pzblj_k4g8y8tm00000gn/T/ipykernel_57710/1391878463.py:20: FutureWarning:\n",
      "\n",
      "The default value of numeric_only in DataFrame.mean is deprecated. In a future version, it will default to False. In addition, specifying 'numeric_only=None' is deprecated. Select only valid columns or specify the value of numeric_only to silence this warning.\n",
      "\n",
      "/var/folders/yw/ltlm31rx1pzblj_k4g8y8tm00000gn/T/ipykernel_57710/1391878463.py:20: FutureWarning:\n",
      "\n",
      "The default value of numeric_only in DataFrame.mean is deprecated. In a future version, it will default to False. In addition, specifying 'numeric_only=None' is deprecated. Select only valid columns or specify the value of numeric_only to silence this warning.\n",
      "\n",
      "/var/folders/yw/ltlm31rx1pzblj_k4g8y8tm00000gn/T/ipykernel_57710/1391878463.py:20: FutureWarning:\n",
      "\n",
      "The default value of numeric_only in DataFrame.mean is deprecated. In a future version, it will default to False. In addition, specifying 'numeric_only=None' is deprecated. Select only valid columns or specify the value of numeric_only to silence this warning.\n",
      "\n",
      "/var/folders/yw/ltlm31rx1pzblj_k4g8y8tm00000gn/T/ipykernel_57710/1391878463.py:20: FutureWarning:\n",
      "\n",
      "The default value of numeric_only in DataFrame.mean is deprecated. In a future version, it will default to False. In addition, specifying 'numeric_only=None' is deprecated. Select only valid columns or specify the value of numeric_only to silence this warning.\n",
      "\n",
      "/var/folders/yw/ltlm31rx1pzblj_k4g8y8tm00000gn/T/ipykernel_57710/1391878463.py:20: FutureWarning:\n",
      "\n",
      "The default value of numeric_only in DataFrame.mean is deprecated. In a future version, it will default to False. In addition, specifying 'numeric_only=None' is deprecated. Select only valid columns or specify the value of numeric_only to silence this warning.\n",
      "\n",
      "/var/folders/yw/ltlm31rx1pzblj_k4g8y8tm00000gn/T/ipykernel_57710/1391878463.py:20: FutureWarning:\n",
      "\n",
      "The default value of numeric_only in DataFrame.mean is deprecated. In a future version, it will default to False. In addition, specifying 'numeric_only=None' is deprecated. Select only valid columns or specify the value of numeric_only to silence this warning.\n",
      "\n",
      "/var/folders/yw/ltlm31rx1pzblj_k4g8y8tm00000gn/T/ipykernel_57710/1391878463.py:20: FutureWarning:\n",
      "\n",
      "The default value of numeric_only in DataFrame.mean is deprecated. In a future version, it will default to False. In addition, specifying 'numeric_only=None' is deprecated. Select only valid columns or specify the value of numeric_only to silence this warning.\n",
      "\n",
      "/var/folders/yw/ltlm31rx1pzblj_k4g8y8tm00000gn/T/ipykernel_57710/1391878463.py:20: FutureWarning:\n",
      "\n",
      "The default value of numeric_only in DataFrame.mean is deprecated. In a future version, it will default to False. In addition, specifying 'numeric_only=None' is deprecated. Select only valid columns or specify the value of numeric_only to silence this warning.\n",
      "\n",
      "/var/folders/yw/ltlm31rx1pzblj_k4g8y8tm00000gn/T/ipykernel_57710/1391878463.py:20: FutureWarning:\n",
      "\n",
      "The default value of numeric_only in DataFrame.mean is deprecated. In a future version, it will default to False. In addition, specifying 'numeric_only=None' is deprecated. Select only valid columns or specify the value of numeric_only to silence this warning.\n",
      "\n",
      "/var/folders/yw/ltlm31rx1pzblj_k4g8y8tm00000gn/T/ipykernel_57710/1391878463.py:20: FutureWarning:\n",
      "\n",
      "The default value of numeric_only in DataFrame.mean is deprecated. In a future version, it will default to False. In addition, specifying 'numeric_only=None' is deprecated. Select only valid columns or specify the value of numeric_only to silence this warning.\n",
      "\n",
      "/var/folders/yw/ltlm31rx1pzblj_k4g8y8tm00000gn/T/ipykernel_57710/1391878463.py:20: FutureWarning:\n",
      "\n",
      "The default value of numeric_only in DataFrame.mean is deprecated. In a future version, it will default to False. In addition, specifying 'numeric_only=None' is deprecated. Select only valid columns or specify the value of numeric_only to silence this warning.\n",
      "\n",
      "/var/folders/yw/ltlm31rx1pzblj_k4g8y8tm00000gn/T/ipykernel_57710/1391878463.py:20: FutureWarning:\n",
      "\n",
      "The default value of numeric_only in DataFrame.mean is deprecated. In a future version, it will default to False. In addition, specifying 'numeric_only=None' is deprecated. Select only valid columns or specify the value of numeric_only to silence this warning.\n",
      "\n",
      "/var/folders/yw/ltlm31rx1pzblj_k4g8y8tm00000gn/T/ipykernel_57710/1391878463.py:20: FutureWarning:\n",
      "\n",
      "The default value of numeric_only in DataFrame.mean is deprecated. In a future version, it will default to False. In addition, specifying 'numeric_only=None' is deprecated. Select only valid columns or specify the value of numeric_only to silence this warning.\n",
      "\n",
      "/var/folders/yw/ltlm31rx1pzblj_k4g8y8tm00000gn/T/ipykernel_57710/1391878463.py:20: FutureWarning:\n",
      "\n",
      "The default value of numeric_only in DataFrame.mean is deprecated. In a future version, it will default to False. In addition, specifying 'numeric_only=None' is deprecated. Select only valid columns or specify the value of numeric_only to silence this warning.\n",
      "\n",
      "/var/folders/yw/ltlm31rx1pzblj_k4g8y8tm00000gn/T/ipykernel_57710/1391878463.py:20: FutureWarning:\n",
      "\n",
      "The default value of numeric_only in DataFrame.mean is deprecated. In a future version, it will default to False. In addition, specifying 'numeric_only=None' is deprecated. Select only valid columns or specify the value of numeric_only to silence this warning.\n",
      "\n",
      "/var/folders/yw/ltlm31rx1pzblj_k4g8y8tm00000gn/T/ipykernel_57710/1391878463.py:20: FutureWarning:\n",
      "\n",
      "The default value of numeric_only in DataFrame.mean is deprecated. In a future version, it will default to False. In addition, specifying 'numeric_only=None' is deprecated. Select only valid columns or specify the value of numeric_only to silence this warning.\n",
      "\n",
      "/var/folders/yw/ltlm31rx1pzblj_k4g8y8tm00000gn/T/ipykernel_57710/1391878463.py:20: FutureWarning:\n",
      "\n",
      "The default value of numeric_only in DataFrame.mean is deprecated. In a future version, it will default to False. In addition, specifying 'numeric_only=None' is deprecated. Select only valid columns or specify the value of numeric_only to silence this warning.\n",
      "\n",
      "/var/folders/yw/ltlm31rx1pzblj_k4g8y8tm00000gn/T/ipykernel_57710/1391878463.py:20: FutureWarning:\n",
      "\n",
      "The default value of numeric_only in DataFrame.mean is deprecated. In a future version, it will default to False. In addition, specifying 'numeric_only=None' is deprecated. Select only valid columns or specify the value of numeric_only to silence this warning.\n",
      "\n",
      "/var/folders/yw/ltlm31rx1pzblj_k4g8y8tm00000gn/T/ipykernel_57710/1391878463.py:20: FutureWarning:\n",
      "\n",
      "The default value of numeric_only in DataFrame.mean is deprecated. In a future version, it will default to False. In addition, specifying 'numeric_only=None' is deprecated. Select only valid columns or specify the value of numeric_only to silence this warning.\n",
      "\n",
      "/var/folders/yw/ltlm31rx1pzblj_k4g8y8tm00000gn/T/ipykernel_57710/1391878463.py:20: FutureWarning:\n",
      "\n",
      "The default value of numeric_only in DataFrame.mean is deprecated. In a future version, it will default to False. In addition, specifying 'numeric_only=None' is deprecated. Select only valid columns or specify the value of numeric_only to silence this warning.\n",
      "\n",
      "/var/folders/yw/ltlm31rx1pzblj_k4g8y8tm00000gn/T/ipykernel_57710/1391878463.py:20: FutureWarning:\n",
      "\n",
      "The default value of numeric_only in DataFrame.mean is deprecated. In a future version, it will default to False. In addition, specifying 'numeric_only=None' is deprecated. Select only valid columns or specify the value of numeric_only to silence this warning.\n",
      "\n",
      "/var/folders/yw/ltlm31rx1pzblj_k4g8y8tm00000gn/T/ipykernel_57710/1391878463.py:20: FutureWarning:\n",
      "\n",
      "The default value of numeric_only in DataFrame.mean is deprecated. In a future version, it will default to False. In addition, specifying 'numeric_only=None' is deprecated. Select only valid columns or specify the value of numeric_only to silence this warning.\n",
      "\n",
      "/var/folders/yw/ltlm31rx1pzblj_k4g8y8tm00000gn/T/ipykernel_57710/1391878463.py:20: FutureWarning:\n",
      "\n",
      "The default value of numeric_only in DataFrame.mean is deprecated. In a future version, it will default to False. In addition, specifying 'numeric_only=None' is deprecated. Select only valid columns or specify the value of numeric_only to silence this warning.\n",
      "\n",
      "/var/folders/yw/ltlm31rx1pzblj_k4g8y8tm00000gn/T/ipykernel_57710/1391878463.py:20: FutureWarning:\n",
      "\n",
      "The default value of numeric_only in DataFrame.mean is deprecated. In a future version, it will default to False. In addition, specifying 'numeric_only=None' is deprecated. Select only valid columns or specify the value of numeric_only to silence this warning.\n",
      "\n",
      "/var/folders/yw/ltlm31rx1pzblj_k4g8y8tm00000gn/T/ipykernel_57710/1391878463.py:20: FutureWarning:\n",
      "\n",
      "The default value of numeric_only in DataFrame.mean is deprecated. In a future version, it will default to False. In addition, specifying 'numeric_only=None' is deprecated. Select only valid columns or specify the value of numeric_only to silence this warning.\n",
      "\n",
      "/var/folders/yw/ltlm31rx1pzblj_k4g8y8tm00000gn/T/ipykernel_57710/1391878463.py:20: FutureWarning:\n",
      "\n",
      "The default value of numeric_only in DataFrame.mean is deprecated. In a future version, it will default to False. In addition, specifying 'numeric_only=None' is deprecated. Select only valid columns or specify the value of numeric_only to silence this warning.\n",
      "\n",
      "/var/folders/yw/ltlm31rx1pzblj_k4g8y8tm00000gn/T/ipykernel_57710/1391878463.py:20: FutureWarning:\n",
      "\n",
      "The default value of numeric_only in DataFrame.mean is deprecated. In a future version, it will default to False. In addition, specifying 'numeric_only=None' is deprecated. Select only valid columns or specify the value of numeric_only to silence this warning.\n",
      "\n",
      "/var/folders/yw/ltlm31rx1pzblj_k4g8y8tm00000gn/T/ipykernel_57710/1391878463.py:20: FutureWarning:\n",
      "\n",
      "The default value of numeric_only in DataFrame.mean is deprecated. In a future version, it will default to False. In addition, specifying 'numeric_only=None' is deprecated. Select only valid columns or specify the value of numeric_only to silence this warning.\n",
      "\n",
      "/var/folders/yw/ltlm31rx1pzblj_k4g8y8tm00000gn/T/ipykernel_57710/1391878463.py:20: FutureWarning:\n",
      "\n",
      "The default value of numeric_only in DataFrame.mean is deprecated. In a future version, it will default to False. In addition, specifying 'numeric_only=None' is deprecated. Select only valid columns or specify the value of numeric_only to silence this warning.\n",
      "\n",
      "/var/folders/yw/ltlm31rx1pzblj_k4g8y8tm00000gn/T/ipykernel_57710/1391878463.py:20: FutureWarning:\n",
      "\n",
      "The default value of numeric_only in DataFrame.mean is deprecated. In a future version, it will default to False. In addition, specifying 'numeric_only=None' is deprecated. Select only valid columns or specify the value of numeric_only to silence this warning.\n",
      "\n",
      "/var/folders/yw/ltlm31rx1pzblj_k4g8y8tm00000gn/T/ipykernel_57710/1391878463.py:20: FutureWarning:\n",
      "\n",
      "The default value of numeric_only in DataFrame.mean is deprecated. In a future version, it will default to False. In addition, specifying 'numeric_only=None' is deprecated. Select only valid columns or specify the value of numeric_only to silence this warning.\n",
      "\n",
      "/var/folders/yw/ltlm31rx1pzblj_k4g8y8tm00000gn/T/ipykernel_57710/1391878463.py:20: FutureWarning:\n",
      "\n",
      "The default value of numeric_only in DataFrame.mean is deprecated. In a future version, it will default to False. In addition, specifying 'numeric_only=None' is deprecated. Select only valid columns or specify the value of numeric_only to silence this warning.\n",
      "\n",
      "/var/folders/yw/ltlm31rx1pzblj_k4g8y8tm00000gn/T/ipykernel_57710/1391878463.py:20: FutureWarning:\n",
      "\n",
      "The default value of numeric_only in DataFrame.mean is deprecated. In a future version, it will default to False. In addition, specifying 'numeric_only=None' is deprecated. Select only valid columns or specify the value of numeric_only to silence this warning.\n",
      "\n",
      "/var/folders/yw/ltlm31rx1pzblj_k4g8y8tm00000gn/T/ipykernel_57710/1391878463.py:20: FutureWarning:\n",
      "\n",
      "The default value of numeric_only in DataFrame.mean is deprecated. In a future version, it will default to False. In addition, specifying 'numeric_only=None' is deprecated. Select only valid columns or specify the value of numeric_only to silence this warning.\n",
      "\n",
      "/var/folders/yw/ltlm31rx1pzblj_k4g8y8tm00000gn/T/ipykernel_57710/1391878463.py:20: FutureWarning:\n",
      "\n",
      "The default value of numeric_only in DataFrame.mean is deprecated. In a future version, it will default to False. In addition, specifying 'numeric_only=None' is deprecated. Select only valid columns or specify the value of numeric_only to silence this warning.\n",
      "\n",
      "/var/folders/yw/ltlm31rx1pzblj_k4g8y8tm00000gn/T/ipykernel_57710/1391878463.py:20: FutureWarning:\n",
      "\n",
      "The default value of numeric_only in DataFrame.mean is deprecated. In a future version, it will default to False. In addition, specifying 'numeric_only=None' is deprecated. Select only valid columns or specify the value of numeric_only to silence this warning.\n",
      "\n",
      "/var/folders/yw/ltlm31rx1pzblj_k4g8y8tm00000gn/T/ipykernel_57710/1391878463.py:20: FutureWarning:\n",
      "\n",
      "The default value of numeric_only in DataFrame.mean is deprecated. In a future version, it will default to False. In addition, specifying 'numeric_only=None' is deprecated. Select only valid columns or specify the value of numeric_only to silence this warning.\n",
      "\n",
      "/var/folders/yw/ltlm31rx1pzblj_k4g8y8tm00000gn/T/ipykernel_57710/1391878463.py:20: FutureWarning:\n",
      "\n",
      "The default value of numeric_only in DataFrame.mean is deprecated. In a future version, it will default to False. In addition, specifying 'numeric_only=None' is deprecated. Select only valid columns or specify the value of numeric_only to silence this warning.\n",
      "\n",
      "/var/folders/yw/ltlm31rx1pzblj_k4g8y8tm00000gn/T/ipykernel_57710/1391878463.py:20: FutureWarning:\n",
      "\n",
      "The default value of numeric_only in DataFrame.mean is deprecated. In a future version, it will default to False. In addition, specifying 'numeric_only=None' is deprecated. Select only valid columns or specify the value of numeric_only to silence this warning.\n",
      "\n",
      "/var/folders/yw/ltlm31rx1pzblj_k4g8y8tm00000gn/T/ipykernel_57710/1391878463.py:20: FutureWarning:\n",
      "\n",
      "The default value of numeric_only in DataFrame.mean is deprecated. In a future version, it will default to False. In addition, specifying 'numeric_only=None' is deprecated. Select only valid columns or specify the value of numeric_only to silence this warning.\n",
      "\n",
      "/var/folders/yw/ltlm31rx1pzblj_k4g8y8tm00000gn/T/ipykernel_57710/1391878463.py:20: FutureWarning:\n",
      "\n",
      "The default value of numeric_only in DataFrame.mean is deprecated. In a future version, it will default to False. In addition, specifying 'numeric_only=None' is deprecated. Select only valid columns or specify the value of numeric_only to silence this warning.\n",
      "\n",
      "/var/folders/yw/ltlm31rx1pzblj_k4g8y8tm00000gn/T/ipykernel_57710/1391878463.py:20: FutureWarning:\n",
      "\n",
      "The default value of numeric_only in DataFrame.mean is deprecated. In a future version, it will default to False. In addition, specifying 'numeric_only=None' is deprecated. Select only valid columns or specify the value of numeric_only to silence this warning.\n",
      "\n",
      "/var/folders/yw/ltlm31rx1pzblj_k4g8y8tm00000gn/T/ipykernel_57710/1391878463.py:20: FutureWarning:\n",
      "\n",
      "The default value of numeric_only in DataFrame.mean is deprecated. In a future version, it will default to False. In addition, specifying 'numeric_only=None' is deprecated. Select only valid columns or specify the value of numeric_only to silence this warning.\n",
      "\n",
      "/var/folders/yw/ltlm31rx1pzblj_k4g8y8tm00000gn/T/ipykernel_57710/1391878463.py:20: FutureWarning:\n",
      "\n",
      "The default value of numeric_only in DataFrame.mean is deprecated. In a future version, it will default to False. In addition, specifying 'numeric_only=None' is deprecated. Select only valid columns or specify the value of numeric_only to silence this warning.\n",
      "\n",
      "/var/folders/yw/ltlm31rx1pzblj_k4g8y8tm00000gn/T/ipykernel_57710/1391878463.py:20: FutureWarning:\n",
      "\n",
      "The default value of numeric_only in DataFrame.mean is deprecated. In a future version, it will default to False. In addition, specifying 'numeric_only=None' is deprecated. Select only valid columns or specify the value of numeric_only to silence this warning.\n",
      "\n",
      "/var/folders/yw/ltlm31rx1pzblj_k4g8y8tm00000gn/T/ipykernel_57710/1391878463.py:20: FutureWarning:\n",
      "\n",
      "The default value of numeric_only in DataFrame.mean is deprecated. In a future version, it will default to False. In addition, specifying 'numeric_only=None' is deprecated. Select only valid columns or specify the value of numeric_only to silence this warning.\n",
      "\n",
      "/var/folders/yw/ltlm31rx1pzblj_k4g8y8tm00000gn/T/ipykernel_57710/1391878463.py:20: FutureWarning:\n",
      "\n",
      "The default value of numeric_only in DataFrame.mean is deprecated. In a future version, it will default to False. In addition, specifying 'numeric_only=None' is deprecated. Select only valid columns or specify the value of numeric_only to silence this warning.\n",
      "\n",
      "/var/folders/yw/ltlm31rx1pzblj_k4g8y8tm00000gn/T/ipykernel_57710/1391878463.py:20: FutureWarning:\n",
      "\n",
      "The default value of numeric_only in DataFrame.mean is deprecated. In a future version, it will default to False. In addition, specifying 'numeric_only=None' is deprecated. Select only valid columns or specify the value of numeric_only to silence this warning.\n",
      "\n",
      "/var/folders/yw/ltlm31rx1pzblj_k4g8y8tm00000gn/T/ipykernel_57710/1391878463.py:20: FutureWarning:\n",
      "\n",
      "The default value of numeric_only in DataFrame.mean is deprecated. In a future version, it will default to False. In addition, specifying 'numeric_only=None' is deprecated. Select only valid columns or specify the value of numeric_only to silence this warning.\n",
      "\n",
      "/var/folders/yw/ltlm31rx1pzblj_k4g8y8tm00000gn/T/ipykernel_57710/1391878463.py:20: FutureWarning:\n",
      "\n",
      "The default value of numeric_only in DataFrame.mean is deprecated. In a future version, it will default to False. In addition, specifying 'numeric_only=None' is deprecated. Select only valid columns or specify the value of numeric_only to silence this warning.\n",
      "\n",
      "/var/folders/yw/ltlm31rx1pzblj_k4g8y8tm00000gn/T/ipykernel_57710/1391878463.py:20: FutureWarning:\n",
      "\n",
      "The default value of numeric_only in DataFrame.mean is deprecated. In a future version, it will default to False. In addition, specifying 'numeric_only=None' is deprecated. Select only valid columns or specify the value of numeric_only to silence this warning.\n",
      "\n",
      "/var/folders/yw/ltlm31rx1pzblj_k4g8y8tm00000gn/T/ipykernel_57710/1391878463.py:20: FutureWarning:\n",
      "\n",
      "The default value of numeric_only in DataFrame.mean is deprecated. In a future version, it will default to False. In addition, specifying 'numeric_only=None' is deprecated. Select only valid columns or specify the value of numeric_only to silence this warning.\n",
      "\n",
      "/var/folders/yw/ltlm31rx1pzblj_k4g8y8tm00000gn/T/ipykernel_57710/1391878463.py:20: FutureWarning:\n",
      "\n",
      "The default value of numeric_only in DataFrame.mean is deprecated. In a future version, it will default to False. In addition, specifying 'numeric_only=None' is deprecated. Select only valid columns or specify the value of numeric_only to silence this warning.\n",
      "\n"
     ]
    },
    {
     "data": {
      "text/html": [
       "<div>\n",
       "<style scoped>\n",
       "    .dataframe tbody tr th:only-of-type {\n",
       "        vertical-align: middle;\n",
       "    }\n",
       "\n",
       "    .dataframe tbody tr th {\n",
       "        vertical-align: top;\n",
       "    }\n",
       "\n",
       "    .dataframe thead th {\n",
       "        text-align: right;\n",
       "    }\n",
       "</style>\n",
       "<table border=\"1\" class=\"dataframe\">\n",
       "  <thead>\n",
       "    <tr style=\"text-align: right;\">\n",
       "      <th></th>\n",
       "      <th>Country name</th>\n",
       "      <th>year</th>\n",
       "      <th>Life Ladder</th>\n",
       "      <th>Log GDP per capita</th>\n",
       "      <th>Social support</th>\n",
       "      <th>Healthy life expectancy at birth</th>\n",
       "      <th>Freedom to make life choices</th>\n",
       "      <th>Generosity</th>\n",
       "      <th>Perceptions of corruption</th>\n",
       "      <th>Positive affect</th>\n",
       "      <th>Negative affect</th>\n",
       "    </tr>\n",
       "  </thead>\n",
       "  <tbody>\n",
       "    <tr>\n",
       "      <th>0</th>\n",
       "      <td>Afghanistan</td>\n",
       "      <td>2008</td>\n",
       "      <td>3.724</td>\n",
       "      <td>7.350</td>\n",
       "      <td>0.451</td>\n",
       "      <td>50.500</td>\n",
       "      <td>0.718</td>\n",
       "      <td>0.164</td>\n",
       "      <td>0.882</td>\n",
       "      <td>0.414</td>\n",
       "      <td>0.258</td>\n",
       "    </tr>\n",
       "    <tr>\n",
       "      <th>1</th>\n",
       "      <td>Afghanistan</td>\n",
       "      <td>2009</td>\n",
       "      <td>4.402</td>\n",
       "      <td>7.509</td>\n",
       "      <td>0.552</td>\n",
       "      <td>50.800</td>\n",
       "      <td>0.679</td>\n",
       "      <td>0.187</td>\n",
       "      <td>0.850</td>\n",
       "      <td>0.481</td>\n",
       "      <td>0.237</td>\n",
       "    </tr>\n",
       "    <tr>\n",
       "      <th>2</th>\n",
       "      <td>Afghanistan</td>\n",
       "      <td>2010</td>\n",
       "      <td>4.758</td>\n",
       "      <td>7.614</td>\n",
       "      <td>0.539</td>\n",
       "      <td>51.100</td>\n",
       "      <td>0.600</td>\n",
       "      <td>0.118</td>\n",
       "      <td>0.707</td>\n",
       "      <td>0.517</td>\n",
       "      <td>0.275</td>\n",
       "    </tr>\n",
       "    <tr>\n",
       "      <th>3</th>\n",
       "      <td>Afghanistan</td>\n",
       "      <td>2011</td>\n",
       "      <td>3.832</td>\n",
       "      <td>7.581</td>\n",
       "      <td>0.521</td>\n",
       "      <td>51.400</td>\n",
       "      <td>0.496</td>\n",
       "      <td>0.160</td>\n",
       "      <td>0.731</td>\n",
       "      <td>0.480</td>\n",
       "      <td>0.267</td>\n",
       "    </tr>\n",
       "    <tr>\n",
       "      <th>4</th>\n",
       "      <td>Afghanistan</td>\n",
       "      <td>2012</td>\n",
       "      <td>3.783</td>\n",
       "      <td>7.661</td>\n",
       "      <td>0.521</td>\n",
       "      <td>51.700</td>\n",
       "      <td>0.531</td>\n",
       "      <td>0.234</td>\n",
       "      <td>0.776</td>\n",
       "      <td>0.614</td>\n",
       "      <td>0.268</td>\n",
       "    </tr>\n",
       "    <tr>\n",
       "      <th>5</th>\n",
       "      <td>Afghanistan</td>\n",
       "      <td>2013</td>\n",
       "      <td>3.572</td>\n",
       "      <td>7.680</td>\n",
       "      <td>0.484</td>\n",
       "      <td>52.000</td>\n",
       "      <td>0.578</td>\n",
       "      <td>0.059</td>\n",
       "      <td>0.823</td>\n",
       "      <td>0.547</td>\n",
       "      <td>0.273</td>\n",
       "    </tr>\n",
       "    <tr>\n",
       "      <th>6</th>\n",
       "      <td>Afghanistan</td>\n",
       "      <td>2014</td>\n",
       "      <td>3.131</td>\n",
       "      <td>7.671</td>\n",
       "      <td>0.526</td>\n",
       "      <td>52.300</td>\n",
       "      <td>0.509</td>\n",
       "      <td>0.102</td>\n",
       "      <td>0.871</td>\n",
       "      <td>0.492</td>\n",
       "      <td>0.375</td>\n",
       "    </tr>\n",
       "    <tr>\n",
       "      <th>7</th>\n",
       "      <td>Afghanistan</td>\n",
       "      <td>2015</td>\n",
       "      <td>3.983</td>\n",
       "      <td>7.654</td>\n",
       "      <td>0.529</td>\n",
       "      <td>52.600</td>\n",
       "      <td>0.389</td>\n",
       "      <td>0.078</td>\n",
       "      <td>0.881</td>\n",
       "      <td>0.491</td>\n",
       "      <td>0.339</td>\n",
       "    </tr>\n",
       "    <tr>\n",
       "      <th>8</th>\n",
       "      <td>Afghanistan</td>\n",
       "      <td>2016</td>\n",
       "      <td>4.220</td>\n",
       "      <td>7.650</td>\n",
       "      <td>0.559</td>\n",
       "      <td>52.925</td>\n",
       "      <td>0.523</td>\n",
       "      <td>0.040</td>\n",
       "      <td>0.793</td>\n",
       "      <td>0.501</td>\n",
       "      <td>0.348</td>\n",
       "    </tr>\n",
       "    <tr>\n",
       "      <th>9</th>\n",
       "      <td>Afghanistan</td>\n",
       "      <td>2017</td>\n",
       "      <td>2.662</td>\n",
       "      <td>7.648</td>\n",
       "      <td>0.491</td>\n",
       "      <td>53.250</td>\n",
       "      <td>0.427</td>\n",
       "      <td>-0.123</td>\n",
       "      <td>0.954</td>\n",
       "      <td>0.435</td>\n",
       "      <td>0.371</td>\n",
       "    </tr>\n",
       "    <tr>\n",
       "      <th>10</th>\n",
       "      <td>Afghanistan</td>\n",
       "      <td>2018</td>\n",
       "      <td>2.694</td>\n",
       "      <td>7.631</td>\n",
       "      <td>0.508</td>\n",
       "      <td>53.575</td>\n",
       "      <td>0.374</td>\n",
       "      <td>-0.095</td>\n",
       "      <td>0.928</td>\n",
       "      <td>0.385</td>\n",
       "      <td>0.405</td>\n",
       "    </tr>\n",
       "    <tr>\n",
       "      <th>11</th>\n",
       "      <td>Afghanistan</td>\n",
       "      <td>2019</td>\n",
       "      <td>2.375</td>\n",
       "      <td>7.640</td>\n",
       "      <td>0.420</td>\n",
       "      <td>53.900</td>\n",
       "      <td>0.394</td>\n",
       "      <td>-0.109</td>\n",
       "      <td>0.924</td>\n",
       "      <td>0.324</td>\n",
       "      <td>0.502</td>\n",
       "    </tr>\n",
       "    <tr>\n",
       "      <th>12</th>\n",
       "      <td>Afghanistan</td>\n",
       "      <td>2021</td>\n",
       "      <td>2.436</td>\n",
       "      <td>7.325</td>\n",
       "      <td>0.454</td>\n",
       "      <td>54.550</td>\n",
       "      <td>0.394</td>\n",
       "      <td>-0.085</td>\n",
       "      <td>0.946</td>\n",
       "      <td>0.179</td>\n",
       "      <td>0.607</td>\n",
       "    </tr>\n",
       "    <tr>\n",
       "      <th>13</th>\n",
       "      <td>Afghanistan</td>\n",
       "      <td>2022</td>\n",
       "      <td>1.281</td>\n",
       "      <td>7.325</td>\n",
       "      <td>0.228</td>\n",
       "      <td>54.875</td>\n",
       "      <td>0.368</td>\n",
       "      <td>-0.085</td>\n",
       "      <td>0.733</td>\n",
       "      <td>0.206</td>\n",
       "      <td>0.576</td>\n",
       "    </tr>\n",
       "    <tr>\n",
       "      <th>14</th>\n",
       "      <td>Afghanistan</td>\n",
       "      <td>2023</td>\n",
       "      <td>1.446</td>\n",
       "      <td>7.325</td>\n",
       "      <td>0.368</td>\n",
       "      <td>55.200</td>\n",
       "      <td>0.228</td>\n",
       "      <td>-0.085</td>\n",
       "      <td>0.738</td>\n",
       "      <td>0.261</td>\n",
       "      <td>0.460</td>\n",
       "    </tr>\n",
       "    <tr>\n",
       "      <th>15</th>\n",
       "      <td>Albania</td>\n",
       "      <td>2007</td>\n",
       "      <td>4.634</td>\n",
       "      <td>9.122</td>\n",
       "      <td>0.821</td>\n",
       "      <td>66.760</td>\n",
       "      <td>0.529</td>\n",
       "      <td>-0.013</td>\n",
       "      <td>0.875</td>\n",
       "      <td>0.489</td>\n",
       "      <td>0.246</td>\n",
       "    </tr>\n",
       "  </tbody>\n",
       "</table>\n",
       "</div>"
      ],
      "text/plain": [
       "   Country name  year  Life Ladder  Log GDP per capita  Social support  \\\n",
       "0   Afghanistan  2008        3.724               7.350           0.451   \n",
       "1   Afghanistan  2009        4.402               7.509           0.552   \n",
       "2   Afghanistan  2010        4.758               7.614           0.539   \n",
       "3   Afghanistan  2011        3.832               7.581           0.521   \n",
       "4   Afghanistan  2012        3.783               7.661           0.521   \n",
       "5   Afghanistan  2013        3.572               7.680           0.484   \n",
       "6   Afghanistan  2014        3.131               7.671           0.526   \n",
       "7   Afghanistan  2015        3.983               7.654           0.529   \n",
       "8   Afghanistan  2016        4.220               7.650           0.559   \n",
       "9   Afghanistan  2017        2.662               7.648           0.491   \n",
       "10  Afghanistan  2018        2.694               7.631           0.508   \n",
       "11  Afghanistan  2019        2.375               7.640           0.420   \n",
       "12  Afghanistan  2021        2.436               7.325           0.454   \n",
       "13  Afghanistan  2022        1.281               7.325           0.228   \n",
       "14  Afghanistan  2023        1.446               7.325           0.368   \n",
       "15      Albania  2007        4.634               9.122           0.821   \n",
       "\n",
       "    Healthy life expectancy at birth  Freedom to make life choices  \\\n",
       "0                             50.500                         0.718   \n",
       "1                             50.800                         0.679   \n",
       "2                             51.100                         0.600   \n",
       "3                             51.400                         0.496   \n",
       "4                             51.700                         0.531   \n",
       "5                             52.000                         0.578   \n",
       "6                             52.300                         0.509   \n",
       "7                             52.600                         0.389   \n",
       "8                             52.925                         0.523   \n",
       "9                             53.250                         0.427   \n",
       "10                            53.575                         0.374   \n",
       "11                            53.900                         0.394   \n",
       "12                            54.550                         0.394   \n",
       "13                            54.875                         0.368   \n",
       "14                            55.200                         0.228   \n",
       "15                            66.760                         0.529   \n",
       "\n",
       "    Generosity  Perceptions of corruption  Positive affect  Negative affect  \n",
       "0        0.164                      0.882            0.414            0.258  \n",
       "1        0.187                      0.850            0.481            0.237  \n",
       "2        0.118                      0.707            0.517            0.275  \n",
       "3        0.160                      0.731            0.480            0.267  \n",
       "4        0.234                      0.776            0.614            0.268  \n",
       "5        0.059                      0.823            0.547            0.273  \n",
       "6        0.102                      0.871            0.492            0.375  \n",
       "7        0.078                      0.881            0.491            0.339  \n",
       "8        0.040                      0.793            0.501            0.348  \n",
       "9       -0.123                      0.954            0.435            0.371  \n",
       "10      -0.095                      0.928            0.385            0.405  \n",
       "11      -0.109                      0.924            0.324            0.502  \n",
       "12      -0.085                      0.946            0.179            0.607  \n",
       "13      -0.085                      0.733            0.206            0.576  \n",
       "14      -0.085                      0.738            0.261            0.460  \n",
       "15      -0.013                      0.875            0.489            0.246  "
      ]
     },
     "execution_count": 24,
     "metadata": {},
     "output_type": "execute_result"
    }
   ],
   "source": [
    "# Sort so interpolation respects time per country\n",
    "df = df.sort_values(['Country name', 'year']).copy()\n",
    "\n",
    "# Pick numeric columns (usually exclude 'year' from interpolation)\n",
    "numeric_columns = (\n",
    "    df.select_dtypes(include=['number'])\n",
    "      .columns.drop('year', errors='ignore')\n",
    ")\n",
    "\n",
    "# Interpolate within each country and keep the original index/shape\n",
    "filled_numeric = (\n",
    "    df.groupby('Country name', group_keys=False)[numeric_columns]\n",
    "      .apply(lambda g: g.interpolate(limit_direction='both'))\n",
    ")\n",
    "\n",
    "# fill any remaining NaNs: country mean -> global mean\n",
    "filled_numeric = (\n",
    "    df[['Country name']].join(filled_numeric)\n",
    "      .groupby('Country name', group_keys=False)\n",
    "      .apply(lambda g: g.fillna(g.mean()))\n",
    "      .drop(columns=['Country name'])\n",
    "      .fillna(filled_numeric.mean())\n",
    ")\n",
    "\n",
    "# Put the filled numbers back into df\n",
    "df[numeric_columns] = filled_numeric\n",
    "\n",
    "#  If you want a separate 'data' frame with country/year + numerics:\n",
    "data = pd.concat(\n",
    "    [df[['Country name', 'year']].reset_index(drop=True),\n",
    "     df[numeric_columns].reset_index(drop=True)],\n",
    "    axis=1\n",
    ")\n",
    "\n",
    "data.head(16)\n"
   ]
  },
  {
   "cell_type": "code",
   "execution_count": 25,
   "metadata": {},
   "outputs": [
    {
     "data": {
      "text/plain": [
       "Country name                        0\n",
       "year                                0\n",
       "Life Ladder                         0\n",
       "Log GDP per capita                  0\n",
       "Social support                      0\n",
       "Healthy life expectancy at birth    0\n",
       "Freedom to make life choices        0\n",
       "Generosity                          0\n",
       "Perceptions of corruption           0\n",
       "Positive affect                     0\n",
       "Negative affect                     0\n",
       "dtype: int64"
      ]
     },
     "execution_count": 25,
     "metadata": {},
     "output_type": "execute_result"
    }
   ],
   "source": [
    "data.isna().sum()"
   ]
  },
  {
   "cell_type": "markdown",
   "metadata": {},
   "source": [
    "There are still a few nulls that didn't get caught, but way fewer, so I'm fine dropping from here.\n"
   ]
  },
  {
   "cell_type": "code",
   "execution_count": 26,
   "metadata": {},
   "outputs": [
    {
     "name": "stdout",
     "output_type": "stream",
     "text": [
      "<class 'pandas.core.frame.DataFrame'>\n",
      "RangeIndex: 2363 entries, 0 to 2362\n",
      "Data columns (total 11 columns):\n",
      " #   Column                            Non-Null Count  Dtype  \n",
      "---  ------                            --------------  -----  \n",
      " 0   Country name                      2363 non-null   object \n",
      " 1   year                              2363 non-null   int64  \n",
      " 2   Life Ladder                       2363 non-null   float64\n",
      " 3   Log GDP per capita                2363 non-null   float64\n",
      " 4   Social support                    2363 non-null   float64\n",
      " 5   Healthy life expectancy at birth  2363 non-null   float64\n",
      " 6   Freedom to make life choices      2363 non-null   float64\n",
      " 7   Generosity                        2363 non-null   float64\n",
      " 8   Perceptions of corruption         2363 non-null   float64\n",
      " 9   Positive affect                   2363 non-null   float64\n",
      " 10  Negative affect                   2363 non-null   float64\n",
      "dtypes: float64(9), int64(1), object(1)\n",
      "memory usage: 203.2+ KB\n"
     ]
    }
   ],
   "source": [
    "data.dropna(inplace=True)\n",
    "data.info()"
   ]
  },
  {
   "cell_type": "markdown",
   "metadata": {},
   "source": [
    "The categorical `Country name` needs to be ~~label encoded so that it can be handled numerically~~ dropped, as there's no point in training on it.\n"
   ]
  },
  {
   "cell_type": "code",
   "execution_count": 27,
   "metadata": {},
   "outputs": [],
   "source": [
    "# data['country_label'] = data['Country name'].sort_values(ascending=True).astype('category').cat.codes\n",
    "# data.sample(10)\n",
    "\n",
    "data.drop('Country name', axis=1, inplace=True)"
   ]
  },
  {
   "cell_type": "markdown",
   "metadata": {},
   "source": [
    "Since we're using time series data, we'll have the training set be years through 2019, and the test set be 2020 and onward (so roughly 1700 and 500 entries respectively, about 3.4 to 1 training to test ratio).\n"
   ]
  },
  {
   "cell_type": "code",
   "execution_count": 28,
   "metadata": {},
   "outputs": [
    {
     "name": "stdout",
     "output_type": "stream",
     "text": [
      "<class 'pandas.core.frame.DataFrame'>\n",
      "Int64Index: 1847 entries, 0 to 2358\n",
      "Data columns (total 10 columns):\n",
      " #   Column                            Non-Null Count  Dtype  \n",
      "---  ------                            --------------  -----  \n",
      " 0   year                              1847 non-null   int64  \n",
      " 1   Life Ladder                       1847 non-null   float64\n",
      " 2   Log GDP per capita                1847 non-null   float64\n",
      " 3   Social support                    1847 non-null   float64\n",
      " 4   Healthy life expectancy at birth  1847 non-null   float64\n",
      " 5   Freedom to make life choices      1847 non-null   float64\n",
      " 6   Generosity                        1847 non-null   float64\n",
      " 7   Perceptions of corruption         1847 non-null   float64\n",
      " 8   Positive affect                   1847 non-null   float64\n",
      " 9   Negative affect                   1847 non-null   float64\n",
      "dtypes: float64(9), int64(1)\n",
      "memory usage: 158.7 KB\n"
     ]
    }
   ],
   "source": [
    "split_year = 2019\n",
    "training = data[data['year'] <= split_year]\n",
    "test = data[data['year'] > split_year]\n",
    "\n",
    "training.info()"
   ]
  },
  {
   "cell_type": "code",
   "execution_count": 29,
   "metadata": {},
   "outputs": [],
   "source": [
    "features_train = training.drop(['Life Ladder'], axis=1)\n",
    "features_test = test.drop(['Life Ladder'], axis=1)\n",
    "target_train = training['Life Ladder']\n",
    "target_test = test['Life Ladder']\n"
   ]
  },
  {
   "cell_type": "markdown",
   "metadata": {},
   "source": [
    "Lastly, we need to ensure that our features are scaled; log GDP and life expectancy are both relatively large numbers compared to the other features and may have disproportionate impact on the model. We fit a StandardScaler on the just training features, because otherwise the scaler acts as a \"hint\" to the model during training (i.e. data leaks out of the test set), then we use it to transform both the features and target.\n"
   ]
  },
  {
   "cell_type": "code",
   "execution_count": 30,
   "metadata": {},
   "outputs": [],
   "source": [
    "scaler = StandardScaler()\n",
    "scaler.fit(features_train)\n",
    "features_train = scaler.transform(features_train)\n",
    "features_test = scaler.transform(features_test)"
   ]
  },
  {
   "cell_type": "code",
   "execution_count": 31,
   "metadata": {},
   "outputs": [],
   "source": [
    "# For neural networks specifically, standardizing the target is often also a good idea--we can inverse transform to compare to other models\n",
    "target_scaler = StandardScaler()\n",
    "target_scaler.fit(target_train.values.reshape(-1,1))\n",
    "target_train_scaled = target_scaler.transform(target_train.values.reshape(-1,1)).flatten()\n",
    "target_test_scaled = target_scaler.transform(target_test.values.reshape(-1,1)).flatten()"
   ]
  },
  {
   "cell_type": "markdown",
   "metadata": {},
   "source": [
    "# Optuna and Modeling\n",
    "\n",
    "Optuna is a library that specializes in tuning hyperparameters for machine learning models. This prevents us from having to code our own search or use something like scikit-learn's built-in functions, which are a little slow. For the purposes of this, we'll use XGBoost's random forest model.\n",
    "\n",
    "Here's the sanity-check model, which is just sklearn's linear regression:\n"
   ]
  },
  {
   "cell_type": "markdown",
   "metadata": {},
   "source": [
    "### Baseline model\n"
   ]
  },
  {
   "cell_type": "code",
   "execution_count": 32,
   "metadata": {},
   "outputs": [
    {
     "data": {
      "text/plain": [
       "0.40089191963504917"
      ]
     },
     "execution_count": 32,
     "metadata": {},
     "output_type": "execute_result"
    }
   ],
   "source": [
    "lr = LinearRegression()\n",
    "lr.fit(features_train, target_train)\n",
    "lr_pred = lr.predict(features_test)\n",
    "lr_mae = mean_absolute_error(target_test, lr_pred)\n",
    "lr_mae"
   ]
  },
  {
   "cell_type": "markdown",
   "metadata": {},
   "source": [
    "A good model should be able to beat this mean absolute error, no problem.\n",
    "\n",
    "To use Optuna, we have to define functions called `objective` and `define_model`:\n"
   ]
  },
  {
   "cell_type": "code",
   "execution_count": 33,
   "metadata": {},
   "outputs": [
    {
     "name": "stderr",
     "output_type": "stream",
     "text": [
      "[I 2025-10-05 09:36:10,887] A new study created in memory with name: no-name-c0c252e7-3045-4eb0-b269-919c2817c7fd\n",
      "[I 2025-10-05 09:36:11,692] Trial 0 finished with value: 0.3439298145863437 and parameters: {'n_estimators': 45, 'max_depth': 18}. Best is trial 0 with value: 0.3439298145863437.\n",
      "[I 2025-10-05 09:36:13,707] Trial 1 finished with value: 0.3419006693714349 and parameters: {'n_estimators': 110, 'max_depth': 25}. Best is trial 1 with value: 0.3419006693714349.\n",
      "[I 2025-10-05 09:36:14,907] Trial 2 finished with value: 0.35209477335168415 and parameters: {'n_estimators': 110, 'max_depth': 9}. Best is trial 1 with value: 0.3419006693714349.\n",
      "[I 2025-10-05 09:36:15,503] Trial 3 finished with value: 0.3445642036060954 and parameters: {'n_estimators': 45, 'max_depth': 11}. Best is trial 1 with value: 0.3419006693714349.\n",
      "[I 2025-10-05 09:36:17,360] Trial 4 finished with value: 0.3392085545488106 and parameters: {'n_estimators': 85, 'max_depth': 12}. Best is trial 4 with value: 0.3392085545488106.\n",
      "[I 2025-10-05 09:36:19,832] Trial 5 finished with value: 0.33963100490644005 and parameters: {'n_estimators': 75, 'max_depth': 17}. Best is trial 4 with value: 0.3392085545488106.\n",
      "[I 2025-10-05 09:36:20,066] Trial 6 pruned. \n",
      "[I 2025-10-05 09:36:24,435] Trial 7 finished with value: 0.3379676601572555 and parameters: {'n_estimators': 105, 'max_depth': 15}. Best is trial 7 with value: 0.3379676601572555.\n",
      "[I 2025-10-05 09:36:27,205] Trial 8 finished with value: 0.3400779910087586 and parameters: {'n_estimators': 85, 'max_depth': 13}. Best is trial 7 with value: 0.3379676601572555.\n",
      "[I 2025-10-05 09:36:28,018] Trial 9 pruned. \n",
      "[I 2025-10-05 09:36:28,215] Trial 10 pruned. \n",
      "[I 2025-10-05 09:36:32,304] Trial 11 finished with value: 0.33922410987513935 and parameters: {'n_estimators': 90, 'max_depth': 22}. Best is trial 7 with value: 0.3379676601572555.\n",
      "[I 2025-10-05 09:36:32,791] Trial 12 pruned. \n",
      "[I 2025-10-05 09:36:35,198] Trial 13 finished with value: 0.33888494314149376 and parameters: {'n_estimators': 65, 'max_depth': 15}. Best is trial 7 with value: 0.3379676601572555.\n",
      "[I 2025-10-05 09:36:37,545] Trial 14 finished with value: 0.3376082884840263 and parameters: {'n_estimators': 55, 'max_depth': 19}. Best is trial 14 with value: 0.3376082884840263.\n",
      "[I 2025-10-05 09:36:40,255] Trial 15 finished with value: 0.33832682338980746 and parameters: {'n_estimators': 60, 'max_depth': 21}. Best is trial 14 with value: 0.3376082884840263.\n",
      "[I 2025-10-05 09:36:42,026] Trial 16 finished with value: 0.3317512455060501 and parameters: {'n_estimators': 50, 'max_depth': 20}. Best is trial 16 with value: 0.3317512455060501.\n",
      "[I 2025-10-05 09:36:43,847] Trial 17 finished with value: 0.33919713893047604 and parameters: {'n_estimators': 45, 'max_depth': 21}. Best is trial 16 with value: 0.3317512455060501.\n",
      "[I 2025-10-05 09:36:45,494] Trial 18 pruned. \n",
      "[I 2025-10-05 09:36:49,475] Trial 19 finished with value: 0.3376082884840263 and parameters: {'n_estimators': 55, 'max_depth': 19}. Best is trial 16 with value: 0.3317512455060501.\n",
      "[I 2025-10-05 09:36:51,174] Trial 20 finished with value: 0.33865858912283137 and parameters: {'n_estimators': 30, 'max_depth': 23}. Best is trial 16 with value: 0.3317512455060501.\n",
      "[I 2025-10-05 09:36:54,864] Trial 21 finished with value: 0.3376082884840263 and parameters: {'n_estimators': 55, 'max_depth': 19}. Best is trial 16 with value: 0.3317512455060501.\n",
      "[I 2025-10-05 09:37:03,217] Trial 22 finished with value: 0.3360318737732348 and parameters: {'n_estimators': 75, 'max_depth': 20}. Best is trial 16 with value: 0.3317512455060501.\n",
      "[I 2025-10-05 09:37:06,976] Trial 23 finished with value: 0.3360318737732348 and parameters: {'n_estimators': 75, 'max_depth': 20}. Best is trial 16 with value: 0.3317512455060501.\n",
      "[I 2025-10-05 09:37:11,989] Trial 24 finished with value: 0.3371567281419917 and parameters: {'n_estimators': 75, 'max_depth': 23}. Best is trial 16 with value: 0.3317512455060501.\n",
      "[I 2025-10-05 09:37:16,148] Trial 25 finished with value: 0.33789968641414203 and parameters: {'n_estimators': 75, 'max_depth': 21}. Best is trial 16 with value: 0.3317512455060501.\n",
      "[I 2025-10-05 09:37:19,816] Trial 26 pruned. \n",
      "[I 2025-10-05 09:37:23,344] Trial 27 pruned. \n",
      "[I 2025-10-05 09:37:27,019] Trial 28 finished with value: 0.3350927148308865 and parameters: {'n_estimators': 65, 'max_depth': 20}. Best is trial 16 with value: 0.3317512455060501.\n",
      "[I 2025-10-05 09:37:28,863] Trial 29 pruned. \n",
      "[I 2025-10-05 09:37:31,024] Trial 30 pruned. \n",
      "[I 2025-10-05 09:37:36,090] Trial 31 finished with value: 0.3360509833661161 and parameters: {'n_estimators': 80, 'max_depth': 20}. Best is trial 16 with value: 0.3317512455060501.\n",
      "[I 2025-10-05 09:37:39,436] Trial 32 pruned. \n",
      "[I 2025-10-05 09:37:41,754] Trial 33 finished with value: 0.3317512455060501 and parameters: {'n_estimators': 50, 'max_depth': 20}. Best is trial 16 with value: 0.3317512455060501.\n",
      "[I 2025-10-05 09:37:43,481] Trial 34 pruned. \n",
      "[I 2025-10-05 09:37:45,554] Trial 35 pruned. \n",
      "[I 2025-10-05 09:37:49,246] Trial 36 pruned. \n",
      "[I 2025-10-05 09:37:51,640] Trial 37 pruned. \n",
      "[I 2025-10-05 09:38:00,542] Trial 38 finished with value: 0.3317512455060501 and parameters: {'n_estimators': 50, 'max_depth': 20}. Best is trial 16 with value: 0.3317512455060501.\n",
      "[I 2025-10-05 09:38:02,128] Trial 39 pruned. \n"
     ]
    }
   ],
   "source": [
    "def define_model(trial):\n",
    "    n_estimators = trial.suggest_int(\"n_estimators\", 10, 120, step=5) #parameter name, lowest value, highest value, step size respectively\n",
    "    max_depth = trial.suggest_int(\"max_depth\", 4, 25, step=1)\n",
    "    model = xgboost.XGBRFRegressor(\n",
    "        n_estimators = n_estimators,\n",
    "        max_depth = max_depth,\n",
    "        random_state = 101010\n",
    "    )\n",
    "    return model\n",
    "\n",
    "def objective(trial):\n",
    "    model = define_model(trial)\n",
    "    model.fit(features_train, target_train)\n",
    "    target_pred = model.predict(features_test)\n",
    "    score = mean_absolute_error(target_test, target_pred)\n",
    "    trial.report(score, step=1)\n",
    "    if trial.should_prune():\n",
    "        raise optuna.exceptions.TrialPruned()\n",
    "    return score\n",
    "\n",
    "\n",
    "study = optuna.create_study() #direction=\"minimize\" is a default parameter; we'd set to \"maximum\" if we had a metric where higher is better, such as accuracy for categorization\n",
    "study.optimize(objective, n_trials=40)"
   ]
  },
  {
   "cell_type": "code",
   "execution_count": 34,
   "metadata": {},
   "outputs": [
    {
     "name": "stdout",
     "output_type": "stream",
     "text": [
      "Best RF parameters:  {'n_estimators': 50, 'max_depth': 20}\n",
      "At trial:  16\n",
      "Mean absolute error:  0.3317512455060501\n",
      "\n",
      "Hyperparameter importances:\n"
     ]
    },
    {
     "data": {
      "text/plain": [
       "{'max_depth': 0.7690837839400911, 'n_estimators': 0.2309162160599089}"
      ]
     },
     "execution_count": 34,
     "metadata": {},
     "output_type": "execute_result"
    }
   ],
   "source": [
    "print('Best RF parameters: ', study.best_params)\n",
    "print('At trial: ', study.best_trial.number)\n",
    "print('Mean absolute error: ', study.best_value)\n",
    "print('\\nHyperparameter importances:')\n",
    "\n",
    "importances = optuna.importance.get_param_importances(study=study) #evaluator is the default, FanovaImportanceEvaluator\n",
    "importances\n",
    "\n"
   ]
  },
  {
   "cell_type": "markdown",
   "metadata": {},
   "source": [
    "So, for this data, we know the following about XGBoost's random forest: the best hyperparameters we could find were 100 trees with a max depth of 14; we were able to achieve a MAE of 0.33; and the max_depth parameter had a bigger effect on the outcome of the forest than the n_estimators parameter did. Compared to the range of values, that's not too shabby!:\n"
   ]
  },
  {
   "cell_type": "code",
   "execution_count": 35,
   "metadata": {},
   "outputs": [
    {
     "data": {
      "text/plain": [
       "count    2363.000000\n",
       "mean        5.483566\n",
       "std         1.125522\n",
       "min         1.281000\n",
       "25%         4.647000\n",
       "50%         5.449000\n",
       "75%         6.323500\n",
       "max         8.019000\n",
       "Name: Life Ladder, dtype: float64"
      ]
     },
     "execution_count": 35,
     "metadata": {},
     "output_type": "execute_result"
    }
   ],
   "source": [
    "df['Life Ladder'].describe()"
   ]
  },
  {
   "cell_type": "markdown",
   "metadata": {},
   "source": [
    "To really see Optuna in action, we can use a more complicated model: the neural network. Torch is a well-regarded library for setting those up.\n"
   ]
  },
  {
   "cell_type": "code",
   "execution_count": 36,
   "metadata": {},
   "outputs": [
    {
     "data": {
      "text/plain": [
       "device(type='cpu')"
      ]
     },
     "execution_count": 36,
     "metadata": {},
     "output_type": "execute_result"
    }
   ],
   "source": [
    "device = torch.device('cpu')\n",
    "if torch.cuda.is_available():\n",
    "    device = torch.device('cuda')\n",
    "\n",
    "device"
   ]
  },
  {
   "cell_type": "markdown",
   "metadata": {},
   "source": [
    "Torch calls its data structure 'tensors,' but it can only make them from numpy arrays rather than pandas series, so we need to do some conversion. The StandardScaler already converted our features to ndarray type, and with the targets we can just call `to_numpy()`:\n"
   ]
  },
  {
   "cell_type": "code",
   "execution_count": 37,
   "metadata": {},
   "outputs": [
    {
     "name": "stdout",
     "output_type": "stream",
     "text": [
      "torch.Size([1847, 9])\n"
     ]
    },
    {
     "data": {
      "text/plain": [
       "torch.Size([1847])"
      ]
     },
     "execution_count": 37,
     "metadata": {},
     "output_type": "execute_result"
    }
   ],
   "source": [
    "features_train_tensor = torch.from_numpy(features_train).float().to(device)\n",
    "features_test_tensor = torch.from_numpy(features_test).float().to(device)\n",
    "target_train_tensor = torch.from_numpy(target_train_scaled).float().to(device)\n",
    "target_test_tensor = torch.from_numpy(target_test_scaled).float().to(device)\n",
    "print(features_train_tensor.shape)\n",
    "target_train_tensor.shape"
   ]
  },
  {
   "cell_type": "markdown",
   "metadata": {},
   "source": [
    "Now we have to do something a little unique: we need to create a Torch neural network that also integrates Optuna's functionality.\n"
   ]
  },
  {
   "cell_type": "code",
   "execution_count": 38,
   "metadata": {},
   "outputs": [],
   "source": [
    "def define_nn(trial):\n",
    "    n_layers = trial.suggest_int(\"n_layers\", 1, 3)\n",
    "    layers = []\n",
    "\n",
    "    in_neurons = features_train_tensor.shape[1] #one input neuron for each feature\n",
    "\n",
    "    activation_name = trial.suggest_categorical(\"activation_function\", [\"ReLU\", \"LeakyReLU\", \"SiLU\"])\n",
    "    activation = getattr(nn, activation_name) #nn.ReLU(), nn.LeakyReLU(), or nn.SiLU() respectively\n",
    "\n",
    "    for i in range(n_layers):\n",
    "        out_neurons = trial.suggest_int(\"n_units_layer{}\".format(i), 3, 9)\n",
    "        layers.append(nn.Linear(in_neurons, out_neurons))\n",
    "        layers.append(activation())\n",
    "        drop_p = trial.suggest_float(\"dropout_layer{}\".format(i), 0.12, 0.5)\n",
    "        layers.append(nn.Dropout(drop_p))\n",
    "\n",
    "        in_neurons = out_neurons\n",
    "    layers.append(nn.Linear(in_neurons, 1))\n",
    "\n",
    "    return nn.Sequential(*layers)"
   ]
  },
  {
   "cell_type": "markdown",
   "metadata": {},
   "source": [
    "This function defines a Torch neural network where all of the following is determined by Optuna's trials:\n",
    "\n",
    "- the number of hidden layers (1 to 3 inclusive--the `range()` in the for loop adds the hidden layers, then we manually add one last layer without Dropout or an activation function at the end)\n",
    "- which activation function to use for the hidden layers (there are many, with ReLU being a common default to introduce nonlinearity to a model)\n",
    "- how many neurons to put in each layer (3 to 9 inclusive)--note that smaller layers can precede larger ones or vice-versa\n",
    "- what percentage of neurons are frozen by the dropout layer (a technique for preventing overfitting), from 12% to 50%\n",
    "\n",
    "Now we need our counterpart to `objective()` from the previous model. In this we'll introduce two more things for Optuna to play with: which optimizer to use, and the learning rate.\n"
   ]
  },
  {
   "cell_type": "code",
   "execution_count": 39,
   "metadata": {},
   "outputs": [],
   "source": [
    "epochs = 500\n",
    "def objective_nn(trial):\n",
    "    model = define_nn(trial).to(device)\n",
    "\n",
    "    #optimizers\n",
    "    optimizer_name = trial.suggest_categorical(\"optimizer\", [\"Adam\", \"SGD\", \"AdamW\"])\n",
    "    lr = trial.suggest_float(\"learning_rate\", 0.00001, 0.1, log=True)\n",
    "    optimizer = getattr(torch.optim, optimizer_name)(model.parameters(), lr=lr) #equivalent to calling torch.Adam(model.parameters(), lr=lr), generalized for all three options\n",
    "\n",
    "    loss_fn = nn.L1Loss()\n",
    "    #train the model\n",
    "    for epoch in range(epochs):\n",
    "        #training\n",
    "        model.train() # enables dropout if model.eval() is triggered\n",
    "        optimizer.zero_grad()\n",
    "        pred = model(features_train_tensor)\n",
    "\n",
    "        \n",
    "        #scaled loss for backpropagation\n",
    "        output = loss_fn(pred.squeeze(), target_train_tensor)\n",
    "        output.backward()\n",
    "        \n",
    "        optimizer.step()\n",
    "\n",
    "        #validation\n",
    "        model.eval() #disables dropout\n",
    "        with torch.no_grad():\n",
    "            val_pred = model(features_test_tensor)\n",
    "            # unscaled validation loss for reporting; have to convert back to numpy ndarrays for this\n",
    "            unscaled_pred = target_scaler.inverse_transform(val_pred.cpu().detach().numpy())\n",
    "            unscaled_target = target_scaler.inverse_transform(target_test_tensor.cpu().reshape(-1, 1).numpy())\n",
    "            val_loss = loss_fn(\n",
    "                #now we need to convert back to tensors\n",
    "                torch.tensor(unscaled_pred.squeeze()), \n",
    "                torch.tensor(unscaled_target.squeeze())\n",
    "                )\n",
    "\n",
    "        #report to optuna/pruning check\n",
    "            trial.report(val_loss, step=epoch)\n",
    "            if trial.should_prune():\n",
    "                raise optuna.exceptions.TrialPruned()\n",
    "    return val_loss\n"
   ]
  },
  {
   "cell_type": "markdown",
   "metadata": {},
   "source": [
    "Our neural network alternates between a round of training and a round of validation, reporting each validation to Optuna to see if it should be pruned.\n",
    "\n",
    "Let's run and see how it goes:\n"
   ]
  },
  {
   "cell_type": "code",
   "execution_count": 1,
   "metadata": {},
   "outputs": [
    {
     "ename": "NameError",
     "evalue": "name 'optuna' is not defined",
     "output_type": "error",
     "traceback": [
      "\u001b[0;31m---------------------------------------------------------------------------\u001b[0m",
      "\u001b[0;31mNameError\u001b[0m                                 Traceback (most recent call last)",
      "Cell \u001b[0;32mIn[1], line 1\u001b[0m\n\u001b[0;32m----> 1\u001b[0m nn_study \u001b[38;5;241m=\u001b[39m \u001b[43moptuna\u001b[49m\u001b[38;5;241m.\u001b[39mcreate_study()\n\u001b[1;32m      2\u001b[0m nn_study\u001b[38;5;241m.\u001b[39moptimize(objective_nn, n_trials\u001b[38;5;241m=\u001b[39m\u001b[38;5;241m100\u001b[39m)\n",
      "\u001b[0;31mNameError\u001b[0m: name 'optuna' is not defined"
     ]
    }
   ],
   "source": [
    "nn_study = optuna.create_study()\n",
    "nn_study.optimize(objective_nn, n_trials=100)"
   ]
  },
  {
   "cell_type": "code",
   "execution_count": 55,
   "metadata": {},
   "outputs": [
    {
     "name": "stdout",
     "output_type": "stream",
     "text": [
      "Best RF parameters:  {'n_layers': 1, 'activation_function': 'SiLU', 'n_units_layer0': 9, 'dropout_layer0': 0.35053354631764827, 'optimizer': 'AdamW', 'learning_rate': 0.04246170266674588}\n",
      "At trial:  60\n",
      "Mean absolute error:  0.3778667151927948\n",
      "\n",
      "Hyperparameter importances:\n"
     ]
    },
    {
     "data": {
      "text/plain": [
       "{'learning_rate': np.float64(0.2493201575202803),\n",
       " 'dropout_layer0': np.float64(0.23591516836217205),\n",
       " 'n_layers': np.float64(0.20077777771768687),\n",
       " 'optimizer': np.float64(0.20009997209902228),\n",
       " 'activation_function': np.float64(0.06419984026814193),\n",
       " 'n_units_layer0': np.float64(0.049687084032696505)}"
      ]
     },
     "execution_count": 55,
     "metadata": {},
     "output_type": "execute_result"
    }
   ],
   "source": [
    "print('Best RF parameters: ', nn_study.best_params)\n",
    "print('At trial: ', nn_study.best_trial.number)\n",
    "print('Mean absolute error: ', nn_study.best_value)\n",
    "print('\\nHyperparameter importances:')\n",
    "\n",
    "importances = optuna.importance.get_param_importances(study=nn_study) #evaluator is the default, FanovaImportanceEvaluator\n",
    "importances"
   ]
  },
  {
   "cell_type": "code",
   "execution_count": 6,
   "metadata": {},
   "outputs": [
    {
     "ename": "NameError",
     "evalue": "name 'data' is not defined",
     "output_type": "error",
     "traceback": [
      "\u001b[0;31m---------------------------------------------------------------------------\u001b[0m",
      "\u001b[0;31mNameError\u001b[0m                                 Traceback (most recent call last)",
      "Cell \u001b[0;32mIn[6], line 2\u001b[0m\n\u001b[1;32m      1\u001b[0m \u001b[38;5;66;03m# prediction function to calculate the happiness score\u001b[39;00m\n\u001b[0;32m----> 2\u001b[0m df \u001b[38;5;241m=\u001b[39m \u001b[43mdata\u001b[49m\u001b[38;5;241m.\u001b[39mcopy()\n\u001b[1;32m      3\u001b[0m \u001b[38;5;28;01mdef\u001b[39;00m \u001b[38;5;21mpredict_happiness\u001b[39m(country_name):\n\u001b[1;32m      4\u001b[0m     \u001b[38;5;124;03m\"\"\"\u001b[39;00m\n\u001b[1;32m      5\u001b[0m \u001b[38;5;124;03m    Predicts happiness score (Life Ladder) for a given country\u001b[39;00m\n\u001b[1;32m      6\u001b[0m \u001b[38;5;124;03m    based on its most recent available data.\u001b[39;00m\n\u001b[1;32m      7\u001b[0m \u001b[38;5;124;03m    \"\"\"\u001b[39;00m\n",
      "\u001b[0;31mNameError\u001b[0m: name 'data' is not defined"
     ]
    }
   ],
   "source": [
    "# prediction function to calculate the happiness score\n",
    "df = world_happiness_df.copy()\n",
    "def predict_happiness(country_name):\n",
    "    \"\"\"\n",
    "    Predicts happiness score (Life Ladder) for a given country\n",
    "    based on its most recent available data.\n",
    "    \"\"\"\n",
    "    # Get the most recent record for the selected country\n",
    "\n",
    "    country_data = df[df['Country name'] == country_name].sort_values('year', ascending=False).head(1)\n",
    "\n",
    "    if country_data.empty:\n",
    "        print(f\"❌ Country '{country_name}' not found in dataset.\")\n",
    "        return\n",
    "\n",
    "    # Prepare the input data (features only)\n",
    "    X_country = country_data[]\n",
    "    X_country_scaled = scaler.transform(X_country)\n",
    "\n",
    "    # Predict using the trained model\n",
    "    prediction = lr.predict(X_country_scaled)[0]\n",
    "\n",
    "    print(f\"🌍 Country: {country_name}\")\n",
    "    print(f\"🗓️ Year: {int(country_data['year'].values[0])}\")\n",
    "    print(f\"🔮 Predicted Happiness Score: {prediction:.2f}\")\n",
    "    return prediction\n",
    "\n",
    "# Example usage\n",
    "predict_happiness(\"India\")\n",
    "predict_happiness(\"Finland\")\n",
    "predict_happiness(\"United States\")\n"
   ]
  },
  {
   "cell_type": "markdown",
   "metadata": {},
   "source": [
    "We did eventually find a neural network architecture that outperformed the linear regression, but not the random forest. After 100 trials of 500 epochs, we've learned the following:\n",
    "\n",
    "- The ideal learning rate was about 0.42, which was the thing with the biggest impact on the results\n",
    "- The second-biggest impact was from the dropout percentage, which was 35% (or three of our nine features)\n",
    "- The number of layers and the optimizer also had a significant impact, with a single layer working best given our low feature count and AdamW being the optimizer for the strongest run\n",
    "- The specific activation function and the number of units in the hidden layer were relatively unimportant (in this set of trials SiLU and 9 units, respectively, but may change if trials are rerun).\n"
   ]
  },
  {
   "cell_type": "markdown",
   "metadata": {},
   "source": [
    "### Conclusion:\n",
    "\n",
    "Our analysis of the World Happiness Report (2005–2024) shows clear, consistent patterns:\n",
    "\n",
    "- Top drivers of happiness are economic prosperity (log GDP per capita), social support, and healthy life expectancy.\n",
    "\n",
    "- Governance quality matters: higher perceived corruption reliably associates with lower happiness.\n",
    "\n",
    "- Freedom to make life choices adds measurable uplift, while generosity and short-term affect metrics contribute modestly and less consistently across countries.\n",
    "\n",
    "- Geographic patterns persist—Nordic countries lead, while parts of Sub-Saharan Africa and South Asia score lower—yet outliers prove that strong social support and governance can offset limited wealth.\n",
    "\n",
    "- Policy takeaways: invest in public health, strengthen social safety nets, improve institutions and anti-corruption measures, and expand personal freedoms—these levers show the greatest return for national well-being.\n",
    "\n",
    "- Limitations: scores are self-reported and observational; correlations don’t prove causality, and some countries/years have missing or uneven coverage. Future work should incorporate panel/causal methods, regional controls, and additional governance/inequality features.\n"
   ]
  },
  {
   "cell_type": "markdown",
   "metadata": {},
   "source": []
  }
 ],
 "metadata": {
  "kernelspec": {
   "display_name": "base",
   "language": "python",
   "name": "python3"
  },
  "language_info": {
   "codemirror_mode": {
    "name": "ipython",
    "version": 3
   },
   "file_extension": ".py",
   "mimetype": "text/x-python",
   "name": "python",
   "nbconvert_exporter": "python",
   "pygments_lexer": "ipython3",
   "version": "3.10.9"
  }
 },
 "nbformat": 4,
 "nbformat_minor": 2
}
